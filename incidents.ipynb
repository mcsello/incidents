{
 "cells": [
  {
   "cell_type": "code",
   "execution_count": 1,
   "metadata": {
    "collapsed": true
   },
   "outputs": [],
   "source": [
    "import pandas as pd\n",
    "import numpy as np\n",
    "import re\n",
    "import matplotlib.pyplot as plt\n",
    "import seaborn as sns\n",
    "import time\n",
    "from sys import getsizeof\n",
    "%matplotlib inline"
   ]
  },
  {
   "cell_type": "code",
   "execution_count": 2,
   "metadata": {},
   "outputs": [
    {
     "name": "stderr",
     "output_type": "stream",
     "text": [
      "C:\\Users\\MaxVe\\Anaconda3\\lib\\site-packages\\sklearn\\cross_validation.py:41: DeprecationWarning: This module was deprecated in version 0.18 in favor of the model_selection module into which all the refactored classes and functions are moved. Also note that the interface of the new CV iterators are different from that of this module. This module will be removed in 0.20.\n",
      "  \"This module will be removed in 0.20.\", DeprecationWarning)\n"
     ]
    }
   ],
   "source": [
    "from sklearn.base import BaseEstimator, TransformerMixin\n",
    "from sklearn.svm import SVC, SVR\n",
    "from sklearn.preprocessing import StandardScaler\n",
    "from sklearn.feature_extraction.text import CountVectorizer\n",
    "from sklearn.model_selection import cross_val_score, train_test_split, RandomizedSearchCV, GridSearchCV\n",
    "from sklearn.metrics import log_loss, accuracy_score, classification_report, confusion_matrix, mean_squared_error\n",
    "import xgboost as xgb\n",
    "from nltk.stem.snowball import RussianStemmer\n",
    "from nltk.tokenize import word_tokenize\n",
    "from nltk.corpus import stopwords"
   ]
  },
  {
   "cell_type": "markdown",
   "metadata": {},
   "source": [
    "# DataBase exploration and cleaning"
   ]
  },
  {
   "cell_type": "code",
   "execution_count": 3,
   "metadata": {
    "collapsed": true
   },
   "outputs": [],
   "source": [
    "df = pd.read_excel('incidents from 2012.xlsx', skiprows=5)"
   ]
  },
  {
   "cell_type": "code",
   "execution_count": 4,
   "metadata": {},
   "outputs": [
    {
     "data": {
      "text/html": [
       "<div>\n",
       "<style>\n",
       "    .dataframe thead tr:only-child th {\n",
       "        text-align: right;\n",
       "    }\n",
       "\n",
       "    .dataframe thead th {\n",
       "        text-align: left;\n",
       "    }\n",
       "\n",
       "    .dataframe tbody tr th {\n",
       "        vertical-align: top;\n",
       "    }\n",
       "</style>\n",
       "<table border=\"1\" class=\"dataframe\">\n",
       "  <thead>\n",
       "    <tr style=\"text-align: right;\">\n",
       "      <th></th>\n",
       "      <th>Номер инцидента</th>\n",
       "      <th>Статус</th>\n",
       "      <th>Заявитель</th>\n",
       "      <th>Классификатор</th>\n",
       "      <th>Категория</th>\n",
       "      <th>Описание</th>\n",
       "      <th>Последний комментарий</th>\n",
       "      <th>Дата регистрации</th>\n",
       "      <th>Unnamed: 8</th>\n",
       "      <th>Закрыт</th>\n",
       "      <th>Департамент</th>\n",
       "      <th>Назначенная группа</th>\n",
       "      <th>Назначенный специалист</th>\n",
       "      <th>Вложений</th>\n",
       "    </tr>\n",
       "  </thead>\n",
       "  <tbody>\n",
       "    <tr>\n",
       "      <th>0</th>\n",
       "      <td>1565301</td>\n",
       "      <td>Закрыт</td>\n",
       "      <td>Воеводкин Олег Евгеньевич</td>\n",
       "      <td>SAP</td>\n",
       "      <td>Прочее</td>\n",
       "      <td>[voevodkin.oleg] Описание: Прошу разблокироват...</td>\n",
       "      <td>Разблокировал. Пароль сбросил на 123456. Олег,...</td>\n",
       "      <td>2012-01-04 12:32:51.917</td>\n",
       "      <td>NaN</td>\n",
       "      <td>2012-01-04 15:10:19.100</td>\n",
       "      <td>IT</td>\n",
       "      <td>IT_ERP_SAP</td>\n",
       "      <td>Маюков Павел Валериевич</td>\n",
       "      <td>0</td>\n",
       "    </tr>\n",
       "    <tr>\n",
       "      <th>1</th>\n",
       "      <td>1565520</td>\n",
       "      <td>Закрыт</td>\n",
       "      <td>Васильева Наталья Александровна_del</td>\n",
       "      <td>SAP</td>\n",
       "      <td>Прочее</td>\n",
       "      <td>прошу сменить пароль на вход в систему SAP;IP:...</td>\n",
       "      <td>Разблокировал. Пароль сброшен на 123456.</td>\n",
       "      <td>2012-01-04 13:30:19.487</td>\n",
       "      <td>NaN</td>\n",
       "      <td>2012-01-04 15:14:36.030</td>\n",
       "      <td>IT</td>\n",
       "      <td>IT_ERP_SAP</td>\n",
       "      <td>Маюков Павел Валериевич</td>\n",
       "      <td>0</td>\n",
       "    </tr>\n",
       "    <tr>\n",
       "      <th>2</th>\n",
       "      <td>1566472</td>\n",
       "      <td>Закрыт</td>\n",
       "      <td>Чупрунов Александр Александрович</td>\n",
       "      <td>SAP</td>\n",
       "      <td>Обучение/консультация</td>\n",
       "      <td>[chuprunov.aleksandr] Описание: При набивании ...</td>\n",
       "      <td>В момент ручного заполнения полей в САП, систе...</td>\n",
       "      <td>2012-01-04 16:21:38.673</td>\n",
       "      <td>NaN</td>\n",
       "      <td>2012-01-04 16:42:32.130</td>\n",
       "      <td>IT</td>\n",
       "      <td>IT_ERP_SAP</td>\n",
       "      <td>Дубровин Денис Владимирович</td>\n",
       "      <td>0</td>\n",
       "    </tr>\n",
       "  </tbody>\n",
       "</table>\n",
       "</div>"
      ],
      "text/plain": [
       "   Номер инцидента  Статус                            Заявитель Классификатор  \\\n",
       "0          1565301  Закрыт            Воеводкин Олег Евгеньевич           SAP   \n",
       "1          1565520  Закрыт  Васильева Наталья Александровна_del           SAP   \n",
       "2          1566472  Закрыт     Чупрунов Александр Александрович           SAP   \n",
       "\n",
       "               Категория                                           Описание  \\\n",
       "0                 Прочее  [voevodkin.oleg] Описание: Прошу разблокироват...   \n",
       "1                 Прочее  прошу сменить пароль на вход в систему SAP;IP:...   \n",
       "2  Обучение/консультация  [chuprunov.aleksandr] Описание: При набивании ...   \n",
       "\n",
       "                               Последний комментарий        Дата регистрации  \\\n",
       "0  Разблокировал. Пароль сбросил на 123456. Олег,... 2012-01-04 12:32:51.917   \n",
       "1           Разблокировал. Пароль сброшен на 123456. 2012-01-04 13:30:19.487   \n",
       "2  В момент ручного заполнения полей в САП, систе... 2012-01-04 16:21:38.673   \n",
       "\n",
       "   Unnamed: 8                  Закрыт Департамент Назначенная группа  \\\n",
       "0         NaN 2012-01-04 15:10:19.100          IT         IT_ERP_SAP   \n",
       "1         NaN 2012-01-04 15:14:36.030          IT         IT_ERP_SAP   \n",
       "2         NaN 2012-01-04 16:42:32.130          IT         IT_ERP_SAP   \n",
       "\n",
       "        Назначенный специалист  Вложений  \n",
       "0      Маюков Павел Валериевич         0  \n",
       "1      Маюков Павел Валериевич         0  \n",
       "2  Дубровин Денис Владимирович         0  "
      ]
     },
     "execution_count": 4,
     "metadata": {},
     "output_type": "execute_result"
    }
   ],
   "source": [
    "df.head(3)"
   ]
  },
  {
   "cell_type": "code",
   "execution_count": 5,
   "metadata": {},
   "outputs": [
    {
     "data": {
      "text/plain": [
       "array([ nan])"
      ]
     },
     "execution_count": 5,
     "metadata": {},
     "output_type": "execute_result"
    }
   ],
   "source": [
    "df['Unnamed: 8'].unique()"
   ]
  },
  {
   "cell_type": "code",
   "execution_count": 6,
   "metadata": {},
   "outputs": [
    {
     "data": {
      "text/html": [
       "<div>\n",
       "<style>\n",
       "    .dataframe thead tr:only-child th {\n",
       "        text-align: right;\n",
       "    }\n",
       "\n",
       "    .dataframe thead th {\n",
       "        text-align: left;\n",
       "    }\n",
       "\n",
       "    .dataframe tbody tr th {\n",
       "        vertical-align: top;\n",
       "    }\n",
       "</style>\n",
       "<table border=\"1\" class=\"dataframe\">\n",
       "  <thead>\n",
       "    <tr style=\"text-align: right;\">\n",
       "      <th></th>\n",
       "      <th>Номер инцидента</th>\n",
       "      <th>Статус</th>\n",
       "      <th>Заявитель</th>\n",
       "      <th>Классификатор</th>\n",
       "      <th>Категория</th>\n",
       "      <th>Описание</th>\n",
       "      <th>Последний комментарий</th>\n",
       "      <th>Дата регистрации</th>\n",
       "      <th>Unnamed: 8</th>\n",
       "      <th>Закрыт</th>\n",
       "      <th>Департамент</th>\n",
       "      <th>Назначенная группа</th>\n",
       "      <th>Назначенный специалист</th>\n",
       "      <th>Вложений</th>\n",
       "    </tr>\n",
       "  </thead>\n",
       "  <tbody>\n",
       "    <tr>\n",
       "      <th>0</th>\n",
       "      <td>1565301</td>\n",
       "      <td>Закрыт</td>\n",
       "      <td>Воеводкин Олег Евгеньевич</td>\n",
       "      <td>SAP</td>\n",
       "      <td>Прочее</td>\n",
       "      <td>[voevodkin.oleg] Описание: Прошу разблокироват...</td>\n",
       "      <td>Разблокировал. Пароль сбросил на 123456. Олег,...</td>\n",
       "      <td>2012-01-04 12:32:51.917</td>\n",
       "      <td>NaN</td>\n",
       "      <td>2012-01-04 15:10:19.100</td>\n",
       "      <td>IT</td>\n",
       "      <td>IT_ERP_SAP</td>\n",
       "      <td>Маюков Павел Валериевич</td>\n",
       "      <td>0</td>\n",
       "    </tr>\n",
       "    <tr>\n",
       "      <th>1</th>\n",
       "      <td>1565520</td>\n",
       "      <td>Закрыт</td>\n",
       "      <td>Васильева Наталья Александровна_del</td>\n",
       "      <td>SAP</td>\n",
       "      <td>Прочее</td>\n",
       "      <td>прошу сменить пароль на вход в систему SAP;IP:...</td>\n",
       "      <td>Разблокировал. Пароль сброшен на 123456.</td>\n",
       "      <td>2012-01-04 13:30:19.487</td>\n",
       "      <td>NaN</td>\n",
       "      <td>2012-01-04 15:14:36.030</td>\n",
       "      <td>IT</td>\n",
       "      <td>IT_ERP_SAP</td>\n",
       "      <td>Маюков Павел Валериевич</td>\n",
       "      <td>0</td>\n",
       "    </tr>\n",
       "    <tr>\n",
       "      <th>2</th>\n",
       "      <td>1566472</td>\n",
       "      <td>Закрыт</td>\n",
       "      <td>Чупрунов Александр Александрович</td>\n",
       "      <td>SAP</td>\n",
       "      <td>Обучение/консультация</td>\n",
       "      <td>[chuprunov.aleksandr] Описание: При набивании ...</td>\n",
       "      <td>В момент ручного заполнения полей в САП, систе...</td>\n",
       "      <td>2012-01-04 16:21:38.673</td>\n",
       "      <td>NaN</td>\n",
       "      <td>2012-01-04 16:42:32.130</td>\n",
       "      <td>IT</td>\n",
       "      <td>IT_ERP_SAP</td>\n",
       "      <td>Дубровин Денис Владимирович</td>\n",
       "      <td>0</td>\n",
       "    </tr>\n",
       "  </tbody>\n",
       "</table>\n",
       "</div>"
      ],
      "text/plain": [
       "   Номер инцидента  Статус                            Заявитель Классификатор  \\\n",
       "0          1565301  Закрыт            Воеводкин Олег Евгеньевич           SAP   \n",
       "1          1565520  Закрыт  Васильева Наталья Александровна_del           SAP   \n",
       "2          1566472  Закрыт     Чупрунов Александр Александрович           SAP   \n",
       "\n",
       "               Категория                                           Описание  \\\n",
       "0                 Прочее  [voevodkin.oleg] Описание: Прошу разблокироват...   \n",
       "1                 Прочее  прошу сменить пароль на вход в систему SAP;IP:...   \n",
       "2  Обучение/консультация  [chuprunov.aleksandr] Описание: При набивании ...   \n",
       "\n",
       "                               Последний комментарий        Дата регистрации  \\\n",
       "0  Разблокировал. Пароль сбросил на 123456. Олег,... 2012-01-04 12:32:51.917   \n",
       "1           Разблокировал. Пароль сброшен на 123456. 2012-01-04 13:30:19.487   \n",
       "2  В момент ручного заполнения полей в САП, систе... 2012-01-04 16:21:38.673   \n",
       "\n",
       "   Unnamed: 8                  Закрыт Департамент Назначенная группа  \\\n",
       "0         NaN 2012-01-04 15:10:19.100          IT         IT_ERP_SAP   \n",
       "1         NaN 2012-01-04 15:14:36.030          IT         IT_ERP_SAP   \n",
       "2         NaN 2012-01-04 16:42:32.130          IT         IT_ERP_SAP   \n",
       "\n",
       "        Назначенный специалист  Вложений  \n",
       "0      Маюков Павел Валериевич         0  \n",
       "1      Маюков Павел Валериевич         0  \n",
       "2  Дубровин Денис Владимирович         0  "
      ]
     },
     "execution_count": 6,
     "metadata": {},
     "output_type": "execute_result"
    }
   ],
   "source": [
    "df.head(3)"
   ]
  },
  {
   "cell_type": "code",
   "execution_count": 7,
   "metadata": {
    "collapsed": true
   },
   "outputs": [],
   "source": [
    "df = df.drop(['Статус', 'Unnamed: 8', 'Департамент'], axis=1)"
   ]
  },
  {
   "cell_type": "code",
   "execution_count": 8,
   "metadata": {
    "collapsed": true
   },
   "outputs": [],
   "source": [
    "df.columns = ['incident_id', 'applicant', 'classifier', 'category', 'description', 'comment', \\\n",
    "              'opened', 'closed', 'support_group', 'specialist', 'attachments']"
   ]
  },
  {
   "cell_type": "code",
   "execution_count": 9,
   "metadata": {},
   "outputs": [
    {
     "data": {
      "text/html": [
       "<div>\n",
       "<style>\n",
       "    .dataframe thead tr:only-child th {\n",
       "        text-align: right;\n",
       "    }\n",
       "\n",
       "    .dataframe thead th {\n",
       "        text-align: left;\n",
       "    }\n",
       "\n",
       "    .dataframe tbody tr th {\n",
       "        vertical-align: top;\n",
       "    }\n",
       "</style>\n",
       "<table border=\"1\" class=\"dataframe\">\n",
       "  <thead>\n",
       "    <tr style=\"text-align: right;\">\n",
       "      <th></th>\n",
       "      <th>incident_id</th>\n",
       "      <th>applicant</th>\n",
       "      <th>classifier</th>\n",
       "      <th>category</th>\n",
       "      <th>description</th>\n",
       "      <th>comment</th>\n",
       "      <th>opened</th>\n",
       "      <th>closed</th>\n",
       "      <th>support_group</th>\n",
       "      <th>specialist</th>\n",
       "      <th>attachments</th>\n",
       "    </tr>\n",
       "  </thead>\n",
       "  <tbody>\n",
       "    <tr>\n",
       "      <th>0</th>\n",
       "      <td>1565301</td>\n",
       "      <td>Воеводкин Олег Евгеньевич</td>\n",
       "      <td>SAP</td>\n",
       "      <td>Прочее</td>\n",
       "      <td>[voevodkin.oleg] Описание: Прошу разблокироват...</td>\n",
       "      <td>Разблокировал. Пароль сбросил на 123456. Олег,...</td>\n",
       "      <td>2012-01-04 12:32:51.917</td>\n",
       "      <td>2012-01-04 15:10:19.100</td>\n",
       "      <td>IT_ERP_SAP</td>\n",
       "      <td>Маюков Павел Валериевич</td>\n",
       "      <td>0</td>\n",
       "    </tr>\n",
       "    <tr>\n",
       "      <th>1</th>\n",
       "      <td>1565520</td>\n",
       "      <td>Васильева Наталья Александровна_del</td>\n",
       "      <td>SAP</td>\n",
       "      <td>Прочее</td>\n",
       "      <td>прошу сменить пароль на вход в систему SAP;IP:...</td>\n",
       "      <td>Разблокировал. Пароль сброшен на 123456.</td>\n",
       "      <td>2012-01-04 13:30:19.487</td>\n",
       "      <td>2012-01-04 15:14:36.030</td>\n",
       "      <td>IT_ERP_SAP</td>\n",
       "      <td>Маюков Павел Валериевич</td>\n",
       "      <td>0</td>\n",
       "    </tr>\n",
       "    <tr>\n",
       "      <th>2</th>\n",
       "      <td>1566472</td>\n",
       "      <td>Чупрунов Александр Александрович</td>\n",
       "      <td>SAP</td>\n",
       "      <td>Обучение/консультация</td>\n",
       "      <td>[chuprunov.aleksandr] Описание: При набивании ...</td>\n",
       "      <td>В момент ручного заполнения полей в САП, систе...</td>\n",
       "      <td>2012-01-04 16:21:38.673</td>\n",
       "      <td>2012-01-04 16:42:32.130</td>\n",
       "      <td>IT_ERP_SAP</td>\n",
       "      <td>Дубровин Денис Владимирович</td>\n",
       "      <td>0</td>\n",
       "    </tr>\n",
       "  </tbody>\n",
       "</table>\n",
       "</div>"
      ],
      "text/plain": [
       "   incident_id                            applicant classifier  \\\n",
       "0      1565301            Воеводкин Олег Евгеньевич        SAP   \n",
       "1      1565520  Васильева Наталья Александровна_del        SAP   \n",
       "2      1566472     Чупрунов Александр Александрович        SAP   \n",
       "\n",
       "                category                                        description  \\\n",
       "0                 Прочее  [voevodkin.oleg] Описание: Прошу разблокироват...   \n",
       "1                 Прочее  прошу сменить пароль на вход в систему SAP;IP:...   \n",
       "2  Обучение/консультация  [chuprunov.aleksandr] Описание: При набивании ...   \n",
       "\n",
       "                                             comment                  opened  \\\n",
       "0  Разблокировал. Пароль сбросил на 123456. Олег,... 2012-01-04 12:32:51.917   \n",
       "1           Разблокировал. Пароль сброшен на 123456. 2012-01-04 13:30:19.487   \n",
       "2  В момент ручного заполнения полей в САП, систе... 2012-01-04 16:21:38.673   \n",
       "\n",
       "                   closed support_group                   specialist  \\\n",
       "0 2012-01-04 15:10:19.100    IT_ERP_SAP      Маюков Павел Валериевич   \n",
       "1 2012-01-04 15:14:36.030    IT_ERP_SAP      Маюков Павел Валериевич   \n",
       "2 2012-01-04 16:42:32.130    IT_ERP_SAP  Дубровин Денис Владимирович   \n",
       "\n",
       "   attachments  \n",
       "0            0  \n",
       "1            0  \n",
       "2            0  "
      ]
     },
     "execution_count": 9,
     "metadata": {},
     "output_type": "execute_result"
    }
   ],
   "source": [
    "df.head(3)"
   ]
  },
  {
   "cell_type": "code",
   "execution_count": 10,
   "metadata": {},
   "outputs": [
    {
     "name": "stdout",
     "output_type": "stream",
     "text": [
      "<class 'pandas.core.frame.DataFrame'>\n",
      "RangeIndex: 32079 entries, 0 to 32078\n",
      "Data columns (total 11 columns):\n",
      "incident_id      32079 non-null int64\n",
      "applicant        32073 non-null object\n",
      "classifier       32079 non-null object\n",
      "category         32079 non-null object\n",
      "description      32079 non-null object\n",
      "comment          31960 non-null object\n",
      "opened           32079 non-null datetime64[ns]\n",
      "closed           32079 non-null datetime64[ns]\n",
      "support_group    32079 non-null object\n",
      "specialist       28241 non-null object\n",
      "attachments      32079 non-null int64\n",
      "dtypes: datetime64[ns](2), int64(2), object(7)\n",
      "memory usage: 2.7+ MB\n"
     ]
    }
   ],
   "source": [
    "df.info()"
   ]
  },
  {
   "cell_type": "code",
   "execution_count": 11,
   "metadata": {},
   "outputs": [
    {
     "data": {
      "text/html": [
       "<div>\n",
       "<style>\n",
       "    .dataframe thead tr:only-child th {\n",
       "        text-align: right;\n",
       "    }\n",
       "\n",
       "    .dataframe thead th {\n",
       "        text-align: left;\n",
       "    }\n",
       "\n",
       "    .dataframe tbody tr th {\n",
       "        vertical-align: top;\n",
       "    }\n",
       "</style>\n",
       "<table border=\"1\" class=\"dataframe\">\n",
       "  <thead>\n",
       "    <tr style=\"text-align: right;\">\n",
       "      <th></th>\n",
       "      <th>incident_id</th>\n",
       "      <th>attachments</th>\n",
       "    </tr>\n",
       "  </thead>\n",
       "  <tbody>\n",
       "    <tr>\n",
       "      <th>count</th>\n",
       "      <td>3.207900e+04</td>\n",
       "      <td>32079.000000</td>\n",
       "    </tr>\n",
       "    <tr>\n",
       "      <th>mean</th>\n",
       "      <td>7.292592e+06</td>\n",
       "      <td>0.230836</td>\n",
       "    </tr>\n",
       "    <tr>\n",
       "      <th>std</th>\n",
       "      <td>2.759946e+06</td>\n",
       "      <td>0.612688</td>\n",
       "    </tr>\n",
       "    <tr>\n",
       "      <th>min</th>\n",
       "      <td>1.565301e+06</td>\n",
       "      <td>0.000000</td>\n",
       "    </tr>\n",
       "    <tr>\n",
       "      <th>25%</th>\n",
       "      <td>5.153027e+06</td>\n",
       "      <td>0.000000</td>\n",
       "    </tr>\n",
       "    <tr>\n",
       "      <th>50%</th>\n",
       "      <td>7.867202e+06</td>\n",
       "      <td>0.000000</td>\n",
       "    </tr>\n",
       "    <tr>\n",
       "      <th>75%</th>\n",
       "      <td>9.539087e+06</td>\n",
       "      <td>0.000000</td>\n",
       "    </tr>\n",
       "    <tr>\n",
       "      <th>max</th>\n",
       "      <td>1.169513e+07</td>\n",
       "      <td>18.000000</td>\n",
       "    </tr>\n",
       "  </tbody>\n",
       "</table>\n",
       "</div>"
      ],
      "text/plain": [
       "        incident_id   attachments\n",
       "count  3.207900e+04  32079.000000\n",
       "mean   7.292592e+06      0.230836\n",
       "std    2.759946e+06      0.612688\n",
       "min    1.565301e+06      0.000000\n",
       "25%    5.153027e+06      0.000000\n",
       "50%    7.867202e+06      0.000000\n",
       "75%    9.539087e+06      0.000000\n",
       "max    1.169513e+07     18.000000"
      ]
     },
     "execution_count": 11,
     "metadata": {},
     "output_type": "execute_result"
    }
   ],
   "source": [
    "df.describe()"
   ]
  },
  {
   "cell_type": "code",
   "execution_count": 12,
   "metadata": {
    "collapsed": true
   },
   "outputs": [],
   "source": [
    "df_length = df.shape[0]"
   ]
  },
  {
   "cell_type": "code",
   "execution_count": 13,
   "metadata": {},
   "outputs": [
    {
     "data": {
      "text/plain": [
       "32079"
      ]
     },
     "execution_count": 13,
     "metadata": {},
     "output_type": "execute_result"
    }
   ],
   "source": [
    "df_length"
   ]
  },
  {
   "cell_type": "code",
   "execution_count": 14,
   "metadata": {},
   "outputs": [
    {
     "data": {
      "text/plain": [
       "array(['SAP', 'MDM', 'прочее', 'сист. блок ', '1С', 'Инвентаризация',\n",
       "       'Код на инвентаризацию', '1С Доступ', 'Установка',\n",
       "       'Блокировка движения в САП', 'Assyst', 'ОЛАП',\n",
       "       'Запрос пакета документов по аренде', 'Неверная цена', 'MDM Доступ',\n",
       "       '1С УСО', 'Hyperion (Аренда, Ритейл)', 'BI', 'Проблемы с ТСД', 'ТБ',\n",
       "       'Продажа', '1С АКТИВАЦИЯ', 'не отображаются страницы',\n",
       "       'Расхождение (z-отчет-ЛП)', 'Исправление отрицательных остатков',\n",
       "       'ЭКВАЙРИНГ', 'Возврат', 'Расхождение при приёмке товара со Склада',\n",
       "       'Перемещение товара', 'Пересчёт товара по расхождениям',\n",
       "       'Отсутствие инфо-записи в SAP', 'Сетевые папки',\n",
       "       'ЦСХ  Прием товара',\n",
       "       'Отчеты по выполнению планов (все направления)', 'ФБ',\n",
       "       'Описание для ERP', 'Некорректная поставка в SAP',\n",
       "       'Нет расходной накладной с ОП в SAP', 'VPN', 'Web-отчёты', 'НСИ',\n",
       "       'ЦБ', 'открыть доступ во внешнюю сеть', 'IP телефон ', 'Отчеты',\n",
       "       'Портал', 'По Достаточности', 'Рассылки', 'Заказ оборудования',\n",
       "       'ЦСХ Отгрузка товара', 'ЦСХ ОКиХ', 'Хранилище данных', 'Шина',\n",
       "       'OLAP', 'Запасы', 'MS Office',\n",
       "       'работы с инцидентами на фазах ИС/УП', 'Прочее',\n",
       "       'Предоставление и установка ИТ оборудования', 'WI-FI', 'Закупки',\n",
       "       'Техподдержка OEBS', 'Регистрация IP телефона', 'Монитор',\n",
       "       'Проблемы с доступом', 'Web-отчеты msk-report01',\n",
       "       'Движение товара в ОП', 'Отсутствие поставки в SAP', 'Окна/двери',\n",
       "       'Расхождение по кол-ву ГМ', 'Рабочие смены: открытие/закрыт',\n",
       "       '\"СЭД\" Система электронного документооборота ',\n",
       "       'Внесение поставщик/заказчиков', 'Кредиторы',\n",
       "       'Инвентаризация товара', '1C Учет платежей', 'Прочие программы',\n",
       "       'Наборы значений', 'Выгрузка данных', 'Авария на складе',\n",
       "       '1Резервы', '1С Товародвижение', 'Портальное решение РТК',\n",
       "       'Печатающее оборудование д/БО', 'Исправление ЛП в SAP',\n",
       "       'изменение параметров почтового ящика',\n",
       "       'Проблема с учет. зап. AD РТК ', 'Oтчетность', 'Электронная почта',\n",
       "       'Расхождение при приеме товара на Складе из ОП',\n",
       "       'Операции: Возврат, Обмен', 'По коммерческим показателям',\n",
       "       'Определить номенкл. позицию', 'Дебиторы'], dtype=object)"
      ]
     },
     "execution_count": 14,
     "metadata": {},
     "output_type": "execute_result"
    }
   ],
   "source": [
    "df.classifier.unique()"
   ]
  },
  {
   "cell_type": "code",
   "execution_count": 15,
   "metadata": {},
   "outputs": [
    {
     "data": {
      "text/plain": [
       "94"
      ]
     },
     "execution_count": 15,
     "metadata": {},
     "output_type": "execute_result"
    }
   ],
   "source": [
    "df.classifier.unique().size"
   ]
  },
  {
   "cell_type": "code",
   "execution_count": 16,
   "metadata": {},
   "outputs": [
    {
     "data": {
      "text/plain": [
       "array([' (GSM, Portable, АCC, POSM)', 'Acce', 'BI', 'BI отчеты РТК',\n",
       "       'FileNet', 'GSM', 'GSM, Portable, ACC, POSM', 'MS Office',\n",
       "       'OEBS. Ошибки', 'OEBS. Технические проблемы', 'SIM Самара',\n",
       "       'SIM Сибирь', 'SIM Урал', 'SIM Центр', 'SIM Юг', 'Авария на складе',\n",
       "       'Анализ новых треб к доработкам', 'Блокировка движения в САП',\n",
       "       'Внес инф в OEBS о новом покупа', 'Внутрискладские перемещени ТМЦ',\n",
       "       'Восстановление БД', 'Выгрузить ЛП за опред.дату',\n",
       "       'Вып. прочих транзакций, исправ', 'Данные не обновлены ',\n",
       "       'Добавить в сущ группу рассылки', 'Добавление в Набор значений',\n",
       "       'Договор аренды', 'Доработка Web-форм',\n",
       "       'Доработка кубов/согл заявки CQ', 'Доработка отчет',\n",
       "       'Доработка отчета', 'Доработка проектной документац',\n",
       "       'Доработка расчетов', 'Доработка функциональности', 'Доступ',\n",
       "       'Доступ 5 и более пользователей', 'Доступ к Web-отчетам msk-repor',\n",
       "       'Доступ к роли', 'Доступ к сетевым папкам',\n",
       "       'Доступ к узлам портала', 'Другие вопросы ', 'Другое',\n",
       "       'Загрузить ЛП в ERP', 'Загрузка/перегрузка  ЛП (плат)',\n",
       "       'Загрузка_ЛП_SUPPORT_POSDM', 'Заказчики', 'Заказы',\n",
       "       'Замена личинок замков', 'Замена на более производительн',\n",
       "       'Зарегистрировать телефон', 'Заявки', 'Изменение параметров п\\\\я',\n",
       "       'Изменение роли', 'Изменить статус idoc', 'Инкассация',\n",
       "       'Исправ. возврата за пред. пер.', 'Исправление',\n",
       "       'Исправление ЛП в SAP', 'Исправление ЛП в ФБ',\n",
       "       'Исправление отриц остатков', 'КЦ ИТ Адм. Unix платформ',\n",
       "       'КЦ ИТ Адм. Unix сервисов', 'КЦ ИТ Адм. СУБД Oracle',\n",
       "       'КЦ ИТ Адм. инфр. AD, DNS', 'КЦ ИТ Адм. инфр. Exchange РТК',\n",
       "       'КЦ ИТ Адм. платформ/сер Vmware', 'КЦ ИТ Экспл. сервисов AD, DNS',\n",
       "       'Код на инвентаризацию', 'Консультация/запрос инф/обр-ка',\n",
       "       'Критическая ошибка', 'ЛП нет в хранилище',\n",
       "       'Мониторинг цен конкурентов', 'Мониторинг цен не работает',\n",
       "       'Настройка безопасности', 'Не выгружается ЛП',\n",
       "       'Не загружается ЛП в SAP POSDM', 'Не корректно проведена  инвент',\n",
       "       'Не открывается', 'Не открывается отчёт', 'Не правильно заведен ШК',\n",
       "       'Не работает', 'Не работает/Медленно работает', 'Не списались HLR',\n",
       "       'Неверная цена', 'Неверные данные в хранилище',\n",
       "       'Невозможно закрыть смену', 'Некор данные в снимке остатков',\n",
       "       'Некорректно работает', 'Некорректно работает портал',\n",
       "       'Некорректные данные', 'Некорректные данные в Кубах',\n",
       "       'Некорректные данные(ошибки)', 'Нет расходной накл с  ОП в SAP',\n",
       "       'Нет резерва/накладной', 'Новый ОП', 'Обучение/консультация',\n",
       "       'Описание для ERP', 'Определить номер/позицю ОС/ТМЦ',\n",
       "       'Организационные вопросы', 'Ошибка обновления остатков',\n",
       "       'Ошибка обновления – прочее', 'ПРОБЛЕМЫ С ТСД', 'Пересчёт',\n",
       "       'Плохое качество связи', 'Поставщики', 'Предоставить доступ в SAP',\n",
       "       'Предоставить доступ к Assyst', 'Предоставл.доступа(штат.сотр)',\n",
       "       'Предоставление Отчета', 'Предоставление и установка ИТ',\n",
       "       'Проблема с инвент товара', 'Проблема с перемещениями',\n",
       "       'Проблема с приёмом в ремонт', 'Проблемы с 1С Активация',\n",
       "       'Проблемы с 1С НСИ', 'Проблемы с 1С ТБ', 'Проблемы с 1С УСО',\n",
       "       'Проблемы с 1С ФБ', 'Проблемы с 1С ЦБ',\n",
       "       'Проблемы с 1С:Товародвижение', 'Проблемы с учетной записью АД ',\n",
       "       'Произвольное обращение', 'Пропал доступ, ошибки при под',\n",
       "       'Профилактика БД', 'Прочее', 'Прочее (расхож в остатках)',\n",
       "       'РН не проводится', 'Расхождение', 'Расхождение в выручке (налич)',\n",
       "       'Расхождение данных MDM-НСИ', 'Расхождение по кол-ву ГМ',\n",
       "       'Расхождение при приёме товара', 'Расхождение при приёмке товара',\n",
       "       'Расширение материалов в SAP', 'Ребрендинг', 'Сбросить пароль SAP',\n",
       "       'Серии присвоен не прав артикул', 'Создание/Изменение ролей в SAP',\n",
       "       'Сформировать выгрузку', 'Технические проблемы',\n",
       "       'Товар завис в 916 зоне', 'Установка', 'Установка системы SAP GUI',\n",
       "       'Устранить расхождение', 'Физическая неисправность МФУ',\n",
       "       'исследование и передача пробле', 'не отображаются страницы',\n",
       "       'некорректные данные', 'нет данных о номенклатуре в ТБ',\n",
       "       'создать инфо-запись'], dtype=object)"
      ]
     },
     "execution_count": 16,
     "metadata": {},
     "output_type": "execute_result"
    }
   ],
   "source": [
    "df.category.sort_values().unique()"
   ]
  },
  {
   "cell_type": "code",
   "execution_count": 17,
   "metadata": {},
   "outputs": [
    {
     "data": {
      "text/plain": [
       "150"
      ]
     },
     "execution_count": 17,
     "metadata": {},
     "output_type": "execute_result"
    }
   ],
   "source": [
    "df.category.unique().size"
   ]
  },
  {
   "cell_type": "code",
   "execution_count": 18,
   "metadata": {},
   "outputs": [
    {
     "data": {
      "text/plain": [
       "array(['IT_ERP_SAP', 'IT_ERP_MDM', 'IT_ERP_HYPERION', 'IT_ERP_BI',\n",
       "       'IT_ERP_ESB', 'IT_ERP_POSDM', 'IT_ERP_DWH'], dtype=object)"
      ]
     },
     "execution_count": 18,
     "metadata": {},
     "output_type": "execute_result"
    }
   ],
   "source": [
    "df.support_group.unique()"
   ]
  },
  {
   "cell_type": "code",
   "execution_count": 19,
   "metadata": {},
   "outputs": [
    {
     "data": {
      "text/plain": [
       "7"
      ]
     },
     "execution_count": 19,
     "metadata": {},
     "output_type": "execute_result"
    }
   ],
   "source": [
    "df.support_group.unique().size"
   ]
  },
  {
   "cell_type": "code",
   "execution_count": 20,
   "metadata": {},
   "outputs": [
    {
     "data": {
      "text/plain": [
       "array(['Маюков Павел Валериевич', 'Дубровин Денис Владимирович', nan,\n",
       "       'Кудряшов Максим Владимирович', 'Изотова Карина Анатольевна',\n",
       "       'Ковалёв Дмитрий Алексеевич', 'Залетов Владимир Юрьевич',\n",
       "       'Васин Александр Сергеевич', 'Мастерова Татьяна Владимировна',\n",
       "       'Севрюков Александр Михайлович', 'Быстрицкая Элина Юрьевна',\n",
       "       'Кордий Светлана Александровна', 'Шкаирзянова Альбина Владиленовна',\n",
       "       'Свирин Андрей Васильевич', 'Толстых Денис Александрович',\n",
       "       'Зангиева Залина Вячеславовна', 'Макаров Илья Николаевич',\n",
       "       'Богдан Фёдор Сергеевич', 'Рогозин Александр Валерьевич',\n",
       "       'Шведков Артем Евгеньевич', 'Садиков Иван Игоревич',\n",
       "       'Ермоленко Александр Николаевич', 'Задорожный Арсений Андреевич',\n",
       "       'Наумов Андрей Витальевич', 'Грязнов Александр Дмитриевич',\n",
       "       'Баданин Василий Павлович', 'Репников Евгений Александрович',\n",
       "       'Дубовой Александр Александрович', '111', 'Алиев Тимур Эркинович',\n",
       "       'Хомяков Илья Геннадьевич', 'Дорожкин Николай Александрович',\n",
       "       'Долоб Виктор Николаевич', 'Горский Дмитрий Иванович',\n",
       "       'Голубцова Светлана Валериевна', 'Пономарев Алексей Юрьевич',\n",
       "       'Зубов Николай Алексадрович', 'Васильев Александр Владимирович',\n",
       "       'Ким Алексей Анатольевич', 'Семенов Илья Борисович',\n",
       "       'Кузема Ирина Евгеньевна', 'Белотелов Денис Игоревич',\n",
       "       'Тартынский Андрей Юрьевич', 'Соклаков Родион Эдуардович',\n",
       "       'Хамитов Радик Раилевич', 'Насонова Оксана Геннадьевна',\n",
       "       'Галкина Елена Геннадьевна', 'Куваев Алексей Александрович',\n",
       "       'Трофимов Денис Николаевич', 'Ваньков Иван Васильевич',\n",
       "       'Володина Галина Юрьвна', 'Овчаренко Дмитрий Александрович',\n",
       "       'Магер Михаил Викторович', 'Голубев Максим Анатольевич',\n",
       "       'Кузёма Анастасия Евгеньевна'], dtype=object)"
      ]
     },
     "execution_count": 20,
     "metadata": {},
     "output_type": "execute_result"
    }
   ],
   "source": [
    "df.specialist.unique()"
   ]
  },
  {
   "cell_type": "code",
   "execution_count": 21,
   "metadata": {},
   "outputs": [
    {
     "data": {
      "text/plain": [
       "55"
      ]
     },
     "execution_count": 21,
     "metadata": {},
     "output_type": "execute_result"
    }
   ],
   "source": [
    "df.specialist.unique().size"
   ]
  },
  {
   "cell_type": "code",
   "execution_count": 22,
   "metadata": {},
   "outputs": [
    {
     "name": "stdout",
     "output_type": "stream",
     "text": [
      "2012-01-04 12:32:51.917000\n",
      "2012-01-04 15:10:19.100000\n",
      "2017-09-24 17:08:46.610000\n",
      "2017-09-25 09:11:47.183000\n"
     ]
    }
   ],
   "source": [
    "print(df.opened.min())\n",
    "print(df.closed.min())\n",
    "print(df.opened.max())\n",
    "print(df.closed.max())"
   ]
  },
  {
   "cell_type": "code",
   "execution_count": 23,
   "metadata": {},
   "outputs": [
    {
     "name": "stdout",
     "output_type": "stream",
     "text": [
      "0 days 00:00:09.464000\n",
      "691 days 03:25:16.993000\n"
     ]
    }
   ],
   "source": [
    "print((df.closed - df.opened).min())\n",
    "print((df.closed - df.opened).max())"
   ]
  },
  {
   "cell_type": "code",
   "execution_count": 24,
   "metadata": {},
   "outputs": [
    {
     "data": {
      "text/plain": [
       "pandas._libs.tslib.Timestamp"
      ]
     },
     "execution_count": 24,
     "metadata": {},
     "output_type": "execute_result"
    }
   ],
   "source": [
    "type(df.closed[0])"
   ]
  },
  {
   "cell_type": "code",
   "execution_count": 25,
   "metadata": {
    "collapsed": true
   },
   "outputs": [],
   "source": [
    "def datestr_to_int(s):\n",
    "    return pd.to_datetime(s).value"
   ]
  },
  {
   "cell_type": "code",
   "execution_count": 26,
   "metadata": {},
   "outputs": [
    {
     "name": "stdout",
     "output_type": "stream",
     "text": [
      "one day is 86400000000000\n",
      "one hour is 3600000000000\n"
     ]
    }
   ],
   "source": [
    "one_day = datestr_to_int('2016-09-12') - datestr_to_int('2016-09-11')\n",
    "one_hour = one_day // 24\n",
    "print('one day is', one_day)\n",
    "print('one hour is', one_hour)"
   ]
  },
  {
   "cell_type": "code",
   "execution_count": 27,
   "metadata": {
    "collapsed": true
   },
   "outputs": [],
   "source": [
    "df['solve_hours'] = (df.closed - df.opened).map(lambda s: s.value // one_hour)\n",
    "df['solve_days'] = (df.closed - df.opened).map(lambda s: s.value // one_day)"
   ]
  },
  {
   "cell_type": "code",
   "execution_count": 28,
   "metadata": {},
   "outputs": [
    {
     "data": {
      "text/plain": [
       "(array([  2.85340000e+04,   1.43100000e+03,   7.11000000e+02,\n",
       "          4.34000000e+02,   2.16000000e+02,   1.43000000e+02,\n",
       "          1.15000000e+02,   8.70000000e+01,   5.00000000e+01,\n",
       "          4.70000000e+01,   4.40000000e+01,   3.00000000e+01,\n",
       "          2.40000000e+01,   2.10000000e+01,   1.80000000e+01,\n",
       "          1.20000000e+01,   1.10000000e+01,   2.70000000e+01,\n",
       "          8.00000000e+00,   1.30000000e+01,   1.10000000e+01,\n",
       "          6.00000000e+00,   5.00000000e+00,   7.00000000e+00,\n",
       "          3.00000000e+00,   5.00000000e+00,   1.00000000e+00,\n",
       "          2.00000000e+00,   3.00000000e+00,   2.00000000e+00,\n",
       "          2.00000000e+00,   3.00000000e+00,   2.00000000e+00,\n",
       "          6.00000000e+00,   1.00000000e+00,   1.00000000e+00,\n",
       "          1.00000000e+00,   1.00000000e+00,   1.00000000e+00,\n",
       "          4.00000000e+00,   1.00000000e+00,   0.00000000e+00,\n",
       "          2.00000000e+00,   1.00000000e+00,   0.00000000e+00,\n",
       "          1.00000000e+00,   2.00000000e+00,   1.00000000e+00,\n",
       "          1.00000000e+00,   3.00000000e+00,   0.00000000e+00,\n",
       "          1.00000000e+00,   0.00000000e+00,   0.00000000e+00,\n",
       "          0.00000000e+00,   1.00000000e+00,   1.00000000e+00,\n",
       "          1.00000000e+00,   0.00000000e+00,   1.00000000e+00,\n",
       "          2.00000000e+00,   0.00000000e+00,   0.00000000e+00,\n",
       "          0.00000000e+00,   0.00000000e+00,   1.00000000e+00,\n",
       "          2.00000000e+00,   1.00000000e+00,   0.00000000e+00,\n",
       "          0.00000000e+00,   1.00000000e+00,   1.00000000e+00,\n",
       "          0.00000000e+00,   1.00000000e+00,   1.00000000e+00,\n",
       "          0.00000000e+00,   0.00000000e+00,   3.00000000e+00,\n",
       "          0.00000000e+00,   0.00000000e+00,   0.00000000e+00,\n",
       "          1.00000000e+00,   1.00000000e+00,   0.00000000e+00,\n",
       "          0.00000000e+00,   0.00000000e+00,   0.00000000e+00,\n",
       "          0.00000000e+00,   0.00000000e+00,   0.00000000e+00,\n",
       "          0.00000000e+00,   0.00000000e+00,   0.00000000e+00,\n",
       "          0.00000000e+00,   0.00000000e+00,   0.00000000e+00,\n",
       "          0.00000000e+00,   0.00000000e+00,   0.00000000e+00,\n",
       "          0.00000000e+00,   0.00000000e+00,   0.00000000e+00,\n",
       "          0.00000000e+00,   0.00000000e+00,   0.00000000e+00,\n",
       "          0.00000000e+00,   0.00000000e+00,   0.00000000e+00,\n",
       "          0.00000000e+00,   0.00000000e+00,   0.00000000e+00,\n",
       "          0.00000000e+00,   0.00000000e+00,   0.00000000e+00,\n",
       "          0.00000000e+00,   0.00000000e+00,   0.00000000e+00,\n",
       "          0.00000000e+00,   0.00000000e+00,   0.00000000e+00,\n",
       "          0.00000000e+00,   0.00000000e+00,   0.00000000e+00,\n",
       "          0.00000000e+00,   0.00000000e+00,   0.00000000e+00,\n",
       "          0.00000000e+00,   0.00000000e+00,   0.00000000e+00,\n",
       "          0.00000000e+00,   0.00000000e+00,   0.00000000e+00,\n",
       "          0.00000000e+00,   0.00000000e+00,   0.00000000e+00,\n",
       "          0.00000000e+00,   0.00000000e+00,   0.00000000e+00,\n",
       "          0.00000000e+00,   0.00000000e+00,   0.00000000e+00,\n",
       "          0.00000000e+00,   0.00000000e+00,   0.00000000e+00,\n",
       "          0.00000000e+00,   0.00000000e+00,   0.00000000e+00,\n",
       "          0.00000000e+00,   0.00000000e+00,   0.00000000e+00,\n",
       "          2.00000000e+00,   0.00000000e+00,   0.00000000e+00,\n",
       "          0.00000000e+00,   0.00000000e+00,   0.00000000e+00,\n",
       "          0.00000000e+00,   0.00000000e+00,   0.00000000e+00,\n",
       "          0.00000000e+00,   0.00000000e+00,   0.00000000e+00,\n",
       "          0.00000000e+00,   0.00000000e+00,   0.00000000e+00,\n",
       "          0.00000000e+00,   0.00000000e+00,   0.00000000e+00,\n",
       "          0.00000000e+00,   0.00000000e+00,   0.00000000e+00,\n",
       "          0.00000000e+00,   0.00000000e+00,   0.00000000e+00,\n",
       "          0.00000000e+00,   0.00000000e+00,   0.00000000e+00,\n",
       "          0.00000000e+00,   0.00000000e+00,   0.00000000e+00,\n",
       "          0.00000000e+00,   0.00000000e+00,   0.00000000e+00,\n",
       "          1.00000000e+00,   0.00000000e+00,   0.00000000e+00,\n",
       "          0.00000000e+00,   0.00000000e+00,   0.00000000e+00,\n",
       "          0.00000000e+00,   0.00000000e+00,   0.00000000e+00,\n",
       "          0.00000000e+00,   0.00000000e+00,   0.00000000e+00,\n",
       "          0.00000000e+00,   0.00000000e+00,   0.00000000e+00,\n",
       "          0.00000000e+00,   0.00000000e+00,   0.00000000e+00,\n",
       "          0.00000000e+00,   0.00000000e+00,   0.00000000e+00,\n",
       "          0.00000000e+00,   0.00000000e+00,   0.00000000e+00,\n",
       "          0.00000000e+00,   0.00000000e+00,   0.00000000e+00,\n",
       "          0.00000000e+00,   0.00000000e+00,   0.00000000e+00,\n",
       "          0.00000000e+00,   0.00000000e+00,   0.00000000e+00,\n",
       "          0.00000000e+00,   0.00000000e+00,   0.00000000e+00,\n",
       "          0.00000000e+00,   0.00000000e+00,   0.00000000e+00,\n",
       "          0.00000000e+00,   0.00000000e+00,   0.00000000e+00,\n",
       "          0.00000000e+00,   0.00000000e+00,   0.00000000e+00,\n",
       "          0.00000000e+00,   0.00000000e+00,   0.00000000e+00,\n",
       "          0.00000000e+00,   0.00000000e+00,   0.00000000e+00,\n",
       "          0.00000000e+00,   0.00000000e+00,   0.00000000e+00,\n",
       "          0.00000000e+00,   0.00000000e+00,   0.00000000e+00,\n",
       "          0.00000000e+00,   0.00000000e+00,   0.00000000e+00,\n",
       "          0.00000000e+00,   0.00000000e+00,   0.00000000e+00,\n",
       "          0.00000000e+00,   0.00000000e+00,   0.00000000e+00,\n",
       "          0.00000000e+00,   0.00000000e+00,   0.00000000e+00,\n",
       "          0.00000000e+00,   0.00000000e+00,   0.00000000e+00,\n",
       "          0.00000000e+00,   0.00000000e+00,   0.00000000e+00,\n",
       "          0.00000000e+00,   0.00000000e+00,   0.00000000e+00,\n",
       "          0.00000000e+00,   0.00000000e+00,   0.00000000e+00,\n",
       "          0.00000000e+00,   0.00000000e+00,   0.00000000e+00,\n",
       "          0.00000000e+00,   0.00000000e+00,   0.00000000e+00,\n",
       "          0.00000000e+00,   0.00000000e+00,   0.00000000e+00,\n",
       "          0.00000000e+00,   0.00000000e+00,   0.00000000e+00,\n",
       "          0.00000000e+00,   0.00000000e+00,   0.00000000e+00,\n",
       "          0.00000000e+00,   0.00000000e+00,   0.00000000e+00,\n",
       "          0.00000000e+00,   0.00000000e+00,   0.00000000e+00,\n",
       "          0.00000000e+00,   0.00000000e+00,   0.00000000e+00,\n",
       "          0.00000000e+00,   0.00000000e+00,   0.00000000e+00,\n",
       "          0.00000000e+00,   0.00000000e+00,   0.00000000e+00,\n",
       "          0.00000000e+00,   0.00000000e+00,   0.00000000e+00,\n",
       "          0.00000000e+00,   0.00000000e+00,   0.00000000e+00,\n",
       "          0.00000000e+00,   0.00000000e+00,   0.00000000e+00,\n",
       "          0.00000000e+00,   0.00000000e+00,   0.00000000e+00,\n",
       "          0.00000000e+00,   0.00000000e+00,   0.00000000e+00,\n",
       "          0.00000000e+00,   0.00000000e+00,   0.00000000e+00,\n",
       "          0.00000000e+00,   0.00000000e+00,   0.00000000e+00,\n",
       "          0.00000000e+00,   0.00000000e+00,   0.00000000e+00,\n",
       "          0.00000000e+00,   0.00000000e+00,   0.00000000e+00,\n",
       "          0.00000000e+00,   0.00000000e+00,   0.00000000e+00,\n",
       "          0.00000000e+00,   0.00000000e+00,   0.00000000e+00,\n",
       "          0.00000000e+00,   0.00000000e+00,   0.00000000e+00,\n",
       "          0.00000000e+00,   0.00000000e+00,   0.00000000e+00,\n",
       "          0.00000000e+00,   0.00000000e+00,   0.00000000e+00,\n",
       "          0.00000000e+00,   0.00000000e+00,   0.00000000e+00,\n",
       "          0.00000000e+00,   0.00000000e+00,   0.00000000e+00,\n",
       "          0.00000000e+00,   0.00000000e+00,   0.00000000e+00,\n",
       "          0.00000000e+00,   0.00000000e+00,   0.00000000e+00,\n",
       "          0.00000000e+00,   0.00000000e+00,   0.00000000e+00,\n",
       "          0.00000000e+00,   0.00000000e+00,   0.00000000e+00,\n",
       "          0.00000000e+00,   0.00000000e+00,   0.00000000e+00,\n",
       "          0.00000000e+00,   0.00000000e+00,   0.00000000e+00,\n",
       "          0.00000000e+00,   0.00000000e+00,   0.00000000e+00,\n",
       "          0.00000000e+00,   0.00000000e+00,   0.00000000e+00,\n",
       "          0.00000000e+00,   0.00000000e+00,   0.00000000e+00,\n",
       "          0.00000000e+00,   0.00000000e+00,   0.00000000e+00,\n",
       "          0.00000000e+00,   0.00000000e+00,   0.00000000e+00,\n",
       "          0.00000000e+00,   0.00000000e+00,   0.00000000e+00,\n",
       "          0.00000000e+00,   0.00000000e+00,   0.00000000e+00,\n",
       "          0.00000000e+00,   0.00000000e+00,   0.00000000e+00,\n",
       "          0.00000000e+00,   0.00000000e+00,   0.00000000e+00,\n",
       "          0.00000000e+00,   0.00000000e+00,   0.00000000e+00,\n",
       "          0.00000000e+00,   0.00000000e+00,   0.00000000e+00,\n",
       "          0.00000000e+00,   0.00000000e+00,   0.00000000e+00,\n",
       "          0.00000000e+00,   0.00000000e+00,   0.00000000e+00,\n",
       "          0.00000000e+00,   0.00000000e+00,   0.00000000e+00,\n",
       "          0.00000000e+00,   0.00000000e+00,   0.00000000e+00,\n",
       "          0.00000000e+00,   0.00000000e+00,   0.00000000e+00,\n",
       "          0.00000000e+00,   0.00000000e+00,   0.00000000e+00,\n",
       "          0.00000000e+00,   0.00000000e+00,   0.00000000e+00,\n",
       "          0.00000000e+00,   0.00000000e+00,   0.00000000e+00,\n",
       "          0.00000000e+00,   0.00000000e+00,   0.00000000e+00,\n",
       "          0.00000000e+00,   0.00000000e+00,   0.00000000e+00,\n",
       "          0.00000000e+00,   0.00000000e+00,   0.00000000e+00,\n",
       "          0.00000000e+00,   0.00000000e+00,   0.00000000e+00,\n",
       "          0.00000000e+00,   0.00000000e+00,   0.00000000e+00,\n",
       "          0.00000000e+00,   0.00000000e+00,   0.00000000e+00,\n",
       "          0.00000000e+00,   0.00000000e+00,   0.00000000e+00,\n",
       "          0.00000000e+00,   0.00000000e+00,   0.00000000e+00,\n",
       "          0.00000000e+00,   0.00000000e+00,   0.00000000e+00,\n",
       "          0.00000000e+00,   0.00000000e+00,   0.00000000e+00,\n",
       "          0.00000000e+00,   0.00000000e+00,   0.00000000e+00,\n",
       "          0.00000000e+00,   0.00000000e+00,   0.00000000e+00,\n",
       "          0.00000000e+00,   0.00000000e+00,   0.00000000e+00,\n",
       "          0.00000000e+00,   0.00000000e+00,   0.00000000e+00,\n",
       "          0.00000000e+00,   0.00000000e+00,   0.00000000e+00,\n",
       "          0.00000000e+00,   0.00000000e+00,   0.00000000e+00,\n",
       "          0.00000000e+00,   0.00000000e+00,   0.00000000e+00,\n",
       "          0.00000000e+00,   0.00000000e+00,   0.00000000e+00,\n",
       "          0.00000000e+00,   0.00000000e+00,   0.00000000e+00,\n",
       "          0.00000000e+00,   0.00000000e+00,   0.00000000e+00,\n",
       "          0.00000000e+00,   0.00000000e+00,   0.00000000e+00,\n",
       "          0.00000000e+00,   0.00000000e+00,   0.00000000e+00,\n",
       "          0.00000000e+00,   0.00000000e+00,   0.00000000e+00,\n",
       "          0.00000000e+00,   0.00000000e+00,   0.00000000e+00,\n",
       "          0.00000000e+00,   0.00000000e+00,   0.00000000e+00,\n",
       "          0.00000000e+00,   0.00000000e+00,   0.00000000e+00,\n",
       "          0.00000000e+00,   0.00000000e+00,   0.00000000e+00,\n",
       "          0.00000000e+00,   0.00000000e+00,   0.00000000e+00,\n",
       "          0.00000000e+00,   0.00000000e+00,   0.00000000e+00,\n",
       "          0.00000000e+00,   0.00000000e+00,   0.00000000e+00,\n",
       "          0.00000000e+00,   0.00000000e+00,   0.00000000e+00,\n",
       "          0.00000000e+00,   0.00000000e+00,   0.00000000e+00,\n",
       "          0.00000000e+00,   0.00000000e+00,   0.00000000e+00,\n",
       "          0.00000000e+00,   0.00000000e+00,   0.00000000e+00,\n",
       "          0.00000000e+00,   0.00000000e+00,   0.00000000e+00,\n",
       "          0.00000000e+00,   0.00000000e+00,   0.00000000e+00,\n",
       "          0.00000000e+00,   0.00000000e+00,   0.00000000e+00,\n",
       "          0.00000000e+00,   0.00000000e+00,   0.00000000e+00,\n",
       "          0.00000000e+00,   0.00000000e+00,   0.00000000e+00,\n",
       "          0.00000000e+00,   0.00000000e+00,   0.00000000e+00,\n",
       "          0.00000000e+00,   0.00000000e+00,   0.00000000e+00,\n",
       "          0.00000000e+00,   0.00000000e+00,   0.00000000e+00,\n",
       "          0.00000000e+00,   0.00000000e+00,   0.00000000e+00,\n",
       "          0.00000000e+00,   0.00000000e+00,   0.00000000e+00,\n",
       "          0.00000000e+00,   0.00000000e+00,   0.00000000e+00,\n",
       "          0.00000000e+00,   0.00000000e+00,   0.00000000e+00,\n",
       "          0.00000000e+00,   0.00000000e+00,   0.00000000e+00,\n",
       "          0.00000000e+00,   0.00000000e+00,   0.00000000e+00,\n",
       "          0.00000000e+00,   0.00000000e+00,   0.00000000e+00,\n",
       "          0.00000000e+00,   0.00000000e+00,   0.00000000e+00,\n",
       "          0.00000000e+00,   0.00000000e+00,   0.00000000e+00,\n",
       "          0.00000000e+00,   0.00000000e+00,   0.00000000e+00,\n",
       "          0.00000000e+00,   0.00000000e+00,   0.00000000e+00,\n",
       "          0.00000000e+00,   0.00000000e+00,   0.00000000e+00,\n",
       "          0.00000000e+00,   0.00000000e+00,   0.00000000e+00,\n",
       "          0.00000000e+00,   0.00000000e+00,   0.00000000e+00,\n",
       "          0.00000000e+00,   0.00000000e+00,   0.00000000e+00,\n",
       "          0.00000000e+00,   0.00000000e+00,   0.00000000e+00,\n",
       "          0.00000000e+00,   0.00000000e+00,   0.00000000e+00,\n",
       "          0.00000000e+00,   0.00000000e+00,   0.00000000e+00,\n",
       "          0.00000000e+00,   0.00000000e+00,   0.00000000e+00,\n",
       "          0.00000000e+00,   0.00000000e+00,   0.00000000e+00,\n",
       "          0.00000000e+00,   0.00000000e+00,   0.00000000e+00,\n",
       "          0.00000000e+00,   0.00000000e+00,   0.00000000e+00,\n",
       "          0.00000000e+00,   0.00000000e+00,   0.00000000e+00,\n",
       "          0.00000000e+00,   0.00000000e+00,   0.00000000e+00,\n",
       "          0.00000000e+00,   0.00000000e+00,   0.00000000e+00,\n",
       "          0.00000000e+00,   0.00000000e+00,   0.00000000e+00,\n",
       "          0.00000000e+00,   0.00000000e+00,   0.00000000e+00,\n",
       "          0.00000000e+00,   0.00000000e+00,   0.00000000e+00,\n",
       "          0.00000000e+00,   0.00000000e+00,   0.00000000e+00,\n",
       "          0.00000000e+00,   0.00000000e+00,   0.00000000e+00,\n",
       "          0.00000000e+00,   0.00000000e+00,   0.00000000e+00,\n",
       "          0.00000000e+00,   0.00000000e+00,   0.00000000e+00,\n",
       "          0.00000000e+00,   0.00000000e+00,   0.00000000e+00,\n",
       "          0.00000000e+00,   0.00000000e+00,   0.00000000e+00,\n",
       "          0.00000000e+00,   0.00000000e+00,   0.00000000e+00,\n",
       "          0.00000000e+00,   0.00000000e+00,   0.00000000e+00,\n",
       "          0.00000000e+00,   0.00000000e+00,   0.00000000e+00,\n",
       "          0.00000000e+00,   0.00000000e+00,   0.00000000e+00,\n",
       "          0.00000000e+00,   0.00000000e+00,   0.00000000e+00,\n",
       "          0.00000000e+00,   0.00000000e+00,   0.00000000e+00,\n",
       "          0.00000000e+00,   0.00000000e+00,   0.00000000e+00,\n",
       "          0.00000000e+00,   0.00000000e+00,   0.00000000e+00,\n",
       "          0.00000000e+00,   0.00000000e+00,   0.00000000e+00,\n",
       "          0.00000000e+00,   0.00000000e+00,   0.00000000e+00,\n",
       "          0.00000000e+00,   0.00000000e+00,   0.00000000e+00,\n",
       "          0.00000000e+00,   0.00000000e+00,   0.00000000e+00,\n",
       "          0.00000000e+00,   0.00000000e+00,   0.00000000e+00,\n",
       "          0.00000000e+00,   0.00000000e+00,   0.00000000e+00,\n",
       "          0.00000000e+00,   0.00000000e+00,   0.00000000e+00,\n",
       "          1.00000000e+00]),\n",
       " array([   0.,    1.,    2.,    3.,    4.,    5.,    6.,    7.,    8.,\n",
       "           9.,   10.,   11.,   12.,   13.,   14.,   15.,   16.,   17.,\n",
       "          18.,   19.,   20.,   21.,   22.,   23.,   24.,   25.,   26.,\n",
       "          27.,   28.,   29.,   30.,   31.,   32.,   33.,   34.,   35.,\n",
       "          36.,   37.,   38.,   39.,   40.,   41.,   42.,   43.,   44.,\n",
       "          45.,   46.,   47.,   48.,   49.,   50.,   51.,   52.,   53.,\n",
       "          54.,   55.,   56.,   57.,   58.,   59.,   60.,   61.,   62.,\n",
       "          63.,   64.,   65.,   66.,   67.,   68.,   69.,   70.,   71.,\n",
       "          72.,   73.,   74.,   75.,   76.,   77.,   78.,   79.,   80.,\n",
       "          81.,   82.,   83.,   84.,   85.,   86.,   87.,   88.,   89.,\n",
       "          90.,   91.,   92.,   93.,   94.,   95.,   96.,   97.,   98.,\n",
       "          99.,  100.,  101.,  102.,  103.,  104.,  105.,  106.,  107.,\n",
       "         108.,  109.,  110.,  111.,  112.,  113.,  114.,  115.,  116.,\n",
       "         117.,  118.,  119.,  120.,  121.,  122.,  123.,  124.,  125.,\n",
       "         126.,  127.,  128.,  129.,  130.,  131.,  132.,  133.,  134.,\n",
       "         135.,  136.,  137.,  138.,  139.,  140.,  141.,  142.,  143.,\n",
       "         144.,  145.,  146.,  147.,  148.,  149.,  150.,  151.,  152.,\n",
       "         153.,  154.,  155.,  156.,  157.,  158.,  159.,  160.,  161.,\n",
       "         162.,  163.,  164.,  165.,  166.,  167.,  168.,  169.,  170.,\n",
       "         171.,  172.,  173.,  174.,  175.,  176.,  177.,  178.,  179.,\n",
       "         180.,  181.,  182.,  183.,  184.,  185.,  186.,  187.,  188.,\n",
       "         189.,  190.,  191.,  192.,  193.,  194.,  195.,  196.,  197.,\n",
       "         198.,  199.,  200.,  201.,  202.,  203.,  204.,  205.,  206.,\n",
       "         207.,  208.,  209.,  210.,  211.,  212.,  213.,  214.,  215.,\n",
       "         216.,  217.,  218.,  219.,  220.,  221.,  222.,  223.,  224.,\n",
       "         225.,  226.,  227.,  228.,  229.,  230.,  231.,  232.,  233.,\n",
       "         234.,  235.,  236.,  237.,  238.,  239.,  240.,  241.,  242.,\n",
       "         243.,  244.,  245.,  246.,  247.,  248.,  249.,  250.,  251.,\n",
       "         252.,  253.,  254.,  255.,  256.,  257.,  258.,  259.,  260.,\n",
       "         261.,  262.,  263.,  264.,  265.,  266.,  267.,  268.,  269.,\n",
       "         270.,  271.,  272.,  273.,  274.,  275.,  276.,  277.,  278.,\n",
       "         279.,  280.,  281.,  282.,  283.,  284.,  285.,  286.,  287.,\n",
       "         288.,  289.,  290.,  291.,  292.,  293.,  294.,  295.,  296.,\n",
       "         297.,  298.,  299.,  300.,  301.,  302.,  303.,  304.,  305.,\n",
       "         306.,  307.,  308.,  309.,  310.,  311.,  312.,  313.,  314.,\n",
       "         315.,  316.,  317.,  318.,  319.,  320.,  321.,  322.,  323.,\n",
       "         324.,  325.,  326.,  327.,  328.,  329.,  330.,  331.,  332.,\n",
       "         333.,  334.,  335.,  336.,  337.,  338.,  339.,  340.,  341.,\n",
       "         342.,  343.,  344.,  345.,  346.,  347.,  348.,  349.,  350.,\n",
       "         351.,  352.,  353.,  354.,  355.,  356.,  357.,  358.,  359.,\n",
       "         360.,  361.,  362.,  363.,  364.,  365.,  366.,  367.,  368.,\n",
       "         369.,  370.,  371.,  372.,  373.,  374.,  375.,  376.,  377.,\n",
       "         378.,  379.,  380.,  381.,  382.,  383.,  384.,  385.,  386.,\n",
       "         387.,  388.,  389.,  390.,  391.,  392.,  393.,  394.,  395.,\n",
       "         396.,  397.,  398.,  399.,  400.,  401.,  402.,  403.,  404.,\n",
       "         405.,  406.,  407.,  408.,  409.,  410.,  411.,  412.,  413.,\n",
       "         414.,  415.,  416.,  417.,  418.,  419.,  420.,  421.,  422.,\n",
       "         423.,  424.,  425.,  426.,  427.,  428.,  429.,  430.,  431.,\n",
       "         432.,  433.,  434.,  435.,  436.,  437.,  438.,  439.,  440.,\n",
       "         441.,  442.,  443.,  444.,  445.,  446.,  447.,  448.,  449.,\n",
       "         450.,  451.,  452.,  453.,  454.,  455.,  456.,  457.,  458.,\n",
       "         459.,  460.,  461.,  462.,  463.,  464.,  465.,  466.,  467.,\n",
       "         468.,  469.,  470.,  471.,  472.,  473.,  474.,  475.,  476.,\n",
       "         477.,  478.,  479.,  480.,  481.,  482.,  483.,  484.,  485.,\n",
       "         486.,  487.,  488.,  489.,  490.,  491.,  492.,  493.,  494.,\n",
       "         495.,  496.,  497.,  498.,  499.,  500.,  501.,  502.,  503.,\n",
       "         504.,  505.,  506.,  507.,  508.,  509.,  510.,  511.,  512.,\n",
       "         513.,  514.,  515.,  516.,  517.,  518.,  519.,  520.,  521.,\n",
       "         522.,  523.,  524.,  525.,  526.,  527.,  528.,  529.,  530.,\n",
       "         531.,  532.,  533.,  534.,  535.,  536.,  537.,  538.,  539.,\n",
       "         540.,  541.,  542.,  543.,  544.,  545.,  546.,  547.,  548.,\n",
       "         549.,  550.,  551.,  552.,  553.,  554.,  555.,  556.,  557.,\n",
       "         558.,  559.,  560.,  561.,  562.,  563.,  564.,  565.,  566.,\n",
       "         567.,  568.,  569.,  570.,  571.,  572.,  573.,  574.,  575.,\n",
       "         576.,  577.,  578.,  579.,  580.,  581.,  582.,  583.,  584.,\n",
       "         585.,  586.,  587.,  588.,  589.,  590.,  591.,  592.,  593.,\n",
       "         594.,  595.,  596.,  597.,  598.,  599.,  600.,  601.,  602.,\n",
       "         603.,  604.,  605.,  606.,  607.,  608.,  609.,  610.,  611.,\n",
       "         612.,  613.,  614.,  615.,  616.,  617.,  618.,  619.,  620.,\n",
       "         621.,  622.,  623.,  624.,  625.,  626.,  627.,  628.,  629.,\n",
       "         630.,  631.,  632.,  633.,  634.,  635.,  636.,  637.,  638.,\n",
       "         639.,  640.,  641.,  642.,  643.,  644.,  645.,  646.,  647.,\n",
       "         648.,  649.,  650.,  651.,  652.,  653.,  654.,  655.,  656.,\n",
       "         657.,  658.,  659.,  660.,  661.,  662.,  663.,  664.,  665.,\n",
       "         666.,  667.,  668.,  669.,  670.,  671.,  672.,  673.,  674.,\n",
       "         675.,  676.,  677.,  678.,  679.,  680.,  681.,  682.,  683.,\n",
       "         684.,  685.,  686.,  687.,  688.,  689.,  690.,  691.]),\n",
       " <a list of 691 Patch objects>)"
      ]
     },
     "execution_count": 28,
     "metadata": {},
     "output_type": "execute_result"
    },
    {
     "data": {
      "image/png": "[encoded data removed]",
      "text/plain": [
       "<matplotlib.figure.Figure at 0x1f21dd92f28>"
      ]
     },
     "metadata": {},
     "output_type": "display_data"
    }
   ],
   "source": [
    "plt.xlabel('Days for solving an incident')\n",
    "plt.ylabel('Number of incidents')\n",
    "plt.title('Days spent to solve an incident distribution')\n",
    "plt.axis([0, 10, 0, 30000])\n",
    "plt.hist(df.solve_days, bins=691)"
   ]
  },
  {
   "cell_type": "code",
   "execution_count": 29,
   "metadata": {},
   "outputs": [
    {
     "data": {
      "text/plain": [
       "(array([  2.11240000e+04,   1.85900000e+03,   1.18800000e+03, ...,\n",
       "          0.00000000e+00,   0.00000000e+00,   1.00000000e+00]),\n",
       " array([  0.00000000e+00,   1.00018090e+00,   2.00036179e+00, ...,\n",
       "          1.65849996e+04,   1.65859998e+04,   1.65870000e+04]),\n",
       " <a list of 16584 Patch objects>)"
      ]
     },
     "execution_count": 29,
     "metadata": {},
     "output_type": "execute_result"
    },
    {
     "data": {
      "image/png": "[encoded data removed]",
      "text/plain": [
       "<matplotlib.figure.Figure at 0x1f2203fa630>"
      ]
     },
     "metadata": {},
     "output_type": "display_data"
    }
   ],
   "source": [
    "plt.xlabel('Hours for solving an incident')\n",
    "plt.ylabel('Number of incidents')\n",
    "plt.title('Hours spent to solve an incident distribution')\n",
    "plt.axis([0, 5*24, 0, 2000])\n",
    "plt.xticks(range(0, 5*24, 8))\n",
    "plt.hist(df.solve_hours, bins=691*24)"
   ]
  },
  {
   "cell_type": "code",
   "execution_count": 30,
   "metadata": {},
   "outputs": [
    {
     "data": {
      "text/html": [
       "<div>\n",
       "<style>\n",
       "    .dataframe thead tr:only-child th {\n",
       "        text-align: right;\n",
       "    }\n",
       "\n",
       "    .dataframe thead th {\n",
       "        text-align: left;\n",
       "    }\n",
       "\n",
       "    .dataframe tbody tr th {\n",
       "        vertical-align: top;\n",
       "    }\n",
       "</style>\n",
       "<table border=\"1\" class=\"dataframe\">\n",
       "  <thead>\n",
       "    <tr style=\"text-align: right;\">\n",
       "      <th></th>\n",
       "      <th>incident_id</th>\n",
       "      <th>applicant</th>\n",
       "      <th>classifier</th>\n",
       "      <th>category</th>\n",
       "      <th>description</th>\n",
       "      <th>comment</th>\n",
       "      <th>opened</th>\n",
       "      <th>closed</th>\n",
       "      <th>support_group</th>\n",
       "      <th>specialist</th>\n",
       "      <th>attachments</th>\n",
       "      <th>solve_hours</th>\n",
       "      <th>solve_days</th>\n",
       "    </tr>\n",
       "  </thead>\n",
       "  <tbody>\n",
       "    <tr>\n",
       "      <th>0</th>\n",
       "      <td>1565301</td>\n",
       "      <td>Воеводкин Олег Евгеньевич</td>\n",
       "      <td>SAP</td>\n",
       "      <td>Прочее</td>\n",
       "      <td>[voevodkin.oleg] Описание: Прошу разблокироват...</td>\n",
       "      <td>Разблокировал. Пароль сбросил на 123456. Олег,...</td>\n",
       "      <td>2012-01-04 12:32:51.917</td>\n",
       "      <td>2012-01-04 15:10:19.100</td>\n",
       "      <td>IT_ERP_SAP</td>\n",
       "      <td>Маюков Павел Валериевич</td>\n",
       "      <td>0</td>\n",
       "      <td>2</td>\n",
       "      <td>0</td>\n",
       "    </tr>\n",
       "    <tr>\n",
       "      <th>1</th>\n",
       "      <td>1565520</td>\n",
       "      <td>Васильева Наталья Александровна_del</td>\n",
       "      <td>SAP</td>\n",
       "      <td>Прочее</td>\n",
       "      <td>прошу сменить пароль на вход в систему SAP;IP:...</td>\n",
       "      <td>Разблокировал. Пароль сброшен на 123456.</td>\n",
       "      <td>2012-01-04 13:30:19.487</td>\n",
       "      <td>2012-01-04 15:14:36.030</td>\n",
       "      <td>IT_ERP_SAP</td>\n",
       "      <td>Маюков Павел Валериевич</td>\n",
       "      <td>0</td>\n",
       "      <td>1</td>\n",
       "      <td>0</td>\n",
       "    </tr>\n",
       "    <tr>\n",
       "      <th>2</th>\n",
       "      <td>1566472</td>\n",
       "      <td>Чупрунов Александр Александрович</td>\n",
       "      <td>SAP</td>\n",
       "      <td>Обучение/консультация</td>\n",
       "      <td>[chuprunov.aleksandr] Описание: При набивании ...</td>\n",
       "      <td>В момент ручного заполнения полей в САП, систе...</td>\n",
       "      <td>2012-01-04 16:21:38.673</td>\n",
       "      <td>2012-01-04 16:42:32.130</td>\n",
       "      <td>IT_ERP_SAP</td>\n",
       "      <td>Дубровин Денис Владимирович</td>\n",
       "      <td>0</td>\n",
       "      <td>0</td>\n",
       "      <td>0</td>\n",
       "    </tr>\n",
       "  </tbody>\n",
       "</table>\n",
       "</div>"
      ],
      "text/plain": [
       "   incident_id                            applicant classifier  \\\n",
       "0      1565301            Воеводкин Олег Евгеньевич        SAP   \n",
       "1      1565520  Васильева Наталья Александровна_del        SAP   \n",
       "2      1566472     Чупрунов Александр Александрович        SAP   \n",
       "\n",
       "                category                                        description  \\\n",
       "0                 Прочее  [voevodkin.oleg] Описание: Прошу разблокироват...   \n",
       "1                 Прочее  прошу сменить пароль на вход в систему SAP;IP:...   \n",
       "2  Обучение/консультация  [chuprunov.aleksandr] Описание: При набивании ...   \n",
       "\n",
       "                                             comment                  opened  \\\n",
       "0  Разблокировал. Пароль сбросил на 123456. Олег,... 2012-01-04 12:32:51.917   \n",
       "1           Разблокировал. Пароль сброшен на 123456. 2012-01-04 13:30:19.487   \n",
       "2  В момент ручного заполнения полей в САП, систе... 2012-01-04 16:21:38.673   \n",
       "\n",
       "                   closed support_group                   specialist  \\\n",
       "0 2012-01-04 15:10:19.100    IT_ERP_SAP      Маюков Павел Валериевич   \n",
       "1 2012-01-04 15:14:36.030    IT_ERP_SAP      Маюков Павел Валериевич   \n",
       "2 2012-01-04 16:42:32.130    IT_ERP_SAP  Дубровин Денис Владимирович   \n",
       "\n",
       "   attachments  solve_hours  solve_days  \n",
       "0            0            2           0  \n",
       "1            0            1           0  \n",
       "2            0            0           0  "
      ]
     },
     "execution_count": 30,
     "metadata": {},
     "output_type": "execute_result"
    }
   ],
   "source": [
    "df.head(3)"
   ]
  },
  {
   "cell_type": "code",
   "execution_count": 31,
   "metadata": {},
   "outputs": [
    {
     "data": {
      "text/plain": [
       "count    32079.000000\n",
       "mean         2.036192\n",
       "std          1.554013\n",
       "min          0.000000\n",
       "25%          1.000000\n",
       "50%          2.000000\n",
       "75%          3.000000\n",
       "max          6.000000\n",
       "Name: closed, dtype: float64"
      ]
     },
     "execution_count": 31,
     "metadata": {},
     "output_type": "execute_result"
    }
   ],
   "source": [
    "df.closed.map(lambda s: s.weekday()).describe()\n",
    "# 0 = Monday, 1 = Tuesday etc."
   ]
  },
  {
   "cell_type": "code",
   "execution_count": 32,
   "metadata": {
    "collapsed": true
   },
   "outputs": [],
   "source": [
    "df['opened_year'] = df.opened.map(lambda s: s.year)\n",
    "df['opened_month'] = df.opened.map(lambda s: s.month)\n",
    "df['opened_day'] = df.opened.map(lambda s: s.day)"
   ]
  },
  {
   "cell_type": "code",
   "execution_count": 33,
   "metadata": {
    "collapsed": true
   },
   "outputs": [],
   "source": [
    "df['opened_weekday'] = df.opened.map(lambda s: s.weekday())\n",
    "df['closed_weekday'] = df.closed.map(lambda s: s.weekday())"
   ]
  },
  {
   "cell_type": "code",
   "execution_count": 34,
   "metadata": {},
   "outputs": [
    {
     "data": {
      "text/plain": [
       "<matplotlib.axes._subplots.AxesSubplot at 0x1f220c4c6a0>"
      ]
     },
     "execution_count": 34,
     "metadata": {},
     "output_type": "execute_result"
    },
    {
     "data": {
      "image/png": "[encoded data removed]",
      "text/plain": [
       "<matplotlib.figure.Figure at 0x1f21dbfee48>"
      ]
     },
     "metadata": {},
     "output_type": "display_data"
    }
   ],
   "source": [
    "sns.violinplot(data=df[['opened_weekday', 'closed_weekday']])"
   ]
  },
  {
   "cell_type": "code",
   "execution_count": 35,
   "metadata": {},
   "outputs": [
    {
     "data": {
      "text/html": [
       "<div>\n",
       "<style>\n",
       "    .dataframe thead tr:only-child th {\n",
       "        text-align: right;\n",
       "    }\n",
       "\n",
       "    .dataframe thead th {\n",
       "        text-align: left;\n",
       "    }\n",
       "\n",
       "    .dataframe tbody tr th {\n",
       "        vertical-align: top;\n",
       "    }\n",
       "</style>\n",
       "<table border=\"1\" class=\"dataframe\">\n",
       "  <thead>\n",
       "    <tr style=\"text-align: right;\">\n",
       "      <th></th>\n",
       "      <th>incident_id</th>\n",
       "      <th>applicant</th>\n",
       "      <th>classifier</th>\n",
       "      <th>category</th>\n",
       "      <th>description</th>\n",
       "      <th>comment</th>\n",
       "      <th>opened</th>\n",
       "      <th>closed</th>\n",
       "      <th>support_group</th>\n",
       "      <th>specialist</th>\n",
       "      <th>attachments</th>\n",
       "      <th>solve_hours</th>\n",
       "      <th>solve_days</th>\n",
       "      <th>opened_year</th>\n",
       "      <th>opened_month</th>\n",
       "      <th>opened_day</th>\n",
       "      <th>opened_weekday</th>\n",
       "      <th>closed_weekday</th>\n",
       "    </tr>\n",
       "  </thead>\n",
       "  <tbody>\n",
       "    <tr>\n",
       "      <th>0</th>\n",
       "      <td>1565301</td>\n",
       "      <td>Воеводкин Олег Евгеньевич</td>\n",
       "      <td>SAP</td>\n",
       "      <td>Прочее</td>\n",
       "      <td>[voevodkin.oleg] Описание: Прошу разблокироват...</td>\n",
       "      <td>Разблокировал. Пароль сбросил на 123456. Олег,...</td>\n",
       "      <td>2012-01-04 12:32:51.917</td>\n",
       "      <td>2012-01-04 15:10:19.100</td>\n",
       "      <td>IT_ERP_SAP</td>\n",
       "      <td>Маюков Павел Валериевич</td>\n",
       "      <td>0</td>\n",
       "      <td>2</td>\n",
       "      <td>0</td>\n",
       "      <td>2012</td>\n",
       "      <td>1</td>\n",
       "      <td>4</td>\n",
       "      <td>2</td>\n",
       "      <td>2</td>\n",
       "    </tr>\n",
       "    <tr>\n",
       "      <th>1</th>\n",
       "      <td>1565520</td>\n",
       "      <td>Васильева Наталья Александровна_del</td>\n",
       "      <td>SAP</td>\n",
       "      <td>Прочее</td>\n",
       "      <td>прошу сменить пароль на вход в систему SAP;IP:...</td>\n",
       "      <td>Разблокировал. Пароль сброшен на 123456.</td>\n",
       "      <td>2012-01-04 13:30:19.487</td>\n",
       "      <td>2012-01-04 15:14:36.030</td>\n",
       "      <td>IT_ERP_SAP</td>\n",
       "      <td>Маюков Павел Валериевич</td>\n",
       "      <td>0</td>\n",
       "      <td>1</td>\n",
       "      <td>0</td>\n",
       "      <td>2012</td>\n",
       "      <td>1</td>\n",
       "      <td>4</td>\n",
       "      <td>2</td>\n",
       "      <td>2</td>\n",
       "    </tr>\n",
       "    <tr>\n",
       "      <th>2</th>\n",
       "      <td>1566472</td>\n",
       "      <td>Чупрунов Александр Александрович</td>\n",
       "      <td>SAP</td>\n",
       "      <td>Обучение/консультация</td>\n",
       "      <td>[chuprunov.aleksandr] Описание: При набивании ...</td>\n",
       "      <td>В момент ручного заполнения полей в САП, систе...</td>\n",
       "      <td>2012-01-04 16:21:38.673</td>\n",
       "      <td>2012-01-04 16:42:32.130</td>\n",
       "      <td>IT_ERP_SAP</td>\n",
       "      <td>Дубровин Денис Владимирович</td>\n",
       "      <td>0</td>\n",
       "      <td>0</td>\n",
       "      <td>0</td>\n",
       "      <td>2012</td>\n",
       "      <td>1</td>\n",
       "      <td>4</td>\n",
       "      <td>2</td>\n",
       "      <td>2</td>\n",
       "    </tr>\n",
       "  </tbody>\n",
       "</table>\n",
       "</div>"
      ],
      "text/plain": [
       "   incident_id                            applicant classifier  \\\n",
       "0      1565301            Воеводкин Олег Евгеньевич        SAP   \n",
       "1      1565520  Васильева Наталья Александровна_del        SAP   \n",
       "2      1566472     Чупрунов Александр Александрович        SAP   \n",
       "\n",
       "                category                                        description  \\\n",
       "0                 Прочее  [voevodkin.oleg] Описание: Прошу разблокироват...   \n",
       "1                 Прочее  прошу сменить пароль на вход в систему SAP;IP:...   \n",
       "2  Обучение/консультация  [chuprunov.aleksandr] Описание: При набивании ...   \n",
       "\n",
       "                                             comment                  opened  \\\n",
       "0  Разблокировал. Пароль сбросил на 123456. Олег,... 2012-01-04 12:32:51.917   \n",
       "1           Разблокировал. Пароль сброшен на 123456. 2012-01-04 13:30:19.487   \n",
       "2  В момент ручного заполнения полей в САП, систе... 2012-01-04 16:21:38.673   \n",
       "\n",
       "                   closed support_group                   specialist  \\\n",
       "0 2012-01-04 15:10:19.100    IT_ERP_SAP      Маюков Павел Валериевич   \n",
       "1 2012-01-04 15:14:36.030    IT_ERP_SAP      Маюков Павел Валериевич   \n",
       "2 2012-01-04 16:42:32.130    IT_ERP_SAP  Дубровин Денис Владимирович   \n",
       "\n",
       "   attachments  solve_hours  solve_days  opened_year  opened_month  \\\n",
       "0            0            2           0         2012             1   \n",
       "1            0            1           0         2012             1   \n",
       "2            0            0           0         2012             1   \n",
       "\n",
       "   opened_day  opened_weekday  closed_weekday  \n",
       "0           4               2               2  \n",
       "1           4               2               2  \n",
       "2           4               2               2  "
      ]
     },
     "execution_count": 35,
     "metadata": {},
     "output_type": "execute_result"
    }
   ],
   "source": [
    "df.head(3)"
   ]
  },
  {
   "cell_type": "code",
   "execution_count": 36,
   "metadata": {},
   "outputs": [
    {
     "data": {
      "text/html": [
       "<div>\n",
       "<style>\n",
       "    .dataframe thead tr:only-child th {\n",
       "        text-align: right;\n",
       "    }\n",
       "\n",
       "    .dataframe thead th {\n",
       "        text-align: left;\n",
       "    }\n",
       "\n",
       "    .dataframe tbody tr th {\n",
       "        vertical-align: top;\n",
       "    }\n",
       "</style>\n",
       "<table border=\"1\" class=\"dataframe\">\n",
       "  <thead>\n",
       "    <tr style=\"text-align: right;\">\n",
       "      <th></th>\n",
       "      <th>incident_id</th>\n",
       "      <th>applicant</th>\n",
       "      <th>classifier</th>\n",
       "      <th>category</th>\n",
       "      <th>description</th>\n",
       "      <th>opened</th>\n",
       "      <th>closed</th>\n",
       "      <th>support_group</th>\n",
       "      <th>specialist</th>\n",
       "      <th>attachments</th>\n",
       "      <th>solve_hours</th>\n",
       "      <th>solve_days</th>\n",
       "      <th>opened_year</th>\n",
       "      <th>opened_month</th>\n",
       "      <th>opened_day</th>\n",
       "      <th>opened_weekday</th>\n",
       "      <th>closed_weekday</th>\n",
       "    </tr>\n",
       "    <tr>\n",
       "      <th>comment</th>\n",
       "      <th></th>\n",
       "      <th></th>\n",
       "      <th></th>\n",
       "      <th></th>\n",
       "      <th></th>\n",
       "      <th></th>\n",
       "      <th></th>\n",
       "      <th></th>\n",
       "      <th></th>\n",
       "      <th></th>\n",
       "      <th></th>\n",
       "      <th></th>\n",
       "      <th></th>\n",
       "      <th></th>\n",
       "      <th></th>\n",
       "      <th></th>\n",
       "      <th></th>\n",
       "    </tr>\n",
       "  </thead>\n",
       "  <tbody>\n",
       "    <tr>\n",
       "      <th>РЕШЕНО/0&lt;br/&gt;Решено</th>\n",
       "      <td>1256</td>\n",
       "      <td>1256</td>\n",
       "      <td>1256</td>\n",
       "      <td>1256</td>\n",
       "      <td>1256</td>\n",
       "      <td>1256</td>\n",
       "      <td>1256</td>\n",
       "      <td>1256</td>\n",
       "      <td>1137</td>\n",
       "      <td>1256</td>\n",
       "      <td>1256</td>\n",
       "      <td>1256</td>\n",
       "      <td>1256</td>\n",
       "      <td>1256</td>\n",
       "      <td>1256</td>\n",
       "      <td>1256</td>\n",
       "      <td>1256</td>\n",
       "    </tr>\n",
       "    <tr>\n",
       "      <th>Статус присвоен.</th>\n",
       "      <td>1148</td>\n",
       "      <td>1148</td>\n",
       "      <td>1148</td>\n",
       "      <td>1148</td>\n",
       "      <td>1148</td>\n",
       "      <td>1148</td>\n",
       "      <td>1148</td>\n",
       "      <td>1148</td>\n",
       "      <td>1103</td>\n",
       "      <td>1148</td>\n",
       "      <td>1148</td>\n",
       "      <td>1148</td>\n",
       "      <td>1148</td>\n",
       "      <td>1148</td>\n",
       "      <td>1148</td>\n",
       "      <td>1148</td>\n",
       "      <td>1148</td>\n",
       "    </tr>\n",
       "    <tr>\n",
       "      <th>Лист продаж выгружен</th>\n",
       "      <td>1083</td>\n",
       "      <td>1083</td>\n",
       "      <td>1083</td>\n",
       "      <td>1083</td>\n",
       "      <td>1083</td>\n",
       "      <td>1083</td>\n",
       "      <td>1083</td>\n",
       "      <td>1083</td>\n",
       "      <td>1078</td>\n",
       "      <td>1083</td>\n",
       "      <td>1083</td>\n",
       "      <td>1083</td>\n",
       "      <td>1083</td>\n",
       "      <td>1083</td>\n",
       "      <td>1083</td>\n",
       "      <td>1083</td>\n",
       "      <td>1083</td>\n",
       "    </tr>\n",
       "    <tr>\n",
       "      <th>РЕШЕНО/0&lt;br/&gt;Статус присвоен</th>\n",
       "      <td>572</td>\n",
       "      <td>572</td>\n",
       "      <td>572</td>\n",
       "      <td>572</td>\n",
       "      <td>572</td>\n",
       "      <td>572</td>\n",
       "      <td>572</td>\n",
       "      <td>572</td>\n",
       "      <td>568</td>\n",
       "      <td>572</td>\n",
       "      <td>572</td>\n",
       "      <td>572</td>\n",
       "      <td>572</td>\n",
       "      <td>572</td>\n",
       "      <td>572</td>\n",
       "      <td>572</td>\n",
       "      <td>572</td>\n",
       "    </tr>\n",
       "    <tr>\n",
       "      <th>готово</th>\n",
       "      <td>571</td>\n",
       "      <td>571</td>\n",
       "      <td>571</td>\n",
       "      <td>571</td>\n",
       "      <td>571</td>\n",
       "      <td>571</td>\n",
       "      <td>571</td>\n",
       "      <td>571</td>\n",
       "      <td>516</td>\n",
       "      <td>571</td>\n",
       "      <td>571</td>\n",
       "      <td>571</td>\n",
       "      <td>571</td>\n",
       "      <td>571</td>\n",
       "      <td>571</td>\n",
       "      <td>571</td>\n",
       "      <td>571</td>\n",
       "    </tr>\n",
       "    <tr>\n",
       "      <th>Материал расширен.</th>\n",
       "      <td>570</td>\n",
       "      <td>570</td>\n",
       "      <td>570</td>\n",
       "      <td>570</td>\n",
       "      <td>570</td>\n",
       "      <td>570</td>\n",
       "      <td>570</td>\n",
       "      <td>570</td>\n",
       "      <td>521</td>\n",
       "      <td>570</td>\n",
       "      <td>570</td>\n",
       "      <td>570</td>\n",
       "      <td>570</td>\n",
       "      <td>570</td>\n",
       "      <td>570</td>\n",
       "      <td>570</td>\n",
       "      <td>570</td>\n",
       "    </tr>\n",
       "    <tr>\n",
       "      <th>Исправлено.</th>\n",
       "      <td>496</td>\n",
       "      <td>496</td>\n",
       "      <td>496</td>\n",
       "      <td>496</td>\n",
       "      <td>496</td>\n",
       "      <td>496</td>\n",
       "      <td>496</td>\n",
       "      <td>496</td>\n",
       "      <td>461</td>\n",
       "      <td>496</td>\n",
       "      <td>496</td>\n",
       "      <td>496</td>\n",
       "      <td>496</td>\n",
       "      <td>496</td>\n",
       "      <td>496</td>\n",
       "      <td>496</td>\n",
       "      <td>496</td>\n",
       "    </tr>\n",
       "    <tr>\n",
       "      <th>Лист продаж выгружен, автовыгрузка налажена</th>\n",
       "      <td>430</td>\n",
       "      <td>430</td>\n",
       "      <td>430</td>\n",
       "      <td>430</td>\n",
       "      <td>430</td>\n",
       "      <td>430</td>\n",
       "      <td>430</td>\n",
       "      <td>430</td>\n",
       "      <td>430</td>\n",
       "      <td>430</td>\n",
       "      <td>430</td>\n",
       "      <td>430</td>\n",
       "      <td>430</td>\n",
       "      <td>430</td>\n",
       "      <td>430</td>\n",
       "      <td>430</td>\n",
       "      <td>430</td>\n",
       "    </tr>\n",
       "    <tr>\n",
       "      <th>РЕШЕНО/0&lt;br/&gt;Лист продаж выгружен, автовыгрузка налажена</th>\n",
       "      <td>420</td>\n",
       "      <td>420</td>\n",
       "      <td>420</td>\n",
       "      <td>420</td>\n",
       "      <td>420</td>\n",
       "      <td>420</td>\n",
       "      <td>420</td>\n",
       "      <td>420</td>\n",
       "      <td>420</td>\n",
       "      <td>420</td>\n",
       "      <td>420</td>\n",
       "      <td>420</td>\n",
       "      <td>420</td>\n",
       "      <td>420</td>\n",
       "      <td>420</td>\n",
       "      <td>420</td>\n",
       "      <td>420</td>\n",
       "    </tr>\n",
       "    <tr>\n",
       "      <th>РЕШЕНО/0&lt;br/&gt;Решено.</th>\n",
       "      <td>409</td>\n",
       "      <td>409</td>\n",
       "      <td>409</td>\n",
       "      <td>409</td>\n",
       "      <td>409</td>\n",
       "      <td>409</td>\n",
       "      <td>409</td>\n",
       "      <td>409</td>\n",
       "      <td>389</td>\n",
       "      <td>409</td>\n",
       "      <td>409</td>\n",
       "      <td>409</td>\n",
       "      <td>409</td>\n",
       "      <td>409</td>\n",
       "      <td>409</td>\n",
       "      <td>409</td>\n",
       "      <td>409</td>\n",
       "    </tr>\n",
       "    <tr>\n",
       "      <th>Решено.</th>\n",
       "      <td>408</td>\n",
       "      <td>407</td>\n",
       "      <td>408</td>\n",
       "      <td>408</td>\n",
       "      <td>408</td>\n",
       "      <td>408</td>\n",
       "      <td>408</td>\n",
       "      <td>408</td>\n",
       "      <td>376</td>\n",
       "      <td>408</td>\n",
       "      <td>408</td>\n",
       "      <td>408</td>\n",
       "      <td>408</td>\n",
       "      <td>408</td>\n",
       "      <td>408</td>\n",
       "      <td>408</td>\n",
       "      <td>408</td>\n",
       "    </tr>\n",
       "    <tr>\n",
       "      <th>Выполнено.</th>\n",
       "      <td>405</td>\n",
       "      <td>405</td>\n",
       "      <td>405</td>\n",
       "      <td>405</td>\n",
       "      <td>405</td>\n",
       "      <td>405</td>\n",
       "      <td>405</td>\n",
       "      <td>405</td>\n",
       "      <td>389</td>\n",
       "      <td>405</td>\n",
       "      <td>405</td>\n",
       "      <td>405</td>\n",
       "      <td>405</td>\n",
       "      <td>405</td>\n",
       "      <td>405</td>\n",
       "      <td>405</td>\n",
       "      <td>405</td>\n",
       "    </tr>\n",
       "    <tr>\n",
       "      <th>Поставки отпущены.</th>\n",
       "      <td>383</td>\n",
       "      <td>383</td>\n",
       "      <td>383</td>\n",
       "      <td>383</td>\n",
       "      <td>383</td>\n",
       "      <td>383</td>\n",
       "      <td>383</td>\n",
       "      <td>383</td>\n",
       "      <td>329</td>\n",
       "      <td>383</td>\n",
       "      <td>383</td>\n",
       "      <td>383</td>\n",
       "      <td>383</td>\n",
       "      <td>383</td>\n",
       "      <td>383</td>\n",
       "      <td>383</td>\n",
       "      <td>383</td>\n",
       "    </tr>\n",
       "    <tr>\n",
       "      <th>lp reloaded</th>\n",
       "      <td>352</td>\n",
       "      <td>352</td>\n",
       "      <td>352</td>\n",
       "      <td>352</td>\n",
       "      <td>352</td>\n",
       "      <td>352</td>\n",
       "      <td>352</td>\n",
       "      <td>352</td>\n",
       "      <td>343</td>\n",
       "      <td>352</td>\n",
       "      <td>352</td>\n",
       "      <td>352</td>\n",
       "      <td>352</td>\n",
       "      <td>352</td>\n",
       "      <td>352</td>\n",
       "      <td>352</td>\n",
       "      <td>352</td>\n",
       "    </tr>\n",
       "    <tr>\n",
       "      <th>Статус изменен.</th>\n",
       "      <td>310</td>\n",
       "      <td>310</td>\n",
       "      <td>310</td>\n",
       "      <td>310</td>\n",
       "      <td>310</td>\n",
       "      <td>310</td>\n",
       "      <td>310</td>\n",
       "      <td>310</td>\n",
       "      <td>295</td>\n",
       "      <td>310</td>\n",
       "      <td>310</td>\n",
       "      <td>310</td>\n",
       "      <td>310</td>\n",
       "      <td>310</td>\n",
       "      <td>310</td>\n",
       "      <td>310</td>\n",
       "      <td>310</td>\n",
       "    </tr>\n",
       "    <tr>\n",
       "      <th>ЛП выгружен</th>\n",
       "      <td>287</td>\n",
       "      <td>287</td>\n",
       "      <td>287</td>\n",
       "      <td>287</td>\n",
       "      <td>287</td>\n",
       "      <td>287</td>\n",
       "      <td>287</td>\n",
       "      <td>287</td>\n",
       "      <td>268</td>\n",
       "      <td>287</td>\n",
       "      <td>287</td>\n",
       "      <td>287</td>\n",
       "      <td>287</td>\n",
       "      <td>287</td>\n",
       "      <td>287</td>\n",
       "      <td>287</td>\n",
       "      <td>287</td>\n",
       "    </tr>\n",
       "    <tr>\n",
       "      <th>Готово.</th>\n",
       "      <td>273</td>\n",
       "      <td>273</td>\n",
       "      <td>273</td>\n",
       "      <td>273</td>\n",
       "      <td>273</td>\n",
       "      <td>273</td>\n",
       "      <td>273</td>\n",
       "      <td>273</td>\n",
       "      <td>268</td>\n",
       "      <td>273</td>\n",
       "      <td>273</td>\n",
       "      <td>273</td>\n",
       "      <td>273</td>\n",
       "      <td>273</td>\n",
       "      <td>273</td>\n",
       "      <td>273</td>\n",
       "      <td>273</td>\n",
       "    </tr>\n",
       "    <tr>\n",
       "      <th>выполнено</th>\n",
       "      <td>257</td>\n",
       "      <td>257</td>\n",
       "      <td>257</td>\n",
       "      <td>257</td>\n",
       "      <td>257</td>\n",
       "      <td>257</td>\n",
       "      <td>257</td>\n",
       "      <td>257</td>\n",
       "      <td>211</td>\n",
       "      <td>257</td>\n",
       "      <td>257</td>\n",
       "      <td>257</td>\n",
       "      <td>257</td>\n",
       "      <td>257</td>\n",
       "      <td>257</td>\n",
       "      <td>257</td>\n",
       "      <td>257</td>\n",
       "    </tr>\n",
       "    <tr>\n",
       "      <th>Завод изменен.</th>\n",
       "      <td>247</td>\n",
       "      <td>247</td>\n",
       "      <td>247</td>\n",
       "      <td>247</td>\n",
       "      <td>247</td>\n",
       "      <td>247</td>\n",
       "      <td>247</td>\n",
       "      <td>247</td>\n",
       "      <td>170</td>\n",
       "      <td>247</td>\n",
       "      <td>247</td>\n",
       "      <td>247</td>\n",
       "      <td>247</td>\n",
       "      <td>247</td>\n",
       "      <td>247</td>\n",
       "      <td>247</td>\n",
       "      <td>247</td>\n",
       "    </tr>\n",
       "    <tr>\n",
       "      <th>Комплектование отменено.</th>\n",
       "      <td>225</td>\n",
       "      <td>225</td>\n",
       "      <td>225</td>\n",
       "      <td>225</td>\n",
       "      <td>225</td>\n",
       "      <td>225</td>\n",
       "      <td>225</td>\n",
       "      <td>225</td>\n",
       "      <td>208</td>\n",
       "      <td>225</td>\n",
       "      <td>225</td>\n",
       "      <td>225</td>\n",
       "      <td>225</td>\n",
       "      <td>225</td>\n",
       "      <td>225</td>\n",
       "      <td>225</td>\n",
       "      <td>225</td>\n",
       "    </tr>\n",
       "  </tbody>\n",
       "</table>\n",
       "</div>"
      ],
      "text/plain": [
       "                                                    incident_id  applicant  \\\n",
       "comment                                                                      \n",
       "РЕШЕНО/0<br/>Решено                                        1256       1256   \n",
       "Статус присвоен.                                           1148       1148   \n",
       "Лист продаж выгружен                                       1083       1083   \n",
       "РЕШЕНО/0<br/>Статус присвоен                                572        572   \n",
       "готово                                                      571        571   \n",
       "Материал расширен.                                          570        570   \n",
       "Исправлено.                                                 496        496   \n",
       "Лист продаж выгружен, автовыгрузка налажена                 430        430   \n",
       "РЕШЕНО/0<br/>Лист продаж выгружен, автовыгрузка...          420        420   \n",
       "РЕШЕНО/0<br/>Решено.                                        409        409   \n",
       "Решено.                                                     408        407   \n",
       "Выполнено.                                                  405        405   \n",
       "Поставки отпущены.                                          383        383   \n",
       "lp reloaded                                                 352        352   \n",
       "Статус изменен.                                             310        310   \n",
       "ЛП выгружен                                                 287        287   \n",
       "Готово.                                                     273        273   \n",
       "выполнено                                                   257        257   \n",
       "Завод изменен.                                              247        247   \n",
       "Комплектование отменено.                                    225        225   \n",
       "\n",
       "                                                    classifier  category  \\\n",
       "comment                                                                    \n",
       "РЕШЕНО/0<br/>Решено                                       1256      1256   \n",
       "Статус присвоен.                                          1148      1148   \n",
       "Лист продаж выгружен                                      1083      1083   \n",
       "РЕШЕНО/0<br/>Статус присвоен                               572       572   \n",
       "готово                                                     571       571   \n",
       "Материал расширен.                                         570       570   \n",
       "Исправлено.                                                496       496   \n",
       "Лист продаж выгружен, автовыгрузка налажена                430       430   \n",
       "РЕШЕНО/0<br/>Лист продаж выгружен, автовыгрузка...         420       420   \n",
       "РЕШЕНО/0<br/>Решено.                                       409       409   \n",
       "Решено.                                                    408       408   \n",
       "Выполнено.                                                 405       405   \n",
       "Поставки отпущены.                                         383       383   \n",
       "lp reloaded                                                352       352   \n",
       "Статус изменен.                                            310       310   \n",
       "ЛП выгружен                                                287       287   \n",
       "Готово.                                                    273       273   \n",
       "выполнено                                                  257       257   \n",
       "Завод изменен.                                             247       247   \n",
       "Комплектование отменено.                                   225       225   \n",
       "\n",
       "                                                    description  opened  \\\n",
       "comment                                                                   \n",
       "РЕШЕНО/0<br/>Решено                                        1256    1256   \n",
       "Статус присвоен.                                           1148    1148   \n",
       "Лист продаж выгружен                                       1083    1083   \n",
       "РЕШЕНО/0<br/>Статус присвоен                                572     572   \n",
       "готово                                                      571     571   \n",
       "Материал расширен.                                          570     570   \n",
       "Исправлено.                                                 496     496   \n",
       "Лист продаж выгружен, автовыгрузка налажена                 430     430   \n",
       "РЕШЕНО/0<br/>Лист продаж выгружен, автовыгрузка...          420     420   \n",
       "РЕШЕНО/0<br/>Решено.                                        409     409   \n",
       "Решено.                                                     408     408   \n",
       "Выполнено.                                                  405     405   \n",
       "Поставки отпущены.                                          383     383   \n",
       "lp reloaded                                                 352     352   \n",
       "Статус изменен.                                             310     310   \n",
       "ЛП выгружен                                                 287     287   \n",
       "Готово.                                                     273     273   \n",
       "выполнено                                                   257     257   \n",
       "Завод изменен.                                              247     247   \n",
       "Комплектование отменено.                                    225     225   \n",
       "\n",
       "                                                    closed  support_group  \\\n",
       "comment                                                                     \n",
       "РЕШЕНО/0<br/>Решено                                   1256           1256   \n",
       "Статус присвоен.                                      1148           1148   \n",
       "Лист продаж выгружен                                  1083           1083   \n",
       "РЕШЕНО/0<br/>Статус присвоен                           572            572   \n",
       "готово                                                 571            571   \n",
       "Материал расширен.                                     570            570   \n",
       "Исправлено.                                            496            496   \n",
       "Лист продаж выгружен, автовыгрузка налажена            430            430   \n",
       "РЕШЕНО/0<br/>Лист продаж выгружен, автовыгрузка...     420            420   \n",
       "РЕШЕНО/0<br/>Решено.                                   409            409   \n",
       "Решено.                                                408            408   \n",
       "Выполнено.                                             405            405   \n",
       "Поставки отпущены.                                     383            383   \n",
       "lp reloaded                                            352            352   \n",
       "Статус изменен.                                        310            310   \n",
       "ЛП выгружен                                            287            287   \n",
       "Готово.                                                273            273   \n",
       "выполнено                                              257            257   \n",
       "Завод изменен.                                         247            247   \n",
       "Комплектование отменено.                               225            225   \n",
       "\n",
       "                                                    specialist  attachments  \\\n",
       "comment                                                                       \n",
       "РЕШЕНО/0<br/>Решено                                       1137         1256   \n",
       "Статус присвоен.                                          1103         1148   \n",
       "Лист продаж выгружен                                      1078         1083   \n",
       "РЕШЕНО/0<br/>Статус присвоен                               568          572   \n",
       "готово                                                     516          571   \n",
       "Материал расширен.                                         521          570   \n",
       "Исправлено.                                                461          496   \n",
       "Лист продаж выгружен, автовыгрузка налажена                430          430   \n",
       "РЕШЕНО/0<br/>Лист продаж выгружен, автовыгрузка...         420          420   \n",
       "РЕШЕНО/0<br/>Решено.                                       389          409   \n",
       "Решено.                                                    376          408   \n",
       "Выполнено.                                                 389          405   \n",
       "Поставки отпущены.                                         329          383   \n",
       "lp reloaded                                                343          352   \n",
       "Статус изменен.                                            295          310   \n",
       "ЛП выгружен                                                268          287   \n",
       "Готово.                                                    268          273   \n",
       "выполнено                                                  211          257   \n",
       "Завод изменен.                                             170          247   \n",
       "Комплектование отменено.                                   208          225   \n",
       "\n",
       "                                                    solve_hours  solve_days  \\\n",
       "comment                                                                       \n",
       "РЕШЕНО/0<br/>Решено                                        1256        1256   \n",
       "Статус присвоен.                                           1148        1148   \n",
       "Лист продаж выгружен                                       1083        1083   \n",
       "РЕШЕНО/0<br/>Статус присвоен                                572         572   \n",
       "готово                                                      571         571   \n",
       "Материал расширен.                                          570         570   \n",
       "Исправлено.                                                 496         496   \n",
       "Лист продаж выгружен, автовыгрузка налажена                 430         430   \n",
       "РЕШЕНО/0<br/>Лист продаж выгружен, автовыгрузка...          420         420   \n",
       "РЕШЕНО/0<br/>Решено.                                        409         409   \n",
       "Решено.                                                     408         408   \n",
       "Выполнено.                                                  405         405   \n",
       "Поставки отпущены.                                          383         383   \n",
       "lp reloaded                                                 352         352   \n",
       "Статус изменен.                                             310         310   \n",
       "ЛП выгружен                                                 287         287   \n",
       "Готово.                                                     273         273   \n",
       "выполнено                                                   257         257   \n",
       "Завод изменен.                                              247         247   \n",
       "Комплектование отменено.                                    225         225   \n",
       "\n",
       "                                                    opened_year  opened_month  \\\n",
       "comment                                                                         \n",
       "РЕШЕНО/0<br/>Решено                                        1256          1256   \n",
       "Статус присвоен.                                           1148          1148   \n",
       "Лист продаж выгружен                                       1083          1083   \n",
       "РЕШЕНО/0<br/>Статус присвоен                                572           572   \n",
       "готово                                                      571           571   \n",
       "Материал расширен.                                          570           570   \n",
       "Исправлено.                                                 496           496   \n",
       "Лист продаж выгружен, автовыгрузка налажена                 430           430   \n",
       "РЕШЕНО/0<br/>Лист продаж выгружен, автовыгрузка...          420           420   \n",
       "РЕШЕНО/0<br/>Решено.                                        409           409   \n",
       "Решено.                                                     408           408   \n",
       "Выполнено.                                                  405           405   \n",
       "Поставки отпущены.                                          383           383   \n",
       "lp reloaded                                                 352           352   \n",
       "Статус изменен.                                             310           310   \n",
       "ЛП выгружен                                                 287           287   \n",
       "Готово.                                                     273           273   \n",
       "выполнено                                                   257           257   \n",
       "Завод изменен.                                              247           247   \n",
       "Комплектование отменено.                                    225           225   \n",
       "\n",
       "                                                    opened_day  \\\n",
       "comment                                                          \n",
       "РЕШЕНО/0<br/>Решено                                       1256   \n",
       "Статус присвоен.                                          1148   \n",
       "Лист продаж выгружен                                      1083   \n",
       "РЕШЕНО/0<br/>Статус присвоен                               572   \n",
       "готово                                                     571   \n",
       "Материал расширен.                                         570   \n",
       "Исправлено.                                                496   \n",
       "Лист продаж выгружен, автовыгрузка налажена                430   \n",
       "РЕШЕНО/0<br/>Лист продаж выгружен, автовыгрузка...         420   \n",
       "РЕШЕНО/0<br/>Решено.                                       409   \n",
       "Решено.                                                    408   \n",
       "Выполнено.                                                 405   \n",
       "Поставки отпущены.                                         383   \n",
       "lp reloaded                                                352   \n",
       "Статус изменен.                                            310   \n",
       "ЛП выгружен                                                287   \n",
       "Готово.                                                    273   \n",
       "выполнено                                                  257   \n",
       "Завод изменен.                                             247   \n",
       "Комплектование отменено.                                   225   \n",
       "\n",
       "                                                    opened_weekday  \\\n",
       "comment                                                              \n",
       "РЕШЕНО/0<br/>Решено                                           1256   \n",
       "Статус присвоен.                                              1148   \n",
       "Лист продаж выгружен                                          1083   \n",
       "РЕШЕНО/0<br/>Статус присвоен                                   572   \n",
       "готово                                                         571   \n",
       "Материал расширен.                                             570   \n",
       "Исправлено.                                                    496   \n",
       "Лист продаж выгружен, автовыгрузка налажена                    430   \n",
       "РЕШЕНО/0<br/>Лист продаж выгружен, автовыгрузка...             420   \n",
       "РЕШЕНО/0<br/>Решено.                                           409   \n",
       "Решено.                                                        408   \n",
       "Выполнено.                                                     405   \n",
       "Поставки отпущены.                                             383   \n",
       "lp reloaded                                                    352   \n",
       "Статус изменен.                                                310   \n",
       "ЛП выгружен                                                    287   \n",
       "Готово.                                                        273   \n",
       "выполнено                                                      257   \n",
       "Завод изменен.                                                 247   \n",
       "Комплектование отменено.                                       225   \n",
       "\n",
       "                                                    closed_weekday  \n",
       "comment                                                             \n",
       "РЕШЕНО/0<br/>Решено                                           1256  \n",
       "Статус присвоен.                                              1148  \n",
       "Лист продаж выгружен                                          1083  \n",
       "РЕШЕНО/0<br/>Статус присвоен                                   572  \n",
       "готово                                                         571  \n",
       "Материал расширен.                                             570  \n",
       "Исправлено.                                                    496  \n",
       "Лист продаж выгружен, автовыгрузка налажена                    430  \n",
       "РЕШЕНО/0<br/>Лист продаж выгружен, автовыгрузка...             420  \n",
       "РЕШЕНО/0<br/>Решено.                                           409  \n",
       "Решено.                                                        408  \n",
       "Выполнено.                                                     405  \n",
       "Поставки отпущены.                                             383  \n",
       "lp reloaded                                                    352  \n",
       "Статус изменен.                                                310  \n",
       "ЛП выгружен                                                    287  \n",
       "Готово.                                                        273  \n",
       "выполнено                                                      257  \n",
       "Завод изменен.                                                 247  \n",
       "Комплектование отменено.                                       225  "
      ]
     },
     "execution_count": 36,
     "metadata": {},
     "output_type": "execute_result"
    }
   ],
   "source": [
    "df.groupby('comment').count().sort_values(by='incident_id', ascending=False).head(20)"
   ]
  },
  {
   "cell_type": "code",
   "execution_count": 37,
   "metadata": {
    "collapsed": true
   },
   "outputs": [],
   "source": [
    "df = df.drop('comment', axis=1)"
   ]
  },
  {
   "cell_type": "code",
   "execution_count": 38,
   "metadata": {},
   "outputs": [
    {
     "data": {
      "text/html": [
       "<div>\n",
       "<style>\n",
       "    .dataframe thead tr:only-child th {\n",
       "        text-align: right;\n",
       "    }\n",
       "\n",
       "    .dataframe thead th {\n",
       "        text-align: left;\n",
       "    }\n",
       "\n",
       "    .dataframe tbody tr th {\n",
       "        vertical-align: top;\n",
       "    }\n",
       "</style>\n",
       "<table border=\"1\" class=\"dataframe\">\n",
       "  <thead>\n",
       "    <tr style=\"text-align: right;\">\n",
       "      <th></th>\n",
       "      <th>incident_id</th>\n",
       "      <th>applicant</th>\n",
       "      <th>classifier</th>\n",
       "      <th>category</th>\n",
       "      <th>description</th>\n",
       "      <th>opened</th>\n",
       "      <th>closed</th>\n",
       "      <th>support_group</th>\n",
       "      <th>specialist</th>\n",
       "      <th>attachments</th>\n",
       "      <th>solve_hours</th>\n",
       "      <th>solve_days</th>\n",
       "      <th>opened_year</th>\n",
       "      <th>opened_month</th>\n",
       "      <th>opened_day</th>\n",
       "      <th>opened_weekday</th>\n",
       "      <th>closed_weekday</th>\n",
       "    </tr>\n",
       "  </thead>\n",
       "  <tbody>\n",
       "    <tr>\n",
       "      <th>0</th>\n",
       "      <td>1565301</td>\n",
       "      <td>Воеводкин Олег Евгеньевич</td>\n",
       "      <td>SAP</td>\n",
       "      <td>Прочее</td>\n",
       "      <td>[voevodkin.oleg] Описание: Прошу разблокироват...</td>\n",
       "      <td>2012-01-04 12:32:51.917</td>\n",
       "      <td>2012-01-04 15:10:19.100</td>\n",
       "      <td>IT_ERP_SAP</td>\n",
       "      <td>Маюков Павел Валериевич</td>\n",
       "      <td>0</td>\n",
       "      <td>2</td>\n",
       "      <td>0</td>\n",
       "      <td>2012</td>\n",
       "      <td>1</td>\n",
       "      <td>4</td>\n",
       "      <td>2</td>\n",
       "      <td>2</td>\n",
       "    </tr>\n",
       "    <tr>\n",
       "      <th>1</th>\n",
       "      <td>1565520</td>\n",
       "      <td>Васильева Наталья Александровна_del</td>\n",
       "      <td>SAP</td>\n",
       "      <td>Прочее</td>\n",
       "      <td>прошу сменить пароль на вход в систему SAP;IP:...</td>\n",
       "      <td>2012-01-04 13:30:19.487</td>\n",
       "      <td>2012-01-04 15:14:36.030</td>\n",
       "      <td>IT_ERP_SAP</td>\n",
       "      <td>Маюков Павел Валериевич</td>\n",
       "      <td>0</td>\n",
       "      <td>1</td>\n",
       "      <td>0</td>\n",
       "      <td>2012</td>\n",
       "      <td>1</td>\n",
       "      <td>4</td>\n",
       "      <td>2</td>\n",
       "      <td>2</td>\n",
       "    </tr>\n",
       "    <tr>\n",
       "      <th>2</th>\n",
       "      <td>1566472</td>\n",
       "      <td>Чупрунов Александр Александрович</td>\n",
       "      <td>SAP</td>\n",
       "      <td>Обучение/консультация</td>\n",
       "      <td>[chuprunov.aleksandr] Описание: При набивании ...</td>\n",
       "      <td>2012-01-04 16:21:38.673</td>\n",
       "      <td>2012-01-04 16:42:32.130</td>\n",
       "      <td>IT_ERP_SAP</td>\n",
       "      <td>Дубровин Денис Владимирович</td>\n",
       "      <td>0</td>\n",
       "      <td>0</td>\n",
       "      <td>0</td>\n",
       "      <td>2012</td>\n",
       "      <td>1</td>\n",
       "      <td>4</td>\n",
       "      <td>2</td>\n",
       "      <td>2</td>\n",
       "    </tr>\n",
       "  </tbody>\n",
       "</table>\n",
       "</div>"
      ],
      "text/plain": [
       "   incident_id                            applicant classifier  \\\n",
       "0      1565301            Воеводкин Олег Евгеньевич        SAP   \n",
       "1      1565520  Васильева Наталья Александровна_del        SAP   \n",
       "2      1566472     Чупрунов Александр Александрович        SAP   \n",
       "\n",
       "                category                                        description  \\\n",
       "0                 Прочее  [voevodkin.oleg] Описание: Прошу разблокироват...   \n",
       "1                 Прочее  прошу сменить пароль на вход в систему SAP;IP:...   \n",
       "2  Обучение/консультация  [chuprunov.aleksandr] Описание: При набивании ...   \n",
       "\n",
       "                   opened                  closed support_group  \\\n",
       "0 2012-01-04 12:32:51.917 2012-01-04 15:10:19.100    IT_ERP_SAP   \n",
       "1 2012-01-04 13:30:19.487 2012-01-04 15:14:36.030    IT_ERP_SAP   \n",
       "2 2012-01-04 16:21:38.673 2012-01-04 16:42:32.130    IT_ERP_SAP   \n",
       "\n",
       "                    specialist  attachments  solve_hours  solve_days  \\\n",
       "0      Маюков Павел Валериевич            0            2           0   \n",
       "1      Маюков Павел Валериевич            0            1           0   \n",
       "2  Дубровин Денис Владимирович            0            0           0   \n",
       "\n",
       "   opened_year  opened_month  opened_day  opened_weekday  closed_weekday  \n",
       "0         2012             1           4               2               2  \n",
       "1         2012             1           4               2               2  \n",
       "2         2012             1           4               2               2  "
      ]
     },
     "execution_count": 38,
     "metadata": {},
     "output_type": "execute_result"
    }
   ],
   "source": [
    "df.head(3)"
   ]
  },
  {
   "cell_type": "markdown",
   "metadata": {},
   "source": [
    "# Creating Features and Labels DataSets"
   ]
  },
  {
   "cell_type": "code",
   "execution_count": 39,
   "metadata": {
    "collapsed": true
   },
   "outputs": [],
   "source": [
    "# database for ML withOUT 'description'\n",
    "df1 = df.drop(['incident_id', 'description', 'opened', 'closed', 'support_group', 'specialist', 'solve_hours', 'solve_days', 'closed_weekday'], axis=1)"
   ]
  },
  {
   "cell_type": "code",
   "execution_count": 40,
   "metadata": {},
   "outputs": [
    {
     "data": {
      "text/html": [
       "<div>\n",
       "<style>\n",
       "    .dataframe thead tr:only-child th {\n",
       "        text-align: right;\n",
       "    }\n",
       "\n",
       "    .dataframe thead th {\n",
       "        text-align: left;\n",
       "    }\n",
       "\n",
       "    .dataframe tbody tr th {\n",
       "        vertical-align: top;\n",
       "    }\n",
       "</style>\n",
       "<table border=\"1\" class=\"dataframe\">\n",
       "  <thead>\n",
       "    <tr style=\"text-align: right;\">\n",
       "      <th></th>\n",
       "      <th>applicant</th>\n",
       "      <th>classifier</th>\n",
       "      <th>category</th>\n",
       "      <th>attachments</th>\n",
       "      <th>opened_year</th>\n",
       "      <th>opened_month</th>\n",
       "      <th>opened_day</th>\n",
       "      <th>opened_weekday</th>\n",
       "    </tr>\n",
       "  </thead>\n",
       "  <tbody>\n",
       "    <tr>\n",
       "      <th>0</th>\n",
       "      <td>Воеводкин Олег Евгеньевич</td>\n",
       "      <td>SAP</td>\n",
       "      <td>Прочее</td>\n",
       "      <td>0</td>\n",
       "      <td>2012</td>\n",
       "      <td>1</td>\n",
       "      <td>4</td>\n",
       "      <td>2</td>\n",
       "    </tr>\n",
       "    <tr>\n",
       "      <th>1</th>\n",
       "      <td>Васильева Наталья Александровна_del</td>\n",
       "      <td>SAP</td>\n",
       "      <td>Прочее</td>\n",
       "      <td>0</td>\n",
       "      <td>2012</td>\n",
       "      <td>1</td>\n",
       "      <td>4</td>\n",
       "      <td>2</td>\n",
       "    </tr>\n",
       "    <tr>\n",
       "      <th>2</th>\n",
       "      <td>Чупрунов Александр Александрович</td>\n",
       "      <td>SAP</td>\n",
       "      <td>Обучение/консультация</td>\n",
       "      <td>0</td>\n",
       "      <td>2012</td>\n",
       "      <td>1</td>\n",
       "      <td>4</td>\n",
       "      <td>2</td>\n",
       "    </tr>\n",
       "  </tbody>\n",
       "</table>\n",
       "</div>"
      ],
      "text/plain": [
       "                             applicant classifier               category  \\\n",
       "0            Воеводкин Олег Евгеньевич        SAP                 Прочее   \n",
       "1  Васильева Наталья Александровна_del        SAP                 Прочее   \n",
       "2     Чупрунов Александр Александрович        SAP  Обучение/консультация   \n",
       "\n",
       "   attachments  opened_year  opened_month  opened_day  opened_weekday  \n",
       "0            0         2012             1           4               2  \n",
       "1            0         2012             1           4               2  \n",
       "2            0         2012             1           4               2  "
      ]
     },
     "execution_count": 40,
     "metadata": {},
     "output_type": "execute_result"
    }
   ],
   "source": [
    "df1.head(3)"
   ]
  },
  {
   "cell_type": "code",
   "execution_count": 41,
   "metadata": {},
   "outputs": [
    {
     "data": {
      "text/plain": [
       "1      Васильева Наталья Александровна_del\n",
       "43          Бобкова Ольга Владимировна_del\n",
       "55          Бобкова Ольга Владимировна_del\n",
       "80            Реутенко Юлия Викторовна_del\n",
       "160       Александрова Анна Витальевна_del\n",
       "Name: applicant, dtype: object"
      ]
     },
     "execution_count": 41,
     "metadata": {},
     "output_type": "execute_result"
    }
   ],
   "source": [
    "# nice peace of code\n",
    "df.applicant[['_' in s for s in df.applicant.astype(dtype='str')]].head()"
   ]
  },
  {
   "cell_type": "code",
   "execution_count": 42,
   "metadata": {},
   "outputs": [
    {
     "data": {
      "text/html": [
       "<div>\n",
       "<style>\n",
       "    .dataframe thead tr:only-child th {\n",
       "        text-align: right;\n",
       "    }\n",
       "\n",
       "    .dataframe thead th {\n",
       "        text-align: left;\n",
       "    }\n",
       "\n",
       "    .dataframe tbody tr th {\n",
       "        vertical-align: top;\n",
       "    }\n",
       "</style>\n",
       "<table border=\"1\" class=\"dataframe\">\n",
       "  <thead>\n",
       "    <tr style=\"text-align: right;\">\n",
       "      <th></th>\n",
       "      <th>applicant</th>\n",
       "      <th>classifier</th>\n",
       "      <th>category</th>\n",
       "      <th>attachments</th>\n",
       "      <th>opened_year</th>\n",
       "      <th>opened_month</th>\n",
       "      <th>opened_day</th>\n",
       "      <th>opened_weekday</th>\n",
       "    </tr>\n",
       "  </thead>\n",
       "  <tbody>\n",
       "    <tr>\n",
       "      <th>0</th>\n",
       "      <td>Воеводкин Олег Евгеньевич</td>\n",
       "      <td>SAP</td>\n",
       "      <td>Прочее</td>\n",
       "      <td>0</td>\n",
       "      <td>2012</td>\n",
       "      <td>1</td>\n",
       "      <td>4</td>\n",
       "      <td>2</td>\n",
       "    </tr>\n",
       "    <tr>\n",
       "      <th>1</th>\n",
       "      <td>Васильева Наталья Александровна_del</td>\n",
       "      <td>SAP</td>\n",
       "      <td>Прочее</td>\n",
       "      <td>0</td>\n",
       "      <td>2012</td>\n",
       "      <td>1</td>\n",
       "      <td>4</td>\n",
       "      <td>2</td>\n",
       "    </tr>\n",
       "    <tr>\n",
       "      <th>2</th>\n",
       "      <td>Чупрунов Александр Александрович</td>\n",
       "      <td>SAP</td>\n",
       "      <td>Обучение/консультация</td>\n",
       "      <td>0</td>\n",
       "      <td>2012</td>\n",
       "      <td>1</td>\n",
       "      <td>4</td>\n",
       "      <td>2</td>\n",
       "    </tr>\n",
       "  </tbody>\n",
       "</table>\n",
       "</div>"
      ],
      "text/plain": [
       "                             applicant classifier               category  \\\n",
       "0            Воеводкин Олег Евгеньевич        SAP                 Прочее   \n",
       "1  Васильева Наталья Александровна_del        SAP                 Прочее   \n",
       "2     Чупрунов Александр Александрович        SAP  Обучение/консультация   \n",
       "\n",
       "   attachments  opened_year  opened_month  opened_day  opened_weekday  \n",
       "0            0         2012             1           4               2  \n",
       "1            0         2012             1           4               2  \n",
       "2            0         2012             1           4               2  "
      ]
     },
     "execution_count": 42,
     "metadata": {},
     "output_type": "execute_result"
    }
   ],
   "source": [
    "df1.head(3)"
   ]
  },
  {
   "cell_type": "code",
   "execution_count": 43,
   "metadata": {
    "collapsed": true
   },
   "outputs": [],
   "source": [
    "df1['opened_weekday'] = pd.Categorical(df1['opened_weekday'])\n",
    "df1['opened_year'] = pd.Categorical(df1['opened_year'])\n",
    "df1['opened_month'] = pd.Categorical(df1['opened_month'])\n",
    "df1['opened_day'] = pd.Categorical(df1['opened_day'])"
   ]
  },
  {
   "cell_type": "code",
   "execution_count": 44,
   "metadata": {},
   "outputs": [
    {
     "name": "stdout",
     "output_type": "stream",
     "text": [
      "<class 'pandas.core.frame.DataFrame'>\n",
      "RangeIndex: 32079 entries, 0 to 32078\n",
      "Data columns (total 8 columns):\n",
      "applicant         32073 non-null object\n",
      "classifier        32079 non-null object\n",
      "category          32079 non-null object\n",
      "attachments       32079 non-null int64\n",
      "opened_year       32079 non-null category\n",
      "opened_month      32079 non-null category\n",
      "opened_day        32079 non-null category\n",
      "opened_weekday    32079 non-null category\n",
      "dtypes: category(4), int64(1), object(3)\n",
      "memory usage: 1.1+ MB\n"
     ]
    }
   ],
   "source": [
    "df1.info()"
   ]
  },
  {
   "cell_type": "code",
   "execution_count": 45,
   "metadata": {
    "collapsed": true
   },
   "outputs": [],
   "source": [
    "df1_dummy_columns = ['applicant', 'classifier', 'category', 'opened_weekday', 'opened_year', 'opened_month', 'opened_day']"
   ]
  },
  {
   "cell_type": "code",
   "execution_count": 46,
   "metadata": {
    "collapsed": true
   },
   "outputs": [],
   "source": [
    "df1 = pd.concat([df1['attachments'], pd.get_dummies(df1[df1_dummy_columns], prefix_sep='_', dummy_na=True)], axis=1)"
   ]
  },
  {
   "cell_type": "code",
   "execution_count": 47,
   "metadata": {},
   "outputs": [
    {
     "data": {
      "text/plain": [
       "(32079, 2784)"
      ]
     },
     "execution_count": 47,
     "metadata": {},
     "output_type": "execute_result"
    }
   ],
   "source": [
    "df1.shape"
   ]
  },
  {
   "cell_type": "code",
   "execution_count": 48,
   "metadata": {
    "collapsed": true
   },
   "outputs": [],
   "source": [
    "# the function left only columns with at least n non-null elements\n",
    "def filter_columns(dataframe, n):\n",
    "    columns = [column for column in dataframe if dataframe[column].sum() >= n]\n",
    "    return dataframe[columns]"
   ]
  },
  {
   "cell_type": "code",
   "execution_count": 49,
   "metadata": {},
   "outputs": [
    {
     "name": "stdout",
     "output_type": "stream",
     "text": [
      "(32079, 886)\n",
      "0.9707636833190918\n"
     ]
    }
   ],
   "source": [
    "# experiments with a code of the 'filter_columns' function to get it work fast\n",
    "start_time = time.time()\n",
    "print(filter_columns(df1, 4).shape)\n",
    "print(time.time() - start_time)"
   ]
  },
  {
   "cell_type": "code",
   "execution_count": 50,
   "metadata": {},
   "outputs": [
    {
     "data": {
      "text/plain": [
       "[<matplotlib.lines.Line2D at 0x1f233d84d68>]"
      ]
     },
     "execution_count": 50,
     "metadata": {},
     "output_type": "execute_result"
    },
    {
     "data": {
      "image/png": "[encoded data removed]",
      "text/plain": [
       "<matplotlib.figure.Figure at 0x1f22ca9cc88>"
      ]
     },
     "metadata": {},
     "output_type": "display_data"
    }
   ],
   "source": [
    "# nice peace of code\n",
    "plt.plot([filter_columns(df1, i).shape[1] for i in range(11)])"
   ]
  },
  {
   "cell_type": "code",
   "execution_count": 51,
   "metadata": {
    "collapsed": true
   },
   "outputs": [],
   "source": [
    "X = filter_columns(df1, 320)"
   ]
  },
  {
   "cell_type": "code",
   "execution_count": 52,
   "metadata": {
    "collapsed": true
   },
   "outputs": [],
   "source": [
    "feature_names = X.columns"
   ]
  },
  {
   "cell_type": "code",
   "execution_count": 53,
   "metadata": {},
   "outputs": [
    {
     "data": {
      "text/plain": [
       "True"
      ]
     },
     "execution_count": 53,
     "metadata": {},
     "output_type": "execute_result"
    }
   ],
   "source": [
    "# all columns are numerical\n",
    "X.shape[1] == np.sum(X.dtypes == 'int64') + np.sum(X.dtypes == 'uint8')"
   ]
  },
  {
   "cell_type": "code",
   "execution_count": 54,
   "metadata": {
    "collapsed": true
   },
   "outputs": [],
   "source": [
    "X = StandardScaler().fit_transform(X)"
   ]
  },
  {
   "cell_type": "code",
   "execution_count": 55,
   "metadata": {},
   "outputs": [
    {
     "data": {
      "text/plain": [
       "array([[-0.37676585, -0.12141158, -0.11656126, -0.12518983, -0.10303809,\n",
       "        -0.12376946, -0.13353519, -0.24795247, -0.12272677, -0.10802135],\n",
       "       [-0.37676585, -0.12141158, -0.11656126, -0.12518983, -0.10303809,\n",
       "        -0.12376946, -0.13353519, -0.24795247, -0.12272677, -0.10802135],\n",
       "       [-0.37676585, -0.12141158, -0.11656126, -0.12518983, -0.10303809,\n",
       "        -0.12376946, -0.13353519, -0.24795247, -0.12272677, -0.10802135]])"
      ]
     },
     "execution_count": 55,
     "metadata": {},
     "output_type": "execute_result"
    }
   ],
   "source": [
    "X[:3, :10]"
   ]
  },
  {
   "cell_type": "code",
   "execution_count": 56,
   "metadata": {},
   "outputs": [
    {
     "data": {
      "text/plain": [
       "(32079, 83)"
      ]
     },
     "execution_count": 56,
     "metadata": {},
     "output_type": "execute_result"
    }
   ],
   "source": [
    "X.shape"
   ]
  },
  {
   "cell_type": "code",
   "execution_count": 57,
   "metadata": {},
   "outputs": [
    {
     "data": {
      "text/plain": [
       "0"
      ]
     },
     "execution_count": 57,
     "metadata": {},
     "output_type": "execute_result"
    }
   ],
   "source": [
    "# column 'support_group' has no NaN\n",
    "sum(df.support_group.isnull())"
   ]
  },
  {
   "cell_type": "code",
   "execution_count": 58,
   "metadata": {
    "collapsed": true
   },
   "outputs": [],
   "source": [
    "# forming the labels vector\n",
    "# firstly changing 'object' to 'category'\n",
    "y = df.support_group.astype('category')"
   ]
  },
  {
   "cell_type": "code",
   "execution_count": 59,
   "metadata": {},
   "outputs": [
    {
     "name": "stdout",
     "output_type": "stream",
     "text": [
      "32059    IT_ERP_SAP\n",
      "32060    IT_ERP_MDM\n",
      "32061    IT_ERP_SAP\n",
      "32062    IT_ERP_SAP\n",
      "32063    IT_ERP_SAP\n",
      "32064    IT_ERP_SAP\n",
      "32065    IT_ERP_SAP\n",
      "32066     IT_ERP_BI\n",
      "32067    IT_ERP_DWH\n",
      "32068    IT_ERP_SAP\n",
      "32069    IT_ERP_SAP\n",
      "32070    IT_ERP_SAP\n",
      "32071    IT_ERP_SAP\n",
      "32072    IT_ERP_SAP\n",
      "32073    IT_ERP_SAP\n",
      "32074    IT_ERP_SAP\n",
      "32075    IT_ERP_SAP\n",
      "32076    IT_ERP_SAP\n",
      "32077    IT_ERP_SAP\n",
      "32078    IT_ERP_SAP\n",
      "Name: support_group, dtype: category\n",
      "Categories (7, object): [IT_ERP_BI, IT_ERP_DWH, IT_ERP_ESB, IT_ERP_HYPERION, IT_ERP_MDM, IT_ERP_POSDM, IT_ERP_SAP]\n"
     ]
    }
   ],
   "source": [
    "print(y.tail(20))"
   ]
  },
  {
   "cell_type": "code",
   "execution_count": 60,
   "metadata": {
    "collapsed": true
   },
   "outputs": [],
   "source": [
    "# replaces categories names to codes from 0 to 6\n",
    "y = np.array(y.cat.codes)"
   ]
  },
  {
   "cell_type": "code",
   "execution_count": 61,
   "metadata": {},
   "outputs": [
    {
     "name": "stdout",
     "output_type": "stream",
     "text": [
      "[6 4 6 6 6 6 6 0 1 6 6 6 6 6 6 6 6 6 6 6]\n"
     ]
    }
   ],
   "source": [
    "# check by comparison with a list of names above\n",
    "print(y[-20:])"
   ]
  },
  {
   "cell_type": "markdown",
   "metadata": {},
   "source": [
    "# Predicting 'Назначенная группа' with SVC"
   ]
  },
  {
   "cell_type": "code",
   "execution_count": 62,
   "metadata": {
    "collapsed": true
   },
   "outputs": [],
   "source": [
    "# choosing support vector classifier with standard parameters\n",
    "cls_svc = SVC()"
   ]
  },
  {
   "cell_type": "code",
   "execution_count": 63,
   "metadata": {
    "collapsed": true
   },
   "outputs": [],
   "source": [
    "X_tr, X_te, y_tr, y_te = train_test_split(X, y, test_size=0.25, random_state=123, shuffle=True, stratify=y)"
   ]
  },
  {
   "cell_type": "code",
   "execution_count": 64,
   "metadata": {},
   "outputs": [
    {
     "name": "stdout",
     "output_type": "stream",
     "text": [
      "13.632062911987305\n"
     ]
    }
   ],
   "source": [
    "start_time = time.time()\n",
    "cls_svc.fit(X_tr, y_tr)\n",
    "print(time.time() - start_time)"
   ]
  },
  {
   "cell_type": "code",
   "execution_count": 65,
   "metadata": {
    "collapsed": true
   },
   "outputs": [],
   "source": [
    "y_pr = cls_svc.predict(X_te)"
   ]
  },
  {
   "cell_type": "code",
   "execution_count": 66,
   "metadata": {},
   "outputs": [
    {
     "name": "stdout",
     "output_type": "stream",
     "text": [
      "                 precision    recall  f1-score   support\n",
      "\n",
      "      IT_ERP_BI       0.98      0.97      0.97      1879\n",
      "     IT_ERP_DWH       0.91      0.66      0.76       122\n",
      "     IT_ERP_ESB       0.89      0.28      0.42        86\n",
      "IT_ERP_HYPERION       0.00      0.00      0.00        31\n",
      "     IT_ERP_MDM       0.00      0.00      0.00        18\n",
      "   IT_ERP_POSDM       0.00      0.00      0.00         2\n",
      "     IT_ERP_SAP       0.97      1.00      0.98      5882\n",
      "\n",
      "    avg / total       0.96      0.97      0.97      8020\n",
      "\n"
     ]
    },
    {
     "name": "stderr",
     "output_type": "stream",
     "text": [
      "C:\\Users\\MaxVe\\Anaconda3\\lib\\site-packages\\sklearn\\metrics\\classification.py:1135: UndefinedMetricWarning: Precision and F-score are ill-defined and being set to 0.0 in labels with no predicted samples.\n",
      "  'precision', 'predicted', average, warn_for)\n"
     ]
    }
   ],
   "source": [
    "support_group_categories = df.support_group.astype('category').cat.categories\n",
    "print(classification_report(y_te, y_pr, target_names=support_group_categories))"
   ]
  },
  {
   "cell_type": "code",
   "execution_count": 67,
   "metadata": {},
   "outputs": [
    {
     "data": {
      "text/html": [
       "<div>\n",
       "<style>\n",
       "    .dataframe thead tr:only-child th {\n",
       "        text-align: right;\n",
       "    }\n",
       "\n",
       "    .dataframe thead th {\n",
       "        text-align: left;\n",
       "    }\n",
       "\n",
       "    .dataframe tbody tr th {\n",
       "        vertical-align: top;\n",
       "    }\n",
       "</style>\n",
       "<table border=\"1\" class=\"dataframe\">\n",
       "  <thead>\n",
       "    <tr style=\"text-align: right;\">\n",
       "      <th></th>\n",
       "      <th>IT_ERP_BI</th>\n",
       "      <th>IT_ERP_DWH</th>\n",
       "      <th>IT_ERP_ESB</th>\n",
       "      <th>IT_ERP_HYPERION</th>\n",
       "      <th>IT_ERP_MDM</th>\n",
       "      <th>IT_ERP_POSDM</th>\n",
       "      <th>IT_ERP_SAP</th>\n",
       "    </tr>\n",
       "  </thead>\n",
       "  <tbody>\n",
       "    <tr>\n",
       "      <th>IT_ERP_BI</th>\n",
       "      <td>1819</td>\n",
       "      <td>1</td>\n",
       "      <td>1</td>\n",
       "      <td>0</td>\n",
       "      <td>0</td>\n",
       "      <td>0</td>\n",
       "      <td>58</td>\n",
       "    </tr>\n",
       "    <tr>\n",
       "      <th>IT_ERP_DWH</th>\n",
       "      <td>10</td>\n",
       "      <td>80</td>\n",
       "      <td>0</td>\n",
       "      <td>0</td>\n",
       "      <td>0</td>\n",
       "      <td>0</td>\n",
       "      <td>32</td>\n",
       "    </tr>\n",
       "    <tr>\n",
       "      <th>IT_ERP_ESB</th>\n",
       "      <td>22</td>\n",
       "      <td>0</td>\n",
       "      <td>24</td>\n",
       "      <td>0</td>\n",
       "      <td>0</td>\n",
       "      <td>0</td>\n",
       "      <td>40</td>\n",
       "    </tr>\n",
       "    <tr>\n",
       "      <th>IT_ERP_HYPERION</th>\n",
       "      <td>3</td>\n",
       "      <td>0</td>\n",
       "      <td>0</td>\n",
       "      <td>0</td>\n",
       "      <td>0</td>\n",
       "      <td>0</td>\n",
       "      <td>28</td>\n",
       "    </tr>\n",
       "    <tr>\n",
       "      <th>IT_ERP_MDM</th>\n",
       "      <td>0</td>\n",
       "      <td>0</td>\n",
       "      <td>0</td>\n",
       "      <td>0</td>\n",
       "      <td>0</td>\n",
       "      <td>0</td>\n",
       "      <td>18</td>\n",
       "    </tr>\n",
       "    <tr>\n",
       "      <th>IT_ERP_POSDM</th>\n",
       "      <td>0</td>\n",
       "      <td>0</td>\n",
       "      <td>0</td>\n",
       "      <td>0</td>\n",
       "      <td>0</td>\n",
       "      <td>0</td>\n",
       "      <td>2</td>\n",
       "    </tr>\n",
       "    <tr>\n",
       "      <th>IT_ERP_SAP</th>\n",
       "      <td>8</td>\n",
       "      <td>7</td>\n",
       "      <td>2</td>\n",
       "      <td>0</td>\n",
       "      <td>0</td>\n",
       "      <td>0</td>\n",
       "      <td>5865</td>\n",
       "    </tr>\n",
       "  </tbody>\n",
       "</table>\n",
       "</div>"
      ],
      "text/plain": [
       "                 IT_ERP_BI  IT_ERP_DWH  IT_ERP_ESB  IT_ERP_HYPERION  \\\n",
       "IT_ERP_BI             1819           1           1                0   \n",
       "IT_ERP_DWH              10          80           0                0   \n",
       "IT_ERP_ESB              22           0          24                0   \n",
       "IT_ERP_HYPERION          3           0           0                0   \n",
       "IT_ERP_MDM               0           0           0                0   \n",
       "IT_ERP_POSDM             0           0           0                0   \n",
       "IT_ERP_SAP               8           7           2                0   \n",
       "\n",
       "                 IT_ERP_MDM  IT_ERP_POSDM  IT_ERP_SAP  \n",
       "IT_ERP_BI                 0             0          58  \n",
       "IT_ERP_DWH                0             0          32  \n",
       "IT_ERP_ESB                0             0          40  \n",
       "IT_ERP_HYPERION           0             0          28  \n",
       "IT_ERP_MDM                0             0          18  \n",
       "IT_ERP_POSDM              0             0           2  \n",
       "IT_ERP_SAP                0             0        5865  "
      ]
     },
     "execution_count": 67,
     "metadata": {},
     "output_type": "execute_result"
    }
   ],
   "source": [
    "pd.DataFrame(confusion_matrix(y_te, y_pr, labels=range(support_group_categories.shape[0])), \\\n",
    "             columns=support_group_categories, index=support_group_categories)"
   ]
  },
  {
   "cell_type": "code",
   "execution_count": 68,
   "metadata": {
    "collapsed": true
   },
   "outputs": [],
   "source": [
    "# the same with linear kernel\n",
    "# only linear kernel let you extract feature importance from a model\n",
    "cls_svc = SVC(kernel='linear')"
   ]
  },
  {
   "cell_type": "code",
   "execution_count": 69,
   "metadata": {},
   "outputs": [
    {
     "name": "stdout",
     "output_type": "stream",
     "text": [
      "11.930479764938354\n"
     ]
    }
   ],
   "source": [
    "start_time = time.time()\n",
    "cls_svc.fit(X_tr, y_tr)\n",
    "print(time.time() - start_time)"
   ]
  },
  {
   "cell_type": "code",
   "execution_count": 70,
   "metadata": {
    "collapsed": true
   },
   "outputs": [],
   "source": [
    "y_pr = cls_svc.predict(X_te)"
   ]
  },
  {
   "cell_type": "code",
   "execution_count": 71,
   "metadata": {},
   "outputs": [
    {
     "name": "stdout",
     "output_type": "stream",
     "text": [
      "                 precision    recall  f1-score   support\n",
      "\n",
      "      IT_ERP_BI       0.98      0.97      0.97      1879\n",
      "     IT_ERP_DWH       0.91      0.66      0.76       122\n",
      "     IT_ERP_ESB       0.56      0.33      0.41        86\n",
      "IT_ERP_HYPERION       0.52      0.42      0.46        31\n",
      "     IT_ERP_MDM       0.00      0.00      0.00        18\n",
      "   IT_ERP_POSDM       0.00      0.00      0.00         2\n",
      "     IT_ERP_SAP       0.98      0.99      0.98      5882\n",
      "\n",
      "    avg / total       0.97      0.97      0.97      8020\n",
      "\n"
     ]
    },
    {
     "name": "stderr",
     "output_type": "stream",
     "text": [
      "C:\\Users\\MaxVe\\Anaconda3\\lib\\site-packages\\sklearn\\metrics\\classification.py:1135: UndefinedMetricWarning: Precision and F-score are ill-defined and being set to 0.0 in labels with no predicted samples.\n",
      "  'precision', 'predicted', average, warn_for)\n"
     ]
    }
   ],
   "source": [
    "support_group_categories = df.support_group.astype('category').cat.categories\n",
    "print(classification_report(y_te, y_pr, target_names=support_group_categories))"
   ]
  },
  {
   "cell_type": "code",
   "execution_count": 72,
   "metadata": {},
   "outputs": [
    {
     "data": {
      "text/html": [
       "<div>\n",
       "<style>\n",
       "    .dataframe thead tr:only-child th {\n",
       "        text-align: right;\n",
       "    }\n",
       "\n",
       "    .dataframe thead th {\n",
       "        text-align: left;\n",
       "    }\n",
       "\n",
       "    .dataframe tbody tr th {\n",
       "        vertical-align: top;\n",
       "    }\n",
       "</style>\n",
       "<table border=\"1\" class=\"dataframe\">\n",
       "  <thead>\n",
       "    <tr style=\"text-align: right;\">\n",
       "      <th></th>\n",
       "      <th>IT_ERP_BI</th>\n",
       "      <th>IT_ERP_DWH</th>\n",
       "      <th>IT_ERP_ESB</th>\n",
       "      <th>IT_ERP_HYPERION</th>\n",
       "      <th>IT_ERP_MDM</th>\n",
       "      <th>IT_ERP_POSDM</th>\n",
       "      <th>IT_ERP_SAP</th>\n",
       "    </tr>\n",
       "  </thead>\n",
       "  <tbody>\n",
       "    <tr>\n",
       "      <th>IT_ERP_BI</th>\n",
       "      <td>1817</td>\n",
       "      <td>1</td>\n",
       "      <td>2</td>\n",
       "      <td>3</td>\n",
       "      <td>0</td>\n",
       "      <td>1</td>\n",
       "      <td>55</td>\n",
       "    </tr>\n",
       "    <tr>\n",
       "      <th>IT_ERP_DWH</th>\n",
       "      <td>10</td>\n",
       "      <td>80</td>\n",
       "      <td>0</td>\n",
       "      <td>0</td>\n",
       "      <td>0</td>\n",
       "      <td>0</td>\n",
       "      <td>32</td>\n",
       "    </tr>\n",
       "    <tr>\n",
       "      <th>IT_ERP_ESB</th>\n",
       "      <td>24</td>\n",
       "      <td>0</td>\n",
       "      <td>28</td>\n",
       "      <td>2</td>\n",
       "      <td>0</td>\n",
       "      <td>0</td>\n",
       "      <td>32</td>\n",
       "    </tr>\n",
       "    <tr>\n",
       "      <th>IT_ERP_HYPERION</th>\n",
       "      <td>4</td>\n",
       "      <td>0</td>\n",
       "      <td>3</td>\n",
       "      <td>13</td>\n",
       "      <td>0</td>\n",
       "      <td>0</td>\n",
       "      <td>11</td>\n",
       "    </tr>\n",
       "    <tr>\n",
       "      <th>IT_ERP_MDM</th>\n",
       "      <td>0</td>\n",
       "      <td>0</td>\n",
       "      <td>2</td>\n",
       "      <td>0</td>\n",
       "      <td>0</td>\n",
       "      <td>0</td>\n",
       "      <td>16</td>\n",
       "    </tr>\n",
       "    <tr>\n",
       "      <th>IT_ERP_POSDM</th>\n",
       "      <td>0</td>\n",
       "      <td>0</td>\n",
       "      <td>0</td>\n",
       "      <td>0</td>\n",
       "      <td>0</td>\n",
       "      <td>0</td>\n",
       "      <td>2</td>\n",
       "    </tr>\n",
       "    <tr>\n",
       "      <th>IT_ERP_SAP</th>\n",
       "      <td>8</td>\n",
       "      <td>7</td>\n",
       "      <td>15</td>\n",
       "      <td>7</td>\n",
       "      <td>0</td>\n",
       "      <td>0</td>\n",
       "      <td>5845</td>\n",
       "    </tr>\n",
       "  </tbody>\n",
       "</table>\n",
       "</div>"
      ],
      "text/plain": [
       "                 IT_ERP_BI  IT_ERP_DWH  IT_ERP_ESB  IT_ERP_HYPERION  \\\n",
       "IT_ERP_BI             1817           1           2                3   \n",
       "IT_ERP_DWH              10          80           0                0   \n",
       "IT_ERP_ESB              24           0          28                2   \n",
       "IT_ERP_HYPERION          4           0           3               13   \n",
       "IT_ERP_MDM               0           0           2                0   \n",
       "IT_ERP_POSDM             0           0           0                0   \n",
       "IT_ERP_SAP               8           7          15                7   \n",
       "\n",
       "                 IT_ERP_MDM  IT_ERP_POSDM  IT_ERP_SAP  \n",
       "IT_ERP_BI                 0             1          55  \n",
       "IT_ERP_DWH                0             0          32  \n",
       "IT_ERP_ESB                0             0          32  \n",
       "IT_ERP_HYPERION           0             0          11  \n",
       "IT_ERP_MDM                0             0          16  \n",
       "IT_ERP_POSDM              0             0           2  \n",
       "IT_ERP_SAP                0             0        5845  "
      ]
     },
     "execution_count": 72,
     "metadata": {},
     "output_type": "execute_result"
    }
   ],
   "source": [
    "pd.DataFrame(confusion_matrix(y_te, y_pr, labels=range(support_group_categories.shape[0])), \\\n",
    "             columns=support_group_categories, index=support_group_categories)"
   ]
  },
  {
   "cell_type": "code",
   "execution_count": 73,
   "metadata": {
    "collapsed": true
   },
   "outputs": [],
   "source": [
    "# sorting features by importance\n",
    "# plotting n most important features\n",
    "def f_importances(coef, names, n):\n",
    "    imp = np.abs(np.mean(coef, axis=0))\n",
    "    imp, names = zip(*sorted(zip(imp, names)))\n",
    "    plt.barh(range(n), imp[-n:], align='center')\n",
    "    plt.yticks(range(n), names[-n:])\n",
    "    plt.savefig('svc_features_importance', dpi=600)\n",
    "    plt.show()"
   ]
  },
  {
   "cell_type": "code",
   "execution_count": 74,
   "metadata": {},
   "outputs": [
    {
     "data": {
      "image/png": "[encoded data removed]",
      "text/plain": [
       "<matplotlib.figure.Figure at 0x1f233dac6a0>"
      ]
     },
     "metadata": {},
     "output_type": "display_data"
    },
    {
     "name": "stdout",
     "output_type": "stream",
     "text": [
      "0 sec\n"
     ]
    }
   ],
   "source": [
    "start_time = time.time()\n",
    "f_importances(cls_svc.coef_, feature_names, 15)\n",
    "print(str(int(time.time() - start_time))+' sec')"
   ]
  },
  {
   "cell_type": "markdown",
   "metadata": {},
   "source": [
    "# Predicting a time for solving an incident"
   ]
  },
  {
   "cell_type": "code",
   "execution_count": 75,
   "metadata": {
    "collapsed": true
   },
   "outputs": [],
   "source": [
    "# 1st attempt is with feature matrix df1 as it was in previous section\n",
    "# but we aparently make the new classes vector y from df.solve_days\n",
    "# df.solve_days is of integer type\n",
    "y = np.array(df.solve_days).astype('float')"
   ]
  },
  {
   "cell_type": "code",
   "execution_count": 76,
   "metadata": {
    "collapsed": true
   },
   "outputs": [],
   "source": [
    "X = filter_columns(df1, 3200)"
   ]
  },
  {
   "cell_type": "code",
   "execution_count": 77,
   "metadata": {},
   "outputs": [
    {
     "data": {
      "text/plain": [
       "(32079, 16)"
      ]
     },
     "execution_count": 77,
     "metadata": {},
     "output_type": "execute_result"
    }
   ],
   "source": [
    "X.shape"
   ]
  },
  {
   "cell_type": "code",
   "execution_count": 78,
   "metadata": {
    "collapsed": true
   },
   "outputs": [],
   "source": [
    "X = StandardScaler().fit_transform(X)"
   ]
  },
  {
   "cell_type": "code",
   "execution_count": 79,
   "metadata": {
    "collapsed": true
   },
   "outputs": [],
   "source": [
    "X_tr, X_te, y_tr, y_te = train_test_split(X, y, test_size=0.25, random_state=123, shuffle=True)"
   ]
  },
  {
   "cell_type": "code",
   "execution_count": 80,
   "metadata": {
    "collapsed": true
   },
   "outputs": [],
   "source": [
    "# now we use svr, not svc (regressor, not classifier)\n",
    "cls_svr = SVR(kernel='linear')"
   ]
  },
  {
   "cell_type": "code",
   "execution_count": 81,
   "metadata": {},
   "outputs": [
    {
     "name": "stdout",
     "output_type": "stream",
     "text": [
      "5.768707275390625\n"
     ]
    }
   ],
   "source": [
    "start_time = time.time()\n",
    "cls_svr.fit(X_tr, y_tr)\n",
    "print(time.time() - start_time)"
   ]
  },
  {
   "cell_type": "code",
   "execution_count": 82,
   "metadata": {
    "collapsed": true
   },
   "outputs": [],
   "source": [
    "y_pr = cls_svr.predict(X_te)"
   ]
  },
  {
   "cell_type": "code",
   "execution_count": 83,
   "metadata": {},
   "outputs": [
    {
     "data": {
      "text/plain": [
       "10.069349798858029"
      ]
     },
     "execution_count": 83,
     "metadata": {},
     "output_type": "execute_result"
    }
   ],
   "source": [
    "# firstly MSE = 10 (with X = filter_columns(df1, 320), n_features = 83)\n",
    "# (14 hours) MSE = 9, precision = 82%, recall = 89% (with X = filter_columns(df1, 3), n_features = 1092)\n",
    "mean_squared_error(y_te, y_pr)"
   ]
  },
  {
   "cell_type": "code",
   "execution_count": 84,
   "metadata": {},
   "outputs": [
    {
     "name": "stdout",
     "output_type": "stream",
     "text": [
      "             precision    recall  f1-score   support\n",
      "\n",
      "          0       0.89      1.00      0.94      7159\n",
      "          1       0.00      0.00      0.00       347\n",
      "          2       0.00      0.00      0.00       174\n",
      "          3       0.00      0.00      0.00       103\n",
      "          4       0.00      0.00      0.00        50\n",
      "          5       0.00      0.00      0.00        27\n",
      "          6       0.00      0.00      0.00        29\n",
      "          7       0.00      0.00      0.00        27\n",
      "          8       0.00      0.00      0.00         9\n",
      "          9       0.00      0.00      0.00        10\n",
      "         10       0.00      0.00      0.00        10\n",
      "         11       0.00      0.00      0.00        11\n",
      "         12       0.00      0.00      0.00         6\n",
      "         13       0.00      0.00      0.00         6\n",
      "         14       0.00      0.00      0.00         4\n",
      "         15       0.00      0.00      0.00         3\n",
      "         16       0.00      0.00      0.00         2\n",
      "         17       0.00      0.00      0.00         8\n",
      "         18       0.00      0.00      0.00         2\n",
      "         19       0.00      0.00      0.00         4\n",
      "         20       0.00      0.00      0.00         2\n",
      "         21       0.00      0.00      0.00         3\n",
      "         22       0.00      0.00      0.00         3\n",
      "         23       0.00      0.00      0.00         1\n",
      "         24       0.00      0.00      0.00         2\n",
      "         25       0.00      0.00      0.00         1\n",
      "         27       0.00      0.00      0.00         1\n",
      "         28       0.00      0.00      0.00         2\n",
      "         30       0.00      0.00      0.00         2\n",
      "         31       0.00      0.00      0.00         1\n",
      "         32       0.00      0.00      0.00         1\n",
      "         35       0.00      0.00      0.00         1\n",
      "         40       0.00      0.00      0.00         1\n",
      "         45       0.00      0.00      0.00         1\n",
      "         46       0.00      0.00      0.00         1\n",
      "         56       0.00      0.00      0.00         1\n",
      "         57       0.00      0.00      0.00         1\n",
      "         65       0.00      0.00      0.00         1\n",
      "         71       0.00      0.00      0.00         1\n",
      "         81       0.00      0.00      0.00         1\n",
      "        150       0.00      0.00      0.00         1\n",
      "\n",
      "avg / total       0.80      0.89      0.84      8020\n",
      "\n"
     ]
    },
    {
     "name": "stderr",
     "output_type": "stream",
     "text": [
      "C:\\Users\\MaxVe\\Anaconda3\\lib\\site-packages\\sklearn\\metrics\\classification.py:1135: UndefinedMetricWarning: Precision and F-score are ill-defined and being set to 0.0 in labels with no predicted samples.\n",
      "  'precision', 'predicted', average, warn_for)\n"
     ]
    }
   ],
   "source": [
    "print(classification_report(y_te.astype('int'), y_pr.astype('int')))"
   ]
  },
  {
   "cell_type": "code",
   "execution_count": null,
   "metadata": {
    "collapsed": true
   },
   "outputs": [],
   "source": []
  },
  {
   "cell_type": "markdown",
   "metadata": {},
   "source": [
    "# XGBoost Regressor"
   ]
  },
  {
   "cell_type": "code",
   "execution_count": 85,
   "metadata": {
    "collapsed": true
   },
   "outputs": [],
   "source": [
    "X = filter_columns(df1, 3)"
   ]
  },
  {
   "cell_type": "code",
   "execution_count": 86,
   "metadata": {},
   "outputs": [
    {
     "data": {
      "text/plain": [
       "(32079, 1092)"
      ]
     },
     "execution_count": 86,
     "metadata": {},
     "output_type": "execute_result"
    }
   ],
   "source": [
    "X.shape"
   ]
  },
  {
   "cell_type": "code",
   "execution_count": 87,
   "metadata": {
    "collapsed": true
   },
   "outputs": [],
   "source": [
    "X = StandardScaler().fit_transform(X)"
   ]
  },
  {
   "cell_type": "code",
   "execution_count": 88,
   "metadata": {
    "collapsed": true
   },
   "outputs": [],
   "source": [
    "X_tr, X_te, y_tr, y_te = train_test_split(X, y, test_size=0.25, random_state=123, shuffle=True)"
   ]
  },
  {
   "cell_type": "code",
   "execution_count": 89,
   "metadata": {
    "collapsed": true
   },
   "outputs": [],
   "source": [
    "cls_xgbr = xgb.XGBRegressor(objective='reg:linear', seed=123)"
   ]
  },
  {
   "cell_type": "code",
   "execution_count": 90,
   "metadata": {},
   "outputs": [
    {
     "name": "stdout",
     "output_type": "stream",
     "text": [
      "9.5340416431427\n"
     ]
    }
   ],
   "source": [
    "start_time = time.time()\n",
    "cls_xgbr.fit(X_tr, y_tr)\n",
    "print(time.time() - start_time)"
   ]
  },
  {
   "cell_type": "code",
   "execution_count": 91,
   "metadata": {
    "collapsed": true
   },
   "outputs": [],
   "source": [
    "y_pr = cls_xgbr.predict(X_te)"
   ]
  },
  {
   "cell_type": "code",
   "execution_count": 92,
   "metadata": {},
   "outputs": [
    {
     "data": {
      "text/plain": [
       "7.7284387031924622"
      ]
     },
     "execution_count": 92,
     "metadata": {},
     "output_type": "execute_result"
    }
   ],
   "source": [
    "mean_squared_error(y_te, y_pr)"
   ]
  },
  {
   "cell_type": "code",
   "execution_count": 93,
   "metadata": {},
   "outputs": [
    {
     "name": "stdout",
     "output_type": "stream",
     "text": [
      "             precision    recall  f1-score   support\n",
      "\n",
      "          0       0.92      0.91      0.92      7159\n",
      "          1       0.11      0.29      0.16       347\n",
      "          2       0.08      0.01      0.02       174\n",
      "          3       0.00      0.00      0.00       103\n",
      "          4       0.00      0.00      0.00        50\n",
      "          5       0.00      0.00      0.00        27\n",
      "          6       0.00      0.00      0.00        29\n",
      "          7       0.00      0.00      0.00        27\n",
      "          8       0.00      0.00      0.00         9\n",
      "          9       0.00      0.00      0.00        10\n",
      "         10       0.00      0.00      0.00        10\n",
      "         11       0.00      0.00      0.00        11\n",
      "         12       0.50      0.17      0.25         6\n",
      "         13       0.00      0.00      0.00         6\n",
      "         14       0.00      0.00      0.00         4\n",
      "         15       0.00      0.00      0.00         3\n",
      "         16       0.00      0.00      0.00         2\n",
      "         17       0.00      0.00      0.00         8\n",
      "         18       0.00      0.00      0.00         2\n",
      "         19       0.00      0.00      0.00         4\n",
      "         20       0.00      0.00      0.00         2\n",
      "         21       0.00      0.00      0.00         3\n",
      "         22       0.00      0.00      0.00         3\n",
      "         23       0.00      0.00      0.00         1\n",
      "         24       0.00      0.00      0.00         2\n",
      "         25       0.00      0.00      0.00         1\n",
      "         27       0.00      0.00      0.00         1\n",
      "         28       0.00      0.00      0.00         2\n",
      "         30       0.00      0.00      0.00         2\n",
      "         31       0.00      0.00      0.00         1\n",
      "         32       0.00      0.00      0.00         1\n",
      "         35       0.00      0.00      0.00         1\n",
      "         39       0.00      0.00      0.00         0\n",
      "         40       0.00      0.00      0.00         1\n",
      "         45       0.00      0.00      0.00         1\n",
      "         46       0.00      0.00      0.00         1\n",
      "         56       0.00      0.00      0.00         1\n",
      "         57       0.00      0.00      0.00         1\n",
      "         65       0.00      0.00      0.00         1\n",
      "         71       0.00      0.00      0.00         1\n",
      "         81       0.00      0.00      0.00         1\n",
      "        150       0.00      0.00      0.00         1\n",
      "\n",
      "avg / total       0.83      0.83      0.83      8020\n",
      "\n"
     ]
    },
    {
     "name": "stderr",
     "output_type": "stream",
     "text": [
      "C:\\Users\\MaxVe\\Anaconda3\\lib\\site-packages\\sklearn\\metrics\\classification.py:1135: UndefinedMetricWarning: Precision and F-score are ill-defined and being set to 0.0 in labels with no predicted samples.\n",
      "  'precision', 'predicted', average, warn_for)\n",
      "C:\\Users\\MaxVe\\Anaconda3\\lib\\site-packages\\sklearn\\metrics\\classification.py:1137: UndefinedMetricWarning: Recall and F-score are ill-defined and being set to 0.0 in labels with no true samples.\n",
      "  'recall', 'true', average, warn_for)\n"
     ]
    }
   ],
   "source": [
    "print(classification_report(y_te.astype('int'), y_pr.astype('int')))"
   ]
  },
  {
   "cell_type": "code",
   "execution_count": 94,
   "metadata": {
    "collapsed": true
   },
   "outputs": [],
   "source": [
    "# fine tuning\n",
    "xgb_param_grid = {\n",
    "    'learning_rate': np.arange(0.1, 1.05, 0.15),\n",
    "    'max_depth': np.arange(2, 5, 1),\n",
    "    'n_estimators': np.arange(3, 11, 1),\n",
    "    'colsample_bytree': np.arange(0.1, 1.05, 0.15)\n",
    "}"
   ]
  },
  {
   "cell_type": "code",
   "execution_count": 95,
   "metadata": {
    "collapsed": true
   },
   "outputs": [],
   "source": [
    "#grid_mse = GridSearchCV(estimator=cls_xgbr, param_grid=xgb_param_grid, \\\n",
    "#                        scoring='neg_mean_squared_error', cv=3, verbose=1)"
   ]
  },
  {
   "cell_type": "code",
   "execution_count": 96,
   "metadata": {
    "collapsed": true
   },
   "outputs": [],
   "source": [
    "#grid_mse.fit(X, y)"
   ]
  },
  {
   "cell_type": "code",
   "execution_count": 97,
   "metadata": {
    "collapsed": true
   },
   "outputs": [],
   "source": [
    "#print(grid_mse.best_score_)\n",
    "#print(grid_mse.best_estimator_)"
   ]
  },
  {
   "cell_type": "code",
   "execution_count": 98,
   "metadata": {
    "collapsed": true
   },
   "outputs": [],
   "source": [
    "cls_xgbr = xgb.XGBRegressor(objective='reg:linear', n_estimators=3, learning_rate=0.85, max_depth=3, colsample_bytree=1, seed=123)"
   ]
  },
  {
   "cell_type": "code",
   "execution_count": 99,
   "metadata": {},
   "outputs": [
    {
     "data": {
      "text/plain": [
       "XGBRegressor(base_score=0.5, colsample_bylevel=1, colsample_bytree=1, gamma=0,\n",
       "       learning_rate=0.85, max_delta_step=0, max_depth=3,\n",
       "       min_child_weight=1, missing=None, n_estimators=3, nthread=-1,\n",
       "       objective='reg:linear', reg_alpha=0, reg_lambda=1,\n",
       "       scale_pos_weight=1, seed=123, silent=True, subsample=1)"
      ]
     },
     "execution_count": 99,
     "metadata": {},
     "output_type": "execute_result"
    }
   ],
   "source": [
    "cls_xgbr.fit(X_tr, y_tr)"
   ]
  },
  {
   "cell_type": "code",
   "execution_count": 100,
   "metadata": {
    "collapsed": true
   },
   "outputs": [],
   "source": [
    "y_pr = cls_xgbr.predict(X_te)"
   ]
  },
  {
   "cell_type": "code",
   "execution_count": 101,
   "metadata": {},
   "outputs": [
    {
     "data": {
      "text/plain": [
       "7.059297885701274"
      ]
     },
     "execution_count": 101,
     "metadata": {},
     "output_type": "execute_result"
    }
   ],
   "source": [
    "mean_squared_error(y_te, y_pr)"
   ]
  },
  {
   "cell_type": "code",
   "execution_count": 102,
   "metadata": {},
   "outputs": [
    {
     "name": "stdout",
     "output_type": "stream",
     "text": [
      "             precision    recall  f1-score   support\n",
      "\n",
      "          0       0.92      0.92      0.92      7159\n",
      "          1       0.12      0.29      0.16       347\n",
      "          2       0.00      0.00      0.00       174\n",
      "          3       0.00      0.00      0.00       103\n",
      "          4       0.00      0.00      0.00        50\n",
      "          5       0.00      0.00      0.00        27\n",
      "          6       0.00      0.00      0.00        29\n",
      "          7       0.00      0.00      0.00        27\n",
      "          8       0.00      0.00      0.00         9\n",
      "          9       0.00      0.00      0.00        10\n",
      "         10       0.00      0.00      0.00        10\n",
      "         11       0.00      0.00      0.00        11\n",
      "         12       0.00      0.00      0.00         6\n",
      "         13       0.00      0.00      0.00         6\n",
      "         14       0.00      0.00      0.00         4\n",
      "         15       0.00      0.00      0.00         3\n",
      "         16       0.00      0.00      0.00         2\n",
      "         17       0.00      0.00      0.00         8\n",
      "         18       0.00      0.00      0.00         2\n",
      "         19       0.00      0.00      0.00         4\n",
      "         20       0.00      0.00      0.00         2\n",
      "         21       0.00      0.00      0.00         3\n",
      "         22       0.00      0.00      0.00         3\n",
      "         23       0.00      0.00      0.00         1\n",
      "         24       0.00      0.00      0.00         2\n",
      "         25       0.00      0.00      0.00         1\n",
      "         27       0.00      0.00      0.00         1\n",
      "         28       0.00      0.00      0.00         2\n",
      "         29       0.00      0.00      0.00         0\n",
      "         30       0.00      0.00      0.00         2\n",
      "         31       0.00      0.00      0.00         1\n",
      "         32       0.00      0.00      0.00         1\n",
      "         35       0.00      0.00      0.00         1\n",
      "         39       0.00      0.00      0.00         0\n",
      "         40       0.00      0.00      0.00         1\n",
      "         45       0.00      0.00      0.00         1\n",
      "         46       0.00      0.00      0.00         1\n",
      "         56       0.00      0.00      0.00         1\n",
      "         57       0.00      0.00      0.00         1\n",
      "         58       0.00      0.00      0.00         0\n",
      "         65       0.00      0.00      0.00         1\n",
      "         71       0.00      0.00      0.00         1\n",
      "         81       0.00      0.00      0.00         1\n",
      "        150       0.00      0.00      0.00         1\n",
      "\n",
      "avg / total       0.83      0.83      0.83      8020\n",
      "\n"
     ]
    },
    {
     "name": "stderr",
     "output_type": "stream",
     "text": [
      "C:\\Users\\MaxVe\\Anaconda3\\lib\\site-packages\\sklearn\\metrics\\classification.py:1135: UndefinedMetricWarning: Precision and F-score are ill-defined and being set to 0.0 in labels with no predicted samples.\n",
      "  'precision', 'predicted', average, warn_for)\n",
      "C:\\Users\\MaxVe\\Anaconda3\\lib\\site-packages\\sklearn\\metrics\\classification.py:1137: UndefinedMetricWarning: Recall and F-score are ill-defined and being set to 0.0 in labels with no true samples.\n",
      "  'recall', 'true', average, warn_for)\n"
     ]
    }
   ],
   "source": [
    "print(classification_report(y_te.astype('int'), y_pr.astype('int')))"
   ]
  },
  {
   "cell_type": "markdown",
   "metadata": {
    "collapsed": true
   },
   "source": [
    "# Let's apply NLP"
   ]
  },
  {
   "cell_type": "code",
   "execution_count": 103,
   "metadata": {
    "collapsed": true
   },
   "outputs": [],
   "source": [
    "# apply NLP to 'description' column\n",
    "stemmer = RussianStemmer()"
   ]
  },
  {
   "cell_type": "code",
   "execution_count": 104,
   "metadata": {
    "collapsed": true
   },
   "outputs": [],
   "source": [
    "class StemTransformer(BaseEstimator, TransformerMixin):\n",
    "    def __init__(self):\n",
    "        pass\n",
    "\n",
    "    def stem_string(self, string):\n",
    "        word_list = word_tokenize(string)\n",
    "        return \" \".join([stemmer.stem(word) for word in word_list])\n",
    "\n",
    "    def fit(self, X, y=None):\n",
    "        return self\n",
    "\n",
    "    def transform(self, X):\n",
    "        for i in range(len(X)):\n",
    "            X[i] = self.stem_string(X[i])\n",
    "        return X"
   ]
  },
  {
   "cell_type": "code",
   "execution_count": 105,
   "metadata": {
    "collapsed": true
   },
   "outputs": [],
   "source": [
    "df2 = pd.read_excel('incidents descriptions stemmed.xlsx')"
   ]
  },
  {
   "cell_type": "code",
   "execution_count": 106,
   "metadata": {
    "collapsed": true
   },
   "outputs": [],
   "source": [
    "#start_time = time.time()\n",
    "#df2 = StemTransformer().fit_transform(df.loc[:, 'description'])\n",
    "#print(time.time() - start_time)"
   ]
  },
  {
   "cell_type": "code",
   "execution_count": 107,
   "metadata": {},
   "outputs": [
    {
     "data": {
      "text/plain": [
       "(32079, 1)"
      ]
     },
     "execution_count": 107,
     "metadata": {},
     "output_type": "execute_result"
    }
   ],
   "source": [
    "df2.shape"
   ]
  },
  {
   "cell_type": "code",
   "execution_count": 108,
   "metadata": {},
   "outputs": [
    {
     "data": {
      "text/html": [
       "<div>\n",
       "<style>\n",
       "    .dataframe thead tr:only-child th {\n",
       "        text-align: right;\n",
       "    }\n",
       "\n",
       "    .dataframe thead th {\n",
       "        text-align: left;\n",
       "    }\n",
       "\n",
       "    .dataframe tbody tr th {\n",
       "        vertical-align: top;\n",
       "    }\n",
       "</style>\n",
       "<table border=\"1\" class=\"dataframe\">\n",
       "  <thead>\n",
       "    <tr style=\"text-align: right;\">\n",
       "      <th></th>\n",
       "      <th>description</th>\n",
       "    </tr>\n",
       "  </thead>\n",
       "  <tbody>\n",
       "    <tr>\n",
       "      <th>0</th>\n",
       "      <td>[ voevodkin.oleg ] описа : прош разблокиров уч...</td>\n",
       "    </tr>\n",
       "    <tr>\n",
       "      <th>1</th>\n",
       "      <td>прош смен парол на вход в сист SAP ; IP : ; те...</td>\n",
       "    </tr>\n",
       "    <tr>\n",
       "      <th>2</th>\n",
       "      <td>[ chuprunov.aleksandr ] описа : при набива в п...</td>\n",
       "    </tr>\n",
       "  </tbody>\n",
       "</table>\n",
       "</div>"
      ],
      "text/plain": [
       "                                         description\n",
       "0  [ voevodkin.oleg ] описа : прош разблокиров уч...\n",
       "1  прош смен парол на вход в сист SAP ; IP : ; те...\n",
       "2  [ chuprunov.aleksandr ] описа : при набива в п..."
      ]
     },
     "execution_count": 108,
     "metadata": {},
     "output_type": "execute_result"
    }
   ],
   "source": [
    "df2.head(3)"
   ]
  },
  {
   "cell_type": "code",
   "execution_count": 109,
   "metadata": {
    "collapsed": true
   },
   "outputs": [],
   "source": [
    "#df2.to_excel('incidents descriptions stemmed.xlsx')"
   ]
  },
  {
   "cell_type": "code",
   "execution_count": 110,
   "metadata": {},
   "outputs": [
    {
     "name": "stdout",
     "output_type": "stream",
     "text": [
      "['[ voevodkin.oleg ] описа : прош разблокиров учетк павл аркад , горяч алекс и когут валер . ; табельн номер : 000001124 ; em : voevodkin.oleg @ mtsretail.r ; контакт : воеводкин олег евгеньевич ; номер телефон : 11637 ; ip : 192.168.80.110', 'прош смен парол на вход в сист sap ; ip : ; телефон:41984 ;', '[ chuprunov.aleksandr ] описа : при набива в пуст пол знач программ начин тормаз , на кажд букв уход от 5 до 20 секунд , как будт ищет и сравнив напис . пример можн взят заполн логин и парол . ; табельн номер : 000001379 ; em : chuprunov.aleksandr @ mtsretail.r ; контакт : чупрун александр александрович ; номер телефон : 10037 ; ip : 10.143.4.79']\n"
     ]
    }
   ],
   "source": [
    "# list of lower-case descriptions\n",
    "df2 = [t.lower() for t in df2.description]\n",
    "print(df2[:3])"
   ]
  },
  {
   "cell_type": "code",
   "execution_count": 111,
   "metadata": {
    "collapsed": true
   },
   "outputs": [],
   "source": [
    "pattern_start = r'\\[.+\\].*?:\\s'"
   ]
  },
  {
   "cell_type": "code",
   "execution_count": 112,
   "metadata": {},
   "outputs": [
    {
     "data": {
      "text/plain": [
       "<_sre.SRE_Match object; span=(0, 27), match='[ voevodkin.oleg ] описа : '>"
      ]
     },
     "execution_count": 112,
     "metadata": {},
     "output_type": "execute_result"
    }
   ],
   "source": [
    "#example 1\n",
    "re.search(pattern_start, df2[0])"
   ]
  },
  {
   "cell_type": "code",
   "execution_count": 113,
   "metadata": {},
   "outputs": [
    {
     "data": {
      "text/plain": [
       "'прош разблокиров учетк павл аркад , горяч алекс и когут валер . ; табельн номер : 000001124 ; em : voevodkin.oleg @ mtsretail.r ; контакт : воеводкин олег евгеньевич ; номер телефон : 11637 ; ip : 192.168.80.110'"
      ]
     },
     "execution_count": 113,
     "metadata": {},
     "output_type": "execute_result"
    }
   ],
   "source": [
    "#example 2\n",
    "re.sub(pattern_start, '', df2[0])"
   ]
  },
  {
   "cell_type": "code",
   "execution_count": 114,
   "metadata": {
    "collapsed": true
   },
   "outputs": [],
   "source": [
    "df2_cleaned = [re.sub(pattern_start, '', str) for str in df2]"
   ]
  },
  {
   "cell_type": "code",
   "execution_count": 115,
   "metadata": {},
   "outputs": [
    {
     "data": {
      "text/plain": [
       "['прош разблокиров учетк павл аркад , горяч алекс и когут валер . ; табельн номер : 000001124 ; em : voevodkin.oleg @ mtsretail.r ; контакт : воеводкин олег евгеньевич ; номер телефон : 11637 ; ip : 192.168.80.110',\n",
       " 'прош смен парол на вход в сист sap ; ip : ; телефон:41984 ;',\n",
       " 'при набива в пуст пол знач программ начин тормаз , на кажд букв уход от 5 до 20 секунд , как будт ищет и сравнив напис . пример можн взят заполн логин и парол . ; табельн номер : 000001379 ; em : chuprunov.aleksandr @ mtsretail.r ; контакт : чупрун александр александрович ; номер телефон : 10037 ; ip : 10.143.4.79']"
      ]
     },
     "execution_count": 115,
     "metadata": {},
     "output_type": "execute_result"
    }
   ],
   "source": [
    "df2_cleaned[:3]"
   ]
  },
  {
   "cell_type": "code",
   "execution_count": 116,
   "metadata": {
    "collapsed": true
   },
   "outputs": [],
   "source": [
    "pattern_body = r'(\\w+).+?[;<]'"
   ]
  },
  {
   "cell_type": "code",
   "execution_count": 117,
   "metadata": {},
   "outputs": [
    {
     "data": {
      "text/plain": [
       "['просьб присво айдок 78 статус из 60 : 0000000100600034 0000000100601272 ;',\n",
       " 'нет выгрузк дан в интерфейс за 03,01,16 d716 мск бронниц 01 e077 мск варшавск шосс 06 f387 мск волгоградск проспект 04 c759-d501 мск голицын 01 e479 мск дедовск 01 c318-a202 мск дмитр 02 c333-a214 мск егорьевск c336-a217 мск железнодорожн 02 d973 мск землян вал 03 d879 мск измайловск бульвар 01 c493-ai00 мск интернет-магазин f420 мск коровинск шосс 01 c331-a212мск корол 02 <',\n",
       " 'просьб расшир материа a0307-101905 по завод a199 ;',\n",
       " 'прош выгруз лп оп u202 за 03,12,2016 в bi и в интерфей. налад автовыгрузк прош направ мо заявк по назначен <',\n",
       " 'прош по рн 2015p5280001537 от 17.12.2015 измен склад получател на z500 0004 <']"
      ]
     },
     "execution_count": 117,
     "metadata": {},
     "output_type": "execute_result"
    }
   ],
   "source": [
    "#exapmle\n",
    "[re.search(pattern_body, str).group(0) for str in df2_cleaned[20500:20505]]"
   ]
  },
  {
   "cell_type": "code",
   "execution_count": 118,
   "metadata": {
    "collapsed": true
   },
   "outputs": [],
   "source": [
    "n = 0\n",
    "result = []\n",
    "for i in range(len(df2_cleaned)):\n",
    "    search_result = re.search(pattern_body, df2_cleaned[i])\n",
    "    if search_result:\n",
    "        result.append(search_result.group(0))\n",
    "    else:\n",
    "        result.append(df2_cleaned[i])\n",
    "        n += 1"
   ]
  },
  {
   "cell_type": "code",
   "execution_count": 119,
   "metadata": {},
   "outputs": [
    {
     "data": {
      "text/plain": [
       "['просьб присво айдок 78 статус из 60 : 0000000100600034 0000000100601272 ;',\n",
       " 'нет выгрузк дан в интерфейс за 03,01,16 d716 мск бронниц 01 e077 мск варшавск шосс 06 f387 мск волгоградск проспект 04 c759-d501 мск голицын 01 e479 мск дедовск 01 c318-a202 мск дмитр 02 c333-a214 мск егорьевск c336-a217 мск железнодорожн 02 d973 мск землян вал 03 d879 мск измайловск бульвар 01 c493-ai00 мск интернет-магазин f420 мск коровинск шосс 01 c331-a212мск корол 02 <',\n",
       " 'просьб расшир материа a0307-101905 по завод a199 ;',\n",
       " 'прош выгруз лп оп u202 за 03,12,2016 в bi и в интерфей. налад автовыгрузк прош направ мо заявк по назначен <',\n",
       " 'прош по рн 2015p5280001537 от 17.12.2015 измен склад получател на z500 0004 <']"
      ]
     },
     "execution_count": 119,
     "metadata": {},
     "output_type": "execute_result"
    }
   ],
   "source": [
    "result[20500:20505]"
   ]
  },
  {
   "cell_type": "code",
   "execution_count": 120,
   "metadata": {
    "collapsed": true
   },
   "outputs": [],
   "source": [
    "# I use result as a temp variable\n",
    "df2_cleaned = result"
   ]
  },
  {
   "cell_type": "code",
   "execution_count": 121,
   "metadata": {
    "collapsed": true
   },
   "outputs": [],
   "source": [
    "# tokenization\n",
    "result = [word_tokenize(str) for str in df2_cleaned]"
   ]
  },
  {
   "cell_type": "code",
   "execution_count": 122,
   "metadata": {},
   "outputs": [
    {
     "data": {
      "text/plain": [
       "['прош',\n",
       " 'по',\n",
       " 'рн',\n",
       " '2015p5280001537',\n",
       " 'от',\n",
       " '17.12.2015',\n",
       " 'измен',\n",
       " 'склад',\n",
       " 'получател',\n",
       " 'на',\n",
       " 'z500',\n",
       " '0004',\n",
       " '<']"
      ]
     },
     "execution_count": 122,
     "metadata": {},
     "output_type": "execute_result"
    }
   ],
   "source": [
    "result[20504]"
   ]
  },
  {
   "cell_type": "code",
   "execution_count": 123,
   "metadata": {},
   "outputs": [
    {
     "name": "stdout",
     "output_type": "stream",
     "text": [
      "done in 2 s.\n"
     ]
    }
   ],
   "source": [
    "# remove stop words\n",
    "stopwords_ruen = stopwords.words(['russian', 'english'])\n",
    "start_time = time.time()\n",
    "for i in range(len(result)):\n",
    "    df2_cleaned[i] = [str for str in result[i] if str not in stopwords_ruen]\n",
    "print(\"done in %0.f s.\" % (time.time() - start_time))"
   ]
  },
  {
   "cell_type": "code",
   "execution_count": 124,
   "metadata": {},
   "outputs": [
    {
     "data": {
      "text/plain": [
       "['прош',\n",
       " 'рн',\n",
       " '2015p5280001537',\n",
       " '17.12.2015',\n",
       " 'измен',\n",
       " 'склад',\n",
       " 'получател',\n",
       " 'z500',\n",
       " '0004',\n",
       " '<']"
      ]
     },
     "execution_count": 124,
     "metadata": {},
     "output_type": "execute_result"
    }
   ],
   "source": [
    "df2_cleaned[20504]"
   ]
  },
  {
   "cell_type": "code",
   "execution_count": 125,
   "metadata": {},
   "outputs": [
    {
     "name": "stdout",
     "output_type": "stream",
     "text": [
      "done in 0 s.\n"
     ]
    }
   ],
   "source": [
    "# keep alphanumerical only\n",
    "result = df2_cleaned\n",
    "start_time = time.time()\n",
    "for i in range(len(result)):\n",
    "    df2_cleaned[i] = [str for str in result[i] if str.isalnum()]\n",
    "print(\"done in %0.f s.\" % (time.time() - start_time))"
   ]
  },
  {
   "cell_type": "code",
   "execution_count": 126,
   "metadata": {},
   "outputs": [
    {
     "data": {
      "text/plain": [
       "['прош',\n",
       " 'рн',\n",
       " '2015p5280001537',\n",
       " 'измен',\n",
       " 'склад',\n",
       " 'получател',\n",
       " 'z500',\n",
       " '0004']"
      ]
     },
     "execution_count": 126,
     "metadata": {},
     "output_type": "execute_result"
    }
   ],
   "source": [
    "df2_cleaned[20504]"
   ]
  },
  {
   "cell_type": "code",
   "execution_count": 127,
   "metadata": {},
   "outputs": [
    {
     "data": {
      "text/plain": [
       "32079"
      ]
     },
     "execution_count": 127,
     "metadata": {},
     "output_type": "execute_result"
    }
   ],
   "source": [
    "len(df2_cleaned)"
   ]
  },
  {
   "cell_type": "code",
   "execution_count": 128,
   "metadata": {
    "collapsed": true
   },
   "outputs": [],
   "source": [
    "delimiter = ' '\n",
    "df2_cleaned = [delimiter.join(str) for str in df2_cleaned]"
   ]
  },
  {
   "cell_type": "code",
   "execution_count": 129,
   "metadata": {},
   "outputs": [],
   "source": [
    "#pd.DataFrame(df2_cleaned).to_excel('incidents descriptions countvect ready.xlsx')"
   ]
  },
  {
   "cell_type": "code",
   "execution_count": 130,
   "metadata": {
    "collapsed": true
   },
   "outputs": [],
   "source": [
    "countV = CountVectorizer()"
   ]
  },
  {
   "cell_type": "code",
   "execution_count": 131,
   "metadata": {},
   "outputs": [
    {
     "name": "stdout",
     "output_type": "stream",
     "text": [
      "done in 1 s.\n"
     ]
    }
   ],
   "source": [
    "start_time = time.time()\n",
    "result = countV.fit_transform(df2_cleaned)\n",
    "print(\"done in %0.f s.\" % (time.time() - start_time))"
   ]
  },
  {
   "cell_type": "code",
   "execution_count": 132,
   "metadata": {
    "collapsed": true
   },
   "outputs": [],
   "source": [
    "result = result.toarray()"
   ]
  },
  {
   "cell_type": "code",
   "execution_count": 133,
   "metadata": {},
   "outputs": [
    {
     "name": "stdout",
     "output_type": "stream",
     "text": [
      "(32079, 55088)\n"
     ]
    }
   ],
   "source": [
    "print(result.shape)"
   ]
  },
  {
   "cell_type": "code",
   "execution_count": 134,
   "metadata": {},
   "outputs": [
    {
     "data": {
      "text/plain": [
       "55088"
      ]
     },
     "execution_count": 134,
     "metadata": {},
     "output_type": "execute_result"
    }
   ],
   "source": [
    "len(countV.get_feature_names())"
   ]
  },
  {
   "cell_type": "code",
   "execution_count": 135,
   "metadata": {},
   "outputs": [
    {
     "name": "stdout",
     "output_type": "stream",
     "text": [
      "[0 0 0 ..., 0 1 0]\n"
     ]
    }
   ],
   "source": [
    "print(result[27980])"
   ]
  },
  {
   "cell_type": "code",
   "execution_count": 136,
   "metadata": {},
   "outputs": [
    {
     "data": {
      "text/plain": [
       "'просьб инцидент переда макаров ил проблем формат вывод печатн форм торг 13 транзакц zarmputin длин серийн номер помеща ячейк'"
      ]
     },
     "execution_count": 136,
     "metadata": {},
     "output_type": "execute_result"
    }
   ],
   "source": [
    "df2_cleaned[27980]"
   ]
  },
  {
   "cell_type": "code",
   "execution_count": 137,
   "metadata": {},
   "outputs": [
    {
     "data": {
      "text/plain": [
       "['ятушенк', 'яхром', 'ячеек', 'ячейк', 'ящик']"
      ]
     },
     "execution_count": 137,
     "metadata": {},
     "output_type": "execute_result"
    }
   ],
   "source": [
    "countV.get_feature_names()[-5:]"
   ]
  },
  {
   "cell_type": "code",
   "execution_count": 138,
   "metadata": {},
   "outputs": [
    {
     "data": {
      "text/plain": [
       "{'analyzer': 'word',\n",
       " 'binary': False,\n",
       " 'decode_error': 'strict',\n",
       " 'dtype': numpy.int64,\n",
       " 'encoding': 'utf-8',\n",
       " 'input': 'content',\n",
       " 'lowercase': True,\n",
       " 'max_df': 1.0,\n",
       " 'max_features': None,\n",
       " 'min_df': 1,\n",
       " 'ngram_range': (1, 1),\n",
       " 'preprocessor': None,\n",
       " 'stop_words': None,\n",
       " 'strip_accents': None,\n",
       " 'token_pattern': '(?u)\\\\b\\\\w\\\\w+\\\\b',\n",
       " 'tokenizer': None,\n",
       " 'vocabulary': None}"
      ]
     },
     "execution_count": 138,
     "metadata": {},
     "output_type": "execute_result"
    }
   ],
   "source": [
    "countV.get_params()"
   ]
  },
  {
   "cell_type": "code",
   "execution_count": 139,
   "metadata": {
    "collapsed": true
   },
   "outputs": [],
   "source": [
    "df2 = pd.DataFrame(result, columns=countV.get_feature_names())"
   ]
  },
  {
   "cell_type": "code",
   "execution_count": 140,
   "metadata": {
    "collapsed": true
   },
   "outputs": [],
   "source": [
    "result = None"
   ]
  },
  {
   "cell_type": "code",
   "execution_count": 141,
   "metadata": {},
   "outputs": [
    {
     "data": {
      "text/html": [
       "<div>\n",
       "<style>\n",
       "    .dataframe thead tr:only-child th {\n",
       "        text-align: right;\n",
       "    }\n",
       "\n",
       "    .dataframe thead th {\n",
       "        text-align: left;\n",
       "    }\n",
       "\n",
       "    .dataframe tbody tr th {\n",
       "        vertical-align: top;\n",
       "    }\n",
       "</style>\n",
       "<table border=\"1\" class=\"dataframe\">\n",
       "  <thead>\n",
       "    <tr style=\"text-align: right;\">\n",
       "      <th></th>\n",
       "      <th>00</th>\n",
       "      <th>000</th>\n",
       "      <th>00000</th>\n",
       "      <th>000000</th>\n",
       "      <th>0000000</th>\n",
       "      <th>00000000</th>\n",
       "      <th>000000000</th>\n",
       "      <th>0000000000</th>\n",
       "      <th>0000000000000000001</th>\n",
       "      <th>0000000000000024</th>\n",
       "      <th>...</th>\n",
       "      <th>ярославск</th>\n",
       "      <th>ярсл</th>\n",
       "      <th>ярцевск</th>\n",
       "      <th>ясн</th>\n",
       "      <th>ясозда</th>\n",
       "      <th>ятушенк</th>\n",
       "      <th>яхром</th>\n",
       "      <th>ячеек</th>\n",
       "      <th>ячейк</th>\n",
       "      <th>ящик</th>\n",
       "    </tr>\n",
       "  </thead>\n",
       "  <tbody>\n",
       "    <tr>\n",
       "      <th>0</th>\n",
       "      <td>0</td>\n",
       "      <td>0</td>\n",
       "      <td>0</td>\n",
       "      <td>0</td>\n",
       "      <td>0</td>\n",
       "      <td>0</td>\n",
       "      <td>0</td>\n",
       "      <td>0</td>\n",
       "      <td>0</td>\n",
       "      <td>0</td>\n",
       "      <td>...</td>\n",
       "      <td>0</td>\n",
       "      <td>0</td>\n",
       "      <td>0</td>\n",
       "      <td>0</td>\n",
       "      <td>0</td>\n",
       "      <td>0</td>\n",
       "      <td>0</td>\n",
       "      <td>0</td>\n",
       "      <td>0</td>\n",
       "      <td>0</td>\n",
       "    </tr>\n",
       "    <tr>\n",
       "      <th>1</th>\n",
       "      <td>0</td>\n",
       "      <td>0</td>\n",
       "      <td>0</td>\n",
       "      <td>0</td>\n",
       "      <td>0</td>\n",
       "      <td>0</td>\n",
       "      <td>0</td>\n",
       "      <td>0</td>\n",
       "      <td>0</td>\n",
       "      <td>0</td>\n",
       "      <td>...</td>\n",
       "      <td>0</td>\n",
       "      <td>0</td>\n",
       "      <td>0</td>\n",
       "      <td>0</td>\n",
       "      <td>0</td>\n",
       "      <td>0</td>\n",
       "      <td>0</td>\n",
       "      <td>0</td>\n",
       "      <td>0</td>\n",
       "      <td>0</td>\n",
       "    </tr>\n",
       "    <tr>\n",
       "      <th>2</th>\n",
       "      <td>0</td>\n",
       "      <td>0</td>\n",
       "      <td>0</td>\n",
       "      <td>0</td>\n",
       "      <td>0</td>\n",
       "      <td>0</td>\n",
       "      <td>0</td>\n",
       "      <td>0</td>\n",
       "      <td>0</td>\n",
       "      <td>0</td>\n",
       "      <td>...</td>\n",
       "      <td>0</td>\n",
       "      <td>0</td>\n",
       "      <td>0</td>\n",
       "      <td>0</td>\n",
       "      <td>0</td>\n",
       "      <td>0</td>\n",
       "      <td>0</td>\n",
       "      <td>0</td>\n",
       "      <td>0</td>\n",
       "      <td>0</td>\n",
       "    </tr>\n",
       "  </tbody>\n",
       "</table>\n",
       "<p>3 rows × 55088 columns</p>\n",
       "</div>"
      ],
      "text/plain": [
       "   00  000  00000  000000  0000000  00000000  000000000  0000000000  \\\n",
       "0   0    0      0       0        0         0          0           0   \n",
       "1   0    0      0       0        0         0          0           0   \n",
       "2   0    0      0       0        0         0          0           0   \n",
       "\n",
       "   0000000000000000001  0000000000000024  ...   ярославск  ярсл  ярцевск  ясн  \\\n",
       "0                    0                 0  ...           0     0        0    0   \n",
       "1                    0                 0  ...           0     0        0    0   \n",
       "2                    0                 0  ...           0     0        0    0   \n",
       "\n",
       "   ясозда  ятушенк  яхром  ячеек  ячейк  ящик  \n",
       "0       0        0      0      0      0     0  \n",
       "1       0        0      0      0      0     0  \n",
       "2       0        0      0      0      0     0  \n",
       "\n",
       "[3 rows x 55088 columns]"
      ]
     },
     "execution_count": 141,
     "metadata": {},
     "output_type": "execute_result"
    }
   ],
   "source": [
    "df2.head(3)"
   ]
  },
  {
   "cell_type": "code",
   "execution_count": 142,
   "metadata": {},
   "outputs": [
    {
     "name": "stdout",
     "output_type": "stream",
     "text": [
      "(32079, 4711)\n",
      "done in 51 s.\n"
     ]
    }
   ],
   "source": [
    "start_time = time.time()\n",
    "df2 = filter_columns(df2, 4)\n",
    "print(df2.shape)\n",
    "print(\"done in %0.f s.\" % (time.time() - start_time))"
   ]
  },
  {
   "cell_type": "code",
   "execution_count": 143,
   "metadata": {},
   "outputs": [
    {
     "name": "stdout",
     "output_type": "stream",
     "text": [
      "(32079, 886)\n",
      "done in 1 s.\n"
     ]
    }
   ],
   "source": [
    "start_time = time.time()\n",
    "df1 = filter_columns(df1, 4)\n",
    "print(df1.shape)\n",
    "print(\"done in %0.f s.\" % (time.time() - start_time))"
   ]
  },
  {
   "cell_type": "code",
   "execution_count": 144,
   "metadata": {},
   "outputs": [
    {
     "data": {
      "text/html": [
       "<div>\n",
       "<style>\n",
       "    .dataframe thead tr:only-child th {\n",
       "        text-align: right;\n",
       "    }\n",
       "\n",
       "    .dataframe thead th {\n",
       "        text-align: left;\n",
       "    }\n",
       "\n",
       "    .dataframe tbody tr th {\n",
       "        vertical-align: top;\n",
       "    }\n",
       "</style>\n",
       "<table border=\"1\" class=\"dataframe\">\n",
       "  <thead>\n",
       "    <tr style=\"text-align: right;\">\n",
       "      <th></th>\n",
       "      <th>attachments</th>\n",
       "      <th>applicant_C299-109147, Москва г, Воронцовская ул, дом № 1, стр2а</th>\n",
       "      <th>applicant_C493-127006, Москва г, Дмитровка М. ул, дом № 5/9</th>\n",
       "      <th>applicant_C637-156005, Костромская обл, Костромской р-н, Кострома г, Подлипаева ул, дом № 3</th>\n",
       "      <th>applicant_D062-680000, Хабаровский край, Хабаровск г, Муравьева-Амурского ул, 31</th>\n",
       "      <th>applicant_D145-681000, Хабаровский край, Комсомольск-на-Амуре г, Ленина ул, 26</th>\n",
       "      <th>applicant_D178-693000, Сахалинская обл, Южно-Сахалинск г, Мира пр-кт, 197 Б</th>\n",
       "      <th>applicant_E577-420066, Татарстан Респ, Казань г, Ибрагимова пр-кт, 56</th>\n",
       "      <th>applicant_H183-309180, Белгородская обл, Губкинский р-н, Губкин г, Чайковского ул, дом № 2</th>\n",
       "      <th>applicant_H261-215800, Смоленская обл, Ярцево г, Советская ул, 12 Г</th>\n",
       "      <th>...</th>\n",
       "      <th>opened_day_22.0</th>\n",
       "      <th>opened_day_23.0</th>\n",
       "      <th>opened_day_24.0</th>\n",
       "      <th>opened_day_25.0</th>\n",
       "      <th>opened_day_26.0</th>\n",
       "      <th>opened_day_27.0</th>\n",
       "      <th>opened_day_28.0</th>\n",
       "      <th>opened_day_29.0</th>\n",
       "      <th>opened_day_30.0</th>\n",
       "      <th>opened_day_31.0</th>\n",
       "    </tr>\n",
       "  </thead>\n",
       "  <tbody>\n",
       "    <tr>\n",
       "      <th>0</th>\n",
       "      <td>0</td>\n",
       "      <td>0</td>\n",
       "      <td>0</td>\n",
       "      <td>0</td>\n",
       "      <td>0</td>\n",
       "      <td>0</td>\n",
       "      <td>0</td>\n",
       "      <td>0</td>\n",
       "      <td>0</td>\n",
       "      <td>0</td>\n",
       "      <td>...</td>\n",
       "      <td>0</td>\n",
       "      <td>0</td>\n",
       "      <td>0</td>\n",
       "      <td>0</td>\n",
       "      <td>0</td>\n",
       "      <td>0</td>\n",
       "      <td>0</td>\n",
       "      <td>0</td>\n",
       "      <td>0</td>\n",
       "      <td>0</td>\n",
       "    </tr>\n",
       "    <tr>\n",
       "      <th>1</th>\n",
       "      <td>0</td>\n",
       "      <td>0</td>\n",
       "      <td>0</td>\n",
       "      <td>0</td>\n",
       "      <td>0</td>\n",
       "      <td>0</td>\n",
       "      <td>0</td>\n",
       "      <td>0</td>\n",
       "      <td>0</td>\n",
       "      <td>0</td>\n",
       "      <td>...</td>\n",
       "      <td>0</td>\n",
       "      <td>0</td>\n",
       "      <td>0</td>\n",
       "      <td>0</td>\n",
       "      <td>0</td>\n",
       "      <td>0</td>\n",
       "      <td>0</td>\n",
       "      <td>0</td>\n",
       "      <td>0</td>\n",
       "      <td>0</td>\n",
       "    </tr>\n",
       "    <tr>\n",
       "      <th>2</th>\n",
       "      <td>0</td>\n",
       "      <td>0</td>\n",
       "      <td>0</td>\n",
       "      <td>0</td>\n",
       "      <td>0</td>\n",
       "      <td>0</td>\n",
       "      <td>0</td>\n",
       "      <td>0</td>\n",
       "      <td>0</td>\n",
       "      <td>0</td>\n",
       "      <td>...</td>\n",
       "      <td>0</td>\n",
       "      <td>0</td>\n",
       "      <td>0</td>\n",
       "      <td>0</td>\n",
       "      <td>0</td>\n",
       "      <td>0</td>\n",
       "      <td>0</td>\n",
       "      <td>0</td>\n",
       "      <td>0</td>\n",
       "      <td>0</td>\n",
       "    </tr>\n",
       "  </tbody>\n",
       "</table>\n",
       "<p>3 rows × 886 columns</p>\n",
       "</div>"
      ],
      "text/plain": [
       "   attachments  \\\n",
       "0            0   \n",
       "1            0   \n",
       "2            0   \n",
       "\n",
       "   applicant_C299-109147, Москва г, Воронцовская ул, дом № 1, стр2а  \\\n",
       "0                                                  0                  \n",
       "1                                                  0                  \n",
       "2                                                  0                  \n",
       "\n",
       "   applicant_C493-127006, Москва г, Дмитровка М. ул, дом № 5/9  \\\n",
       "0                                                  0             \n",
       "1                                                  0             \n",
       "2                                                  0             \n",
       "\n",
       "   applicant_C637-156005, Костромская обл, Костромской р-н, Кострома г, Подлипаева ул, дом № 3  \\\n",
       "0                                                  0                                             \n",
       "1                                                  0                                             \n",
       "2                                                  0                                             \n",
       "\n",
       "   applicant_D062-680000, Хабаровский край, Хабаровск г, Муравьева-Амурского ул, 31  \\\n",
       "0                                                  0                                  \n",
       "1                                                  0                                  \n",
       "2                                                  0                                  \n",
       "\n",
       "   applicant_D145-681000, Хабаровский край, Комсомольск-на-Амуре г, Ленина ул, 26  \\\n",
       "0                                                  0                                \n",
       "1                                                  0                                \n",
       "2                                                  0                                \n",
       "\n",
       "   applicant_D178-693000, Сахалинская обл, Южно-Сахалинск г, Мира пр-кт, 197 Б  \\\n",
       "0                                                  0                             \n",
       "1                                                  0                             \n",
       "2                                                  0                             \n",
       "\n",
       "   applicant_E577-420066, Татарстан Респ, Казань г, Ибрагимова пр-кт, 56  \\\n",
       "0                                                  0                       \n",
       "1                                                  0                       \n",
       "2                                                  0                       \n",
       "\n",
       "   applicant_H183-309180, Белгородская обл, Губкинский р-н, Губкин г, Чайковского ул, дом № 2  \\\n",
       "0                                                  0                                            \n",
       "1                                                  0                                            \n",
       "2                                                  0                                            \n",
       "\n",
       "   applicant_H261-215800, Смоленская обл, Ярцево г, Советская ул, 12 Г  \\\n",
       "0                                                  0                     \n",
       "1                                                  0                     \n",
       "2                                                  0                     \n",
       "\n",
       "        ...         opened_day_22.0  opened_day_23.0  opened_day_24.0  \\\n",
       "0       ...                       0                0                0   \n",
       "1       ...                       0                0                0   \n",
       "2       ...                       0                0                0   \n",
       "\n",
       "   opened_day_25.0  opened_day_26.0  opened_day_27.0  opened_day_28.0  \\\n",
       "0                0                0                0                0   \n",
       "1                0                0                0                0   \n",
       "2                0                0                0                0   \n",
       "\n",
       "   opened_day_29.0  opened_day_30.0  opened_day_31.0  \n",
       "0                0                0                0  \n",
       "1                0                0                0  \n",
       "2                0                0                0  \n",
       "\n",
       "[3 rows x 886 columns]"
      ]
     },
     "execution_count": 144,
     "metadata": {},
     "output_type": "execute_result"
    }
   ],
   "source": [
    "df1.head(3)"
   ]
  },
  {
   "cell_type": "code",
   "execution_count": 145,
   "metadata": {},
   "outputs": [
    {
     "data": {
      "text/html": [
       "<div>\n",
       "<style>\n",
       "    .dataframe thead tr:only-child th {\n",
       "        text-align: right;\n",
       "    }\n",
       "\n",
       "    .dataframe thead th {\n",
       "        text-align: left;\n",
       "    }\n",
       "\n",
       "    .dataframe tbody tr th {\n",
       "        vertical-align: top;\n",
       "    }\n",
       "</style>\n",
       "<table border=\"1\" class=\"dataframe\">\n",
       "  <thead>\n",
       "    <tr style=\"text-align: right;\">\n",
       "      <th></th>\n",
       "      <th>000</th>\n",
       "      <th>00000</th>\n",
       "      <th>000000</th>\n",
       "      <th>0000000126261224</th>\n",
       "      <th>0000000126274422</th>\n",
       "      <th>0000000126303668</th>\n",
       "      <th>0000000126305754</th>\n",
       "      <th>0000000126315629</th>\n",
       "      <th>0001</th>\n",
       "      <th>00010</th>\n",
       "      <th>...</th>\n",
       "      <th>юрьевич</th>\n",
       "      <th>юрьевн</th>\n",
       "      <th>явля</th>\n",
       "      <th>якоб</th>\n",
       "      <th>якутск</th>\n",
       "      <th>яна</th>\n",
       "      <th>январ</th>\n",
       "      <th>ярлык</th>\n",
       "      <th>ячейк</th>\n",
       "      <th>ящик</th>\n",
       "    </tr>\n",
       "  </thead>\n",
       "  <tbody>\n",
       "    <tr>\n",
       "      <th>0</th>\n",
       "      <td>0</td>\n",
       "      <td>0</td>\n",
       "      <td>0</td>\n",
       "      <td>0</td>\n",
       "      <td>0</td>\n",
       "      <td>0</td>\n",
       "      <td>0</td>\n",
       "      <td>0</td>\n",
       "      <td>0</td>\n",
       "      <td>0</td>\n",
       "      <td>...</td>\n",
       "      <td>0</td>\n",
       "      <td>0</td>\n",
       "      <td>0</td>\n",
       "      <td>0</td>\n",
       "      <td>0</td>\n",
       "      <td>0</td>\n",
       "      <td>0</td>\n",
       "      <td>0</td>\n",
       "      <td>0</td>\n",
       "      <td>0</td>\n",
       "    </tr>\n",
       "    <tr>\n",
       "      <th>1</th>\n",
       "      <td>0</td>\n",
       "      <td>0</td>\n",
       "      <td>0</td>\n",
       "      <td>0</td>\n",
       "      <td>0</td>\n",
       "      <td>0</td>\n",
       "      <td>0</td>\n",
       "      <td>0</td>\n",
       "      <td>0</td>\n",
       "      <td>0</td>\n",
       "      <td>...</td>\n",
       "      <td>0</td>\n",
       "      <td>0</td>\n",
       "      <td>0</td>\n",
       "      <td>0</td>\n",
       "      <td>0</td>\n",
       "      <td>0</td>\n",
       "      <td>0</td>\n",
       "      <td>0</td>\n",
       "      <td>0</td>\n",
       "      <td>0</td>\n",
       "    </tr>\n",
       "    <tr>\n",
       "      <th>2</th>\n",
       "      <td>0</td>\n",
       "      <td>0</td>\n",
       "      <td>0</td>\n",
       "      <td>0</td>\n",
       "      <td>0</td>\n",
       "      <td>0</td>\n",
       "      <td>0</td>\n",
       "      <td>0</td>\n",
       "      <td>0</td>\n",
       "      <td>0</td>\n",
       "      <td>...</td>\n",
       "      <td>0</td>\n",
       "      <td>0</td>\n",
       "      <td>0</td>\n",
       "      <td>0</td>\n",
       "      <td>0</td>\n",
       "      <td>0</td>\n",
       "      <td>0</td>\n",
       "      <td>0</td>\n",
       "      <td>0</td>\n",
       "      <td>0</td>\n",
       "    </tr>\n",
       "  </tbody>\n",
       "</table>\n",
       "<p>3 rows × 4711 columns</p>\n",
       "</div>"
      ],
      "text/plain": [
       "   000  00000  000000  0000000126261224  0000000126274422  0000000126303668  \\\n",
       "0    0      0       0                 0                 0                 0   \n",
       "1    0      0       0                 0                 0                 0   \n",
       "2    0      0       0                 0                 0                 0   \n",
       "\n",
       "   0000000126305754  0000000126315629  0001  00010  ...   юрьевич  юрьевн  \\\n",
       "0                 0                 0     0      0  ...         0       0   \n",
       "1                 0                 0     0      0  ...         0       0   \n",
       "2                 0                 0     0      0  ...         0       0   \n",
       "\n",
       "   явля  якоб  якутск  яна  январ  ярлык  ячейк  ящик  \n",
       "0     0     0       0    0      0      0      0     0  \n",
       "1     0     0       0    0      0      0      0     0  \n",
       "2     0     0       0    0      0      0      0     0  \n",
       "\n",
       "[3 rows x 4711 columns]"
      ]
     },
     "execution_count": 145,
     "metadata": {},
     "output_type": "execute_result"
    }
   ],
   "source": [
    "df2.head(3)"
   ]
  },
  {
   "cell_type": "code",
   "execution_count": 146,
   "metadata": {},
   "outputs": [
    {
     "name": "stdout",
     "output_type": "stream",
     "text": [
      "size of df1 is: 3496 KB\n",
      "size of df2 is: 147582 KB\n"
     ]
    }
   ],
   "source": [
    "print('size of df1 is:', getsizeof(df1)//8//1024, 'KB')\n",
    "print('size of df2 is:', getsizeof(df2)//8//1024, 'KB')"
   ]
  },
  {
   "cell_type": "code",
   "execution_count": 147,
   "metadata": {
    "collapsed": true
   },
   "outputs": [],
   "source": [
    "# everything is ready now for working with NLPed data"
   ]
  },
  {
   "cell_type": "markdown",
   "metadata": {
    "collapsed": true
   },
   "source": [
    "# XGBoost with descriptions for solving time"
   ]
  },
  {
   "cell_type": "code",
   "execution_count": 148,
   "metadata": {
    "collapsed": true
   },
   "outputs": [],
   "source": [
    "#X = pd.concat([filter_columns(df1, 4), filter_columns(df2, 4)], axis=1)\n",
    "X = filter_columns(df2, 4)"
   ]
  },
  {
   "cell_type": "code",
   "execution_count": 149,
   "metadata": {},
   "outputs": [
    {
     "data": {
      "text/plain": [
       "(32079, 4711)"
      ]
     },
     "execution_count": 149,
     "metadata": {},
     "output_type": "execute_result"
    }
   ],
   "source": [
    "X.shape"
   ]
  },
  {
   "cell_type": "code",
   "execution_count": 150,
   "metadata": {
    "collapsed": true
   },
   "outputs": [],
   "source": [
    "X = StandardScaler().fit_transform(X)"
   ]
  },
  {
   "cell_type": "code",
   "execution_count": 151,
   "metadata": {
    "collapsed": true
   },
   "outputs": [],
   "source": [
    "X_tr, X_te, y_tr, y_te = train_test_split(X, y, test_size=0.25, random_state=123, shuffle=True)"
   ]
  },
  {
   "cell_type": "code",
   "execution_count": 152,
   "metadata": {
    "collapsed": true
   },
   "outputs": [],
   "source": [
    "cls_xgbr = xgb.XGBRegressor(objective='reg:linear', seed=123)"
   ]
  },
  {
   "cell_type": "code",
   "execution_count": 153,
   "metadata": {},
   "outputs": [
    {
     "name": "stdout",
     "output_type": "stream",
     "text": [
      "done in 40 s.\n"
     ]
    }
   ],
   "source": [
    "start_time = time.time()\n",
    "cls_xgbr.fit(X_tr, y_tr)\n",
    "print(\"done in %0.f s.\" % (time.time() - start_time))"
   ]
  },
  {
   "cell_type": "code",
   "execution_count": 154,
   "metadata": {
    "collapsed": true
   },
   "outputs": [],
   "source": [
    "y_pr = cls_xgbr.predict(X_te)"
   ]
  },
  {
   "cell_type": "code",
   "execution_count": 155,
   "metadata": {},
   "outputs": [
    {
     "data": {
      "text/plain": [
       "9.545344770893907"
      ]
     },
     "execution_count": 155,
     "metadata": {},
     "output_type": "execute_result"
    }
   ],
   "source": [
    "mean_squared_error(y_te, y_pr)"
   ]
  },
  {
   "cell_type": "code",
   "execution_count": 156,
   "metadata": {},
   "outputs": [
    {
     "name": "stdout",
     "output_type": "stream",
     "text": [
      "             precision    recall  f1-score   support\n",
      "\n",
      "          0       0.90      0.98      0.94      7159\n",
      "          1       0.14      0.09      0.11       347\n",
      "          2       0.06      0.01      0.01       174\n",
      "          3       0.00      0.00      0.00       103\n",
      "          4       0.00      0.00      0.00        50\n",
      "          5       0.00      0.00      0.00        27\n",
      "          6       0.00      0.00      0.00        29\n",
      "          7       0.00      0.00      0.00        27\n",
      "          8       0.00      0.00      0.00         9\n",
      "          9       0.00      0.00      0.00        10\n",
      "         10       0.00      0.00      0.00        10\n",
      "         11       0.00      0.00      0.00        11\n",
      "         12       0.00      0.00      0.00         6\n",
      "         13       0.00      0.00      0.00         6\n",
      "         14       0.00      0.00      0.00         4\n",
      "         15       0.00      0.00      0.00         3\n",
      "         16       0.00      0.00      0.00         2\n",
      "         17       0.00      0.00      0.00         8\n",
      "         18       0.00      0.00      0.00         2\n",
      "         19       0.00      0.00      0.00         4\n",
      "         20       0.00      0.00      0.00         2\n",
      "         21       0.00      0.00      0.00         3\n",
      "         22       0.00      0.00      0.00         3\n",
      "         23       0.00      0.00      0.00         1\n",
      "         24       0.00      0.00      0.00         2\n",
      "         25       0.00      0.00      0.00         1\n",
      "         26       0.00      0.00      0.00         0\n",
      "         27       0.00      0.00      0.00         1\n",
      "         28       0.00      0.00      0.00         2\n",
      "         30       0.00      0.00      0.00         2\n",
      "         31       0.00      0.00      0.00         1\n",
      "         32       0.00      0.00      0.00         1\n",
      "         35       0.00      0.00      0.00         1\n",
      "         40       0.00      0.00      0.00         1\n",
      "         41       0.00      0.00      0.00         0\n",
      "         45       0.00      0.00      0.00         1\n",
      "         46       0.00      0.00      0.00         1\n",
      "         56       0.00      0.00      0.00         1\n",
      "         57       0.00      0.00      0.00         1\n",
      "         62       0.00      0.00      0.00         0\n",
      "         65       0.00      0.00      0.00         1\n",
      "         71       0.00      0.00      0.00         1\n",
      "         81       0.00      0.00      0.00         1\n",
      "        150       0.00      0.00      0.00         1\n",
      "\n",
      "avg / total       0.81      0.88      0.84      8020\n",
      "\n"
     ]
    },
    {
     "name": "stderr",
     "output_type": "stream",
     "text": [
      "C:\\Users\\MaxVe\\Anaconda3\\lib\\site-packages\\sklearn\\metrics\\classification.py:1135: UndefinedMetricWarning: Precision and F-score are ill-defined and being set to 0.0 in labels with no predicted samples.\n",
      "  'precision', 'predicted', average, warn_for)\n",
      "C:\\Users\\MaxVe\\Anaconda3\\lib\\site-packages\\sklearn\\metrics\\classification.py:1137: UndefinedMetricWarning: Recall and F-score are ill-defined and being set to 0.0 in labels with no true samples.\n",
      "  'recall', 'true', average, warn_for)\n"
     ]
    }
   ],
   "source": [
    "print(classification_report(y_te.astype('int'), y_pr.astype('int')))"
   ]
  },
  {
   "cell_type": "code",
   "execution_count": 157,
   "metadata": {
    "collapsed": true
   },
   "outputs": [],
   "source": [
    "# fine tuning\n",
    "xgb_param_grid = {\n",
    "    'learning_rate': np.arange(0.1, 1.05, 0.15),\n",
    "    'max_depth': np.arange(2, 5, 1),\n",
    "    'n_estimators': np.arange(3, 11, 1),\n",
    "    'colsample_bytree': np.arange(0.1, 1.05, 0.15)\n",
    "}"
   ]
  },
  {
   "cell_type": "code",
   "execution_count": 158,
   "metadata": {},
   "outputs": [],
   "source": [
    "#grid_mse = RandomizedSearchCV(estimator=cls_xgbr, param_distributions=xgb_param_grid, \\\n",
    "#                              n_iter=300, scoring='neg_mean_squared_error', cv=4, verbose=1, random_state=123)"
   ]
  },
  {
   "cell_type": "code",
   "execution_count": 159,
   "metadata": {},
   "outputs": [],
   "source": [
    "#grid_mse.fit(X, y)"
   ]
  },
  {
   "cell_type": "code",
   "execution_count": 160,
   "metadata": {},
   "outputs": [],
   "source": [
    "#print(grid_mse.best_score_)\n",
    "#print(grid_mse.best_estimator_)"
   ]
  },
  {
   "cell_type": "code",
   "execution_count": 161,
   "metadata": {
    "collapsed": true
   },
   "outputs": [],
   "source": [
    "cls_xgbr = xgb.XGBRegressor(objective='reg:linear', n_estimators=5, learning_rate=0.1, max_depth=4, colsample_bytree=0.1, seed=123)"
   ]
  },
  {
   "cell_type": "code",
   "execution_count": 162,
   "metadata": {},
   "outputs": [
    {
     "data": {
      "text/plain": [
       "XGBRegressor(base_score=0.5, colsample_bylevel=1, colsample_bytree=0.1,\n",
       "       gamma=0, learning_rate=0.1, max_delta_step=0, max_depth=4,\n",
       "       min_child_weight=1, missing=None, n_estimators=5, nthread=-1,\n",
       "       objective='reg:linear', reg_alpha=0, reg_lambda=1,\n",
       "       scale_pos_weight=1, seed=123, silent=True, subsample=1)"
      ]
     },
     "execution_count": 162,
     "metadata": {},
     "output_type": "execute_result"
    }
   ],
   "source": [
    "cls_xgbr.fit(X_tr, y_tr)"
   ]
  },
  {
   "cell_type": "code",
   "execution_count": 163,
   "metadata": {
    "collapsed": true
   },
   "outputs": [],
   "source": [
    "y_pr = cls_xgbr.predict(X_te)"
   ]
  },
  {
   "cell_type": "code",
   "execution_count": 164,
   "metadata": {},
   "outputs": [
    {
     "data": {
      "text/plain": [
       "9.7605375650608668"
      ]
     },
     "execution_count": 164,
     "metadata": {},
     "output_type": "execute_result"
    }
   ],
   "source": [
    "mean_squared_error(y_te, y_pr)"
   ]
  },
  {
   "cell_type": "code",
   "execution_count": 165,
   "metadata": {},
   "outputs": [
    {
     "name": "stdout",
     "output_type": "stream",
     "text": [
      "             precision    recall  f1-score   support\n",
      "\n",
      "          0       0.89      0.99      0.94      7159\n",
      "          1       0.07      0.01      0.02       347\n",
      "          2       0.00      0.00      0.00       174\n",
      "          3       0.00      0.00      0.00       103\n",
      "          4       0.00      0.00      0.00        50\n",
      "          5       0.00      0.00      0.00        27\n",
      "          6       0.00      0.00      0.00        29\n",
      "          7       0.00      0.00      0.00        27\n",
      "          8       0.00      0.00      0.00         9\n",
      "          9       0.00      0.00      0.00        10\n",
      "         10       0.00      0.00      0.00        10\n",
      "         11       0.00      0.00      0.00        11\n",
      "         12       0.00      0.00      0.00         6\n",
      "         13       0.00      0.00      0.00         6\n",
      "         14       0.00      0.00      0.00         4\n",
      "         15       0.00      0.00      0.00         3\n",
      "         16       0.00      0.00      0.00         2\n",
      "         17       0.00      0.00      0.00         8\n",
      "         18       0.00      0.00      0.00         2\n",
      "         19       0.00      0.00      0.00         4\n",
      "         20       0.00      0.00      0.00         2\n",
      "         21       0.00      0.00      0.00         3\n",
      "         22       0.00      0.00      0.00         3\n",
      "         23       0.00      0.00      0.00         1\n",
      "         24       0.00      0.00      0.00         2\n",
      "         25       0.00      0.00      0.00         1\n",
      "         27       0.00      0.00      0.00         1\n",
      "         28       0.00      0.00      0.00         2\n",
      "         30       0.00      0.00      0.00         2\n",
      "         31       0.00      0.00      0.00         1\n",
      "         32       0.00      0.00      0.00         1\n",
      "         35       0.00      0.00      0.00         1\n",
      "         40       0.00      0.00      0.00         1\n",
      "         45       0.00      0.00      0.00         1\n",
      "         46       0.00      0.00      0.00         1\n",
      "         56       0.00      0.00      0.00         1\n",
      "         57       0.00      0.00      0.00         1\n",
      "         65       0.00      0.00      0.00         1\n",
      "         71       0.00      0.00      0.00         1\n",
      "         81       0.00      0.00      0.00         1\n",
      "        150       0.00      0.00      0.00         1\n",
      "\n",
      "avg / total       0.80      0.89      0.84      8020\n",
      "\n"
     ]
    },
    {
     "name": "stderr",
     "output_type": "stream",
     "text": [
      "C:\\Users\\MaxVe\\Anaconda3\\lib\\site-packages\\sklearn\\metrics\\classification.py:1135: UndefinedMetricWarning: Precision and F-score are ill-defined and being set to 0.0 in labels with no predicted samples.\n",
      "  'precision', 'predicted', average, warn_for)\n"
     ]
    }
   ],
   "source": [
    "print(classification_report(y_te.astype('int'), y_pr.astype('int')))"
   ]
  },
  {
   "cell_type": "markdown",
   "metadata": {},
   "source": [
    "# Classification with XGBoost"
   ]
  },
  {
   "cell_type": "code",
   "execution_count": 166,
   "metadata": {
    "collapsed": true
   },
   "outputs": [],
   "source": [
    "#X = pd.concat([filter_columns(df1, 4), filter_columns(df2, 4)], axis=1)\n",
    "df_X = filter_columns(df2, 4)"
   ]
  },
  {
   "cell_type": "code",
   "execution_count": 167,
   "metadata": {
    "collapsed": true
   },
   "outputs": [],
   "source": [
    "X = df_X"
   ]
  },
  {
   "cell_type": "code",
   "execution_count": 168,
   "metadata": {},
   "outputs": [
    {
     "data": {
      "text/plain": [
       "(32079, 4711)"
      ]
     },
     "execution_count": 168,
     "metadata": {},
     "output_type": "execute_result"
    }
   ],
   "source": [
    "X.shape"
   ]
  },
  {
   "cell_type": "code",
   "execution_count": 169,
   "metadata": {
    "collapsed": true
   },
   "outputs": [],
   "source": [
    "X = StandardScaler().fit_transform(X)"
   ]
  },
  {
   "cell_type": "code",
   "execution_count": 170,
   "metadata": {
    "collapsed": true
   },
   "outputs": [],
   "source": [
    "y = df.support_group.astype('category')"
   ]
  },
  {
   "cell_type": "code",
   "execution_count": 171,
   "metadata": {
    "collapsed": true
   },
   "outputs": [],
   "source": [
    "y = np.array(y.cat.codes)"
   ]
  },
  {
   "cell_type": "code",
   "execution_count": 172,
   "metadata": {
    "collapsed": true
   },
   "outputs": [],
   "source": [
    "cls_xgbc = xgb.XGBClassifier(objective='binary:logistic')"
   ]
  },
  {
   "cell_type": "code",
   "execution_count": 173,
   "metadata": {
    "collapsed": true
   },
   "outputs": [],
   "source": [
    "X_tr, X_te, y_tr, y_te = train_test_split(X, y, test_size=0.25, random_state=123, shuffle=True, stratify=y)"
   ]
  },
  {
   "cell_type": "code",
   "execution_count": 174,
   "metadata": {},
   "outputs": [
    {
     "name": "stdout",
     "output_type": "stream",
     "text": [
      "done in 254 s.\n"
     ]
    }
   ],
   "source": [
    "start_time = time.time()\n",
    "cls_xgbc.fit(X_tr, y_tr)\n",
    "print(\"done in %0.f s.\" % (time.time() - start_time))"
   ]
  },
  {
   "cell_type": "code",
   "execution_count": 175,
   "metadata": {},
   "outputs": [
    {
     "data": {
      "text/plain": [
       "{'base_score': 0.5,\n",
       " 'colsample_bylevel': 1,\n",
       " 'colsample_bytree': 1,\n",
       " 'gamma': 0,\n",
       " 'learning_rate': 0.1,\n",
       " 'max_delta_step': 0,\n",
       " 'max_depth': 3,\n",
       " 'min_child_weight': 1,\n",
       " 'missing': None,\n",
       " 'n_estimators': 100,\n",
       " 'nthread': -1,\n",
       " 'objective': 'multi:softprob',\n",
       " 'reg_alpha': 0,\n",
       " 'reg_lambda': 1,\n",
       " 'scale_pos_weight': 1,\n",
       " 'seed': 0,\n",
       " 'silent': True,\n",
       " 'subsample': 1}"
      ]
     },
     "execution_count": 175,
     "metadata": {},
     "output_type": "execute_result"
    }
   ],
   "source": [
    "cls_xgbc.get_params()"
   ]
  },
  {
   "cell_type": "code",
   "execution_count": 176,
   "metadata": {},
   "outputs": [],
   "source": [
    "y_pr = cls_xgbc.predict(X_te)"
   ]
  },
  {
   "cell_type": "code",
   "execution_count": 177,
   "metadata": {},
   "outputs": [
    {
     "name": "stdout",
     "output_type": "stream",
     "text": [
      "                 precision    recall  f1-score   support\n",
      "\n",
      "      IT_ERP_BI       0.97      0.93      0.95      1879\n",
      "     IT_ERP_DWH       0.73      0.20      0.31       122\n",
      "     IT_ERP_ESB       0.88      0.67      0.76        86\n",
      "IT_ERP_HYPERION       0.90      0.29      0.44        31\n",
      "     IT_ERP_MDM       1.00      0.44      0.62        18\n",
      "   IT_ERP_POSDM       0.00      0.00      0.00         2\n",
      "     IT_ERP_SAP       0.96      0.99      0.98      5882\n",
      "\n",
      "    avg / total       0.96      0.96      0.95      8020\n",
      "\n"
     ]
    },
    {
     "name": "stderr",
     "output_type": "stream",
     "text": [
      "C:\\Users\\MaxVe\\Anaconda3\\lib\\site-packages\\sklearn\\metrics\\classification.py:1135: UndefinedMetricWarning: Precision and F-score are ill-defined and being set to 0.0 in labels with no predicted samples.\n",
      "  'precision', 'predicted', average, warn_for)\n"
     ]
    }
   ],
   "source": [
    "support_group_categories = df.support_group.astype('category').cat.categories\n",
    "print(classification_report(y_te, y_pr, target_names=support_group_categories))"
   ]
  },
  {
   "cell_type": "code",
   "execution_count": 178,
   "metadata": {},
   "outputs": [
    {
     "data": {
      "text/html": [
       "<div>\n",
       "<style>\n",
       "    .dataframe thead tr:only-child th {\n",
       "        text-align: right;\n",
       "    }\n",
       "\n",
       "    .dataframe thead th {\n",
       "        text-align: left;\n",
       "    }\n",
       "\n",
       "    .dataframe tbody tr th {\n",
       "        vertical-align: top;\n",
       "    }\n",
       "</style>\n",
       "<table border=\"1\" class=\"dataframe\">\n",
       "  <thead>\n",
       "    <tr style=\"text-align: right;\">\n",
       "      <th></th>\n",
       "      <th>IT_ERP_BI</th>\n",
       "      <th>IT_ERP_DWH</th>\n",
       "      <th>IT_ERP_ESB</th>\n",
       "      <th>IT_ERP_HYPERION</th>\n",
       "      <th>IT_ERP_MDM</th>\n",
       "      <th>IT_ERP_POSDM</th>\n",
       "      <th>IT_ERP_SAP</th>\n",
       "    </tr>\n",
       "  </thead>\n",
       "  <tbody>\n",
       "    <tr>\n",
       "      <th>IT_ERP_BI</th>\n",
       "      <td>1745</td>\n",
       "      <td>5</td>\n",
       "      <td>1</td>\n",
       "      <td>1</td>\n",
       "      <td>0</td>\n",
       "      <td>0</td>\n",
       "      <td>127</td>\n",
       "    </tr>\n",
       "    <tr>\n",
       "      <th>IT_ERP_DWH</th>\n",
       "      <td>15</td>\n",
       "      <td>24</td>\n",
       "      <td>2</td>\n",
       "      <td>0</td>\n",
       "      <td>0</td>\n",
       "      <td>0</td>\n",
       "      <td>81</td>\n",
       "    </tr>\n",
       "    <tr>\n",
       "      <th>IT_ERP_ESB</th>\n",
       "      <td>0</td>\n",
       "      <td>1</td>\n",
       "      <td>58</td>\n",
       "      <td>0</td>\n",
       "      <td>0</td>\n",
       "      <td>0</td>\n",
       "      <td>27</td>\n",
       "    </tr>\n",
       "    <tr>\n",
       "      <th>IT_ERP_HYPERION</th>\n",
       "      <td>5</td>\n",
       "      <td>0</td>\n",
       "      <td>0</td>\n",
       "      <td>9</td>\n",
       "      <td>0</td>\n",
       "      <td>0</td>\n",
       "      <td>17</td>\n",
       "    </tr>\n",
       "    <tr>\n",
       "      <th>IT_ERP_MDM</th>\n",
       "      <td>2</td>\n",
       "      <td>0</td>\n",
       "      <td>1</td>\n",
       "      <td>0</td>\n",
       "      <td>8</td>\n",
       "      <td>0</td>\n",
       "      <td>7</td>\n",
       "    </tr>\n",
       "    <tr>\n",
       "      <th>IT_ERP_POSDM</th>\n",
       "      <td>1</td>\n",
       "      <td>0</td>\n",
       "      <td>0</td>\n",
       "      <td>0</td>\n",
       "      <td>0</td>\n",
       "      <td>0</td>\n",
       "      <td>1</td>\n",
       "    </tr>\n",
       "    <tr>\n",
       "      <th>IT_ERP_SAP</th>\n",
       "      <td>24</td>\n",
       "      <td>3</td>\n",
       "      <td>4</td>\n",
       "      <td>0</td>\n",
       "      <td>0</td>\n",
       "      <td>0</td>\n",
       "      <td>5851</td>\n",
       "    </tr>\n",
       "  </tbody>\n",
       "</table>\n",
       "</div>"
      ],
      "text/plain": [
       "                 IT_ERP_BI  IT_ERP_DWH  IT_ERP_ESB  IT_ERP_HYPERION  \\\n",
       "IT_ERP_BI             1745           5           1                1   \n",
       "IT_ERP_DWH              15          24           2                0   \n",
       "IT_ERP_ESB               0           1          58                0   \n",
       "IT_ERP_HYPERION          5           0           0                9   \n",
       "IT_ERP_MDM               2           0           1                0   \n",
       "IT_ERP_POSDM             1           0           0                0   \n",
       "IT_ERP_SAP              24           3           4                0   \n",
       "\n",
       "                 IT_ERP_MDM  IT_ERP_POSDM  IT_ERP_SAP  \n",
       "IT_ERP_BI                 0             0         127  \n",
       "IT_ERP_DWH                0             0          81  \n",
       "IT_ERP_ESB                0             0          27  \n",
       "IT_ERP_HYPERION           0             0          17  \n",
       "IT_ERP_MDM                8             0           7  \n",
       "IT_ERP_POSDM              0             0           1  \n",
       "IT_ERP_SAP                0             0        5851  "
      ]
     },
     "execution_count": 178,
     "metadata": {},
     "output_type": "execute_result"
    }
   ],
   "source": [
    "pd.DataFrame(confusion_matrix(y_te, y_pr, labels=range(support_group_categories.shape[0])), \\\n",
    "             columns=support_group_categories, index=support_group_categories)"
   ]
  },
  {
   "cell_type": "code",
   "execution_count": 179,
   "metadata": {},
   "outputs": [
    {
     "data": {
      "text/plain": [
       "(4711,)"
      ]
     },
     "execution_count": 179,
     "metadata": {},
     "output_type": "execute_result"
    }
   ],
   "source": [
    "cls_xgbc.feature_importances_.shape"
   ]
  },
  {
   "cell_type": "code",
   "execution_count": 180,
   "metadata": {},
   "outputs": [],
   "source": [
    "df_feature_importances = pd.DataFrame(cls_xgbc.feature_importances_, columns=['importance'])"
   ]
  },
  {
   "cell_type": "code",
   "execution_count": 181,
   "metadata": {},
   "outputs": [],
   "source": [
    "df_feature_importances['feature'] = df_X.columns"
   ]
  },
  {
   "cell_type": "code",
   "execution_count": 182,
   "metadata": {},
   "outputs": [],
   "source": [
    "df_feature_importances.sort_values('importance', axis=0, ascending=True, inplace=True)"
   ]
  },
  {
   "cell_type": "code",
   "execution_count": 183,
   "metadata": {},
   "outputs": [
    {
     "data": {
      "text/html": [
       "<div>\n",
       "<style>\n",
       "    .dataframe thead tr:only-child th {\n",
       "        text-align: right;\n",
       "    }\n",
       "\n",
       "    .dataframe thead th {\n",
       "        text-align: left;\n",
       "    }\n",
       "\n",
       "    .dataframe tbody tr th {\n",
       "        vertical-align: top;\n",
       "    }\n",
       "</style>\n",
       "<table border=\"1\" class=\"dataframe\">\n",
       "  <thead>\n",
       "    <tr style=\"text-align: right;\">\n",
       "      <th></th>\n",
       "      <th>importance</th>\n",
       "    </tr>\n",
       "    <tr>\n",
       "      <th>feature</th>\n",
       "      <th></th>\n",
       "    </tr>\n",
       "  </thead>\n",
       "  <tbody>\n",
       "    <tr>\n",
       "      <th>отчет</th>\n",
       "      <td>0.020285</td>\n",
       "    </tr>\n",
       "    <tr>\n",
       "      <th>необходим</th>\n",
       "      <td>0.023026</td>\n",
       "    </tr>\n",
       "    <tr>\n",
       "      <th>сап</th>\n",
       "      <td>0.027412</td>\n",
       "    </tr>\n",
       "    <tr>\n",
       "      <th>прош</th>\n",
       "      <td>0.032895</td>\n",
       "    </tr>\n",
       "    <tr>\n",
       "      <th>sap</th>\n",
       "      <td>0.040570</td>\n",
       "    </tr>\n",
       "  </tbody>\n",
       "</table>\n",
       "</div>"
      ],
      "text/plain": [
       "           importance\n",
       "feature              \n",
       "отчет        0.020285\n",
       "необходим    0.023026\n",
       "сап          0.027412\n",
       "прош         0.032895\n",
       "sap          0.040570"
      ]
     },
     "execution_count": 183,
     "metadata": {},
     "output_type": "execute_result"
    }
   ],
   "source": [
    "df_feature_importances.set_index('feature')[-5:]"
   ]
  },
  {
   "cell_type": "code",
   "execution_count": 184,
   "metadata": {},
   "outputs": [
    {
     "data": {
      "text/plain": [
       "<matplotlib.axes._subplots.AxesSubplot at 0x1f203b46e48>"
      ]
     },
     "execution_count": 184,
     "metadata": {},
     "output_type": "execute_result"
    },
    {
     "data": {
      "image/png": "[encoded data removed]",
      "text/plain": [
       "<matplotlib.figure.Figure at 0x1f203b46320>"
      ]
     },
     "metadata": {},
     "output_type": "display_data"
    }
   ],
   "source": [
    "df_feature_importances.set_index('feature')[-16:].plot(kind='barh')"
   ]
  },
  {
   "cell_type": "code",
   "execution_count": null,
   "metadata": {},
   "outputs": [],
   "source": []
  },
  {
   "cell_type": "code",
   "execution_count": null,
   "metadata": {
    "collapsed": true
   },
   "outputs": [],
   "source": []
  }
 ],
 "metadata": {
  "kernelspec": {
   "display_name": "Python 3",
   "language": "python",
   "name": "python3"
  },
  "language_info": {
   "codemirror_mode": {
    "name": "ipython",
    "version": 3
   },
   "file_extension": ".py",
   "mimetype": "text/x-python",
   "name": "python",
   "nbconvert_exporter": "python",
   "pygments_lexer": "ipython3",
   "version": "3.6.3"
  }
 },
 "nbformat": 4,
 "nbformat_minor": 2
}
